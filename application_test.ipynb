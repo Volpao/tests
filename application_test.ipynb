{
 "cells": [
  {
   "cell_type": "markdown",
   "id": "ecad36fb",
   "metadata": {},
   "source": [
    "# FlavorWiki Test"
   ]
  },
  {
   "cell_type": "markdown",
   "id": "8408564a",
   "metadata": {},
   "source": [
    "The goal of any business is to make a profit. To achieve such a goal in our globalized world, every manufacturer shall listen to the consumers. \n",
    "A short study is made on WiKiFlavor dataset, in which observation on 5 different products (A, B, C, D, E) from 1000 different consumers are collected. \n",
    "\n",
    "**The purpose of this study** is to explore available data and find eventual insights on the products for their manufacturers.\n",
    "It  will include the following steps:\n",
    "* data overview and preprocessing \n",
    "* EDA\n",
    "* statistical analysis"
   ]
  },
  {
   "cell_type": "markdown",
   "id": "7df204d0",
   "metadata": {},
   "source": [
    "## Data Overview and Preprocessing\n",
    "\n"
   ]
  },
  {
   "cell_type": "code",
   "execution_count": 28,
   "id": "ed046b58",
   "metadata": {},
   "outputs": [],
   "source": [
    "import pandas as pd  # importing pandas\n",
    "import seaborn as sns # importing seaborn \n",
    "from scipy import stats as st # importing stats functions \n",
    "import seaborn as sns # importing seaborn for plotting\n",
    "import matplotlib.pyplot as plt  # importing matplotlib for plotting\n",
    "%matplotlib inline\n",
    "import warnings # importing warnings to avoid them\n",
    "warnings.simplefilter(\"ignore\")"
   ]
  },
  {
   "cell_type": "markdown",
   "id": "2a45e1a4",
   "metadata": {},
   "source": [
    "Let's make the first representation about the data:"
   ]
  },
  {
   "cell_type": "code",
   "execution_count": 29,
   "id": "7d068f91",
   "metadata": {},
   "outputs": [],
   "source": [
    "# reading csv file and saving to df\n",
    "try:\n",
    "    df = pd.read_csv(\"flavorwiki.csv\")\n",
    "except:\n",
    "     print('File not found') # if the path is not correct, an error message will be printed"
   ]
  },
  {
   "cell_type": "code",
   "execution_count": 30,
   "id": "99ee9f19",
   "metadata": {},
   "outputs": [
    {
     "data": {
      "text/plain": [
       "(1000, 34)"
      ]
     },
     "execution_count": 30,
     "metadata": {},
     "output_type": "execute_result"
    }
   ],
   "source": [
    "df.shape # getting general information on df"
   ]
  },
  {
   "cell_type": "markdown",
   "id": "af2270e9",
   "metadata": {},
   "source": [
    "As far as we can see, the dataset contains 1000 observations and 34 features, we shall check the data quality further as well as optimize the columns name, to make it easier to analyze the data."
   ]
  },
  {
   "cell_type": "code",
   "execution_count": 31,
   "id": "5b90a6f8",
   "metadata": {},
   "outputs": [],
   "source": [
    "# renaming the columns with the appropriate names\n",
    "df.columns = ['id', 'product', 'gender', 'gender_value', 'age', 'age_value', 'packaging_mark', \n",
    "              'packaging_mark_value', 'fun_score', 'convenient_score', 'familiar_score','cheap_score', \n",
    "              'boring_score', 'indifferent_score', 'plain_score', 'premium_score', 'buy_score', \n",
    "              'buy_score_value', 'appearance', 'appearance_value', 'seasoning',\n",
    "              'seasoning_value', 'overall_mark', 'overall_mark_value', 'like_flavor', 'like_flavor_value', \n",
    "              'flavor_mark', 'flavor_mark_value', 'texture_mark', 'texture_mark_value', 'aftertaste_mark',\n",
    "              'aftertaste_mark_value', 'buy_again', 'buy_again_value'\n",
    "             ]"
   ]
  },
  {
   "cell_type": "markdown",
   "id": "bae4d805",
   "metadata": {},
   "source": [
    "Next we will check the data for missing values and full duplicates that may negatively influence the results of our study:"
   ]
  },
  {
   "cell_type": "code",
   "execution_count": 32,
   "id": "f7ff7519",
   "metadata": {},
   "outputs": [
    {
     "data": {
      "text/plain": [
       "id                       0.000\n",
       "product                  0.000\n",
       "gender                   0.000\n",
       "gender_value             0.000\n",
       "age                      0.000\n",
       "age_value                0.000\n",
       "packaging_mark           0.000\n",
       "packaging_mark_value     0.000\n",
       "fun_score                0.000\n",
       "convenient_score         0.000\n",
       "familiar_score           0.000\n",
       "cheap_score              0.000\n",
       "boring_score             0.000\n",
       "indifferent_score        0.000\n",
       "plain_score              0.000\n",
       "premium_score            0.000\n",
       "buy_score                0.000\n",
       "buy_score_value          0.000\n",
       "appearance               0.000\n",
       "appearance_value         0.000\n",
       "seasoning                0.000\n",
       "seasoning_value          0.000\n",
       "overall_mark             0.098\n",
       "overall_mark_value       0.098\n",
       "like_flavor              0.000\n",
       "like_flavor_value        0.000\n",
       "flavor_mark              0.000\n",
       "flavor_mark_value        0.000\n",
       "texture_mark             0.000\n",
       "texture_mark_value       0.000\n",
       "aftertaste_mark          0.000\n",
       "aftertaste_mark_value    0.000\n",
       "buy_again                0.087\n",
       "buy_again_value          0.087\n",
       "dtype: float64"
      ]
     },
     "execution_count": 32,
     "metadata": {},
     "output_type": "execute_result"
    }
   ],
   "source": [
    "df.isna().mean() # checking the percentage of missing values in each column"
   ]
  },
  {
   "cell_type": "markdown",
   "id": "85be1a07",
   "metadata": {},
   "source": [
    "We have roughtly 10% of missing data regarding the overall mark and around 9% of such values in the 'buy_again' columns. Let's check if missing values in these 4 columns are somehow related:"
   ]
  },
  {
   "cell_type": "code",
   "execution_count": 33,
   "id": "c45d18dd",
   "metadata": {},
   "outputs": [
    {
     "data": {
      "text/plain": [
       "15"
      ]
     },
     "execution_count": 33,
     "metadata": {},
     "output_type": "execute_result"
    }
   ],
   "source": [
    "len(df[df['buy_again'].isna()&df['overall_mark'].isna()][['buy_again','overall_mark']]) # checking for relations about missing values"
   ]
  },
  {
   "cell_type": "markdown",
   "id": "5f6fad89",
   "metadata": {},
   "source": [
    "We could not find an evident relation regarding the missing values, since only 15 observations miss the answers for all 4 columns. Either some respondents did not answer some questions or there was a bug in the further data entry/dowloading."
   ]
  },
  {
   "cell_type": "code",
   "execution_count": 34,
   "id": "8ba14914",
   "metadata": {},
   "outputs": [
    {
     "data": {
      "text/plain": [
       "0"
      ]
     },
     "execution_count": 34,
     "metadata": {},
     "output_type": "execute_result"
    }
   ],
   "source": [
    "df.duplicated().sum() # checking the dataset for full duplicates"
   ]
  },
  {
   "cell_type": "markdown",
   "id": "bb390fcc",
   "metadata": {},
   "source": [
    "***Conclusions***\n",
    "As a result of data overview, we found out that essentially our data is a set of answers on 18 questions concerning the products received by 1000 respondents. Almost all questions repeat 2 times, and the answers are given in descriptive and mark values ways. Each respondent is unique and we have information about age, group and gender on them.\n",
    "We can state that the quality of the data is rather good: data types comply with the columns. there are no full duplicates, missing values are present in 4 out of 34 colums but their share (under 10%) is not critical, therefore we will not further preprocess them."
   ]
  },
  {
   "cell_type": "markdown",
   "id": "442bd7e7",
   "metadata": {},
   "source": [
    "## Exploratory Data Analysis"
   ]
  },
  {
   "cell_type": "markdown",
   "id": "8e1f0f58",
   "metadata": {},
   "source": [
    "We already found out about the dataset structure, now it's time to explore the contents of each features. First of all, we  shall have a look at unique values: this will help us to figure out the values range as well as to check for eventual anomalies."
   ]
  },
  {
   "cell_type": "code",
   "execution_count": 35,
   "id": "90367295",
   "metadata": {},
   "outputs": [
    {
     "name": "stdout",
     "output_type": "stream",
     "text": [
      "product the unique values are ['A' 'B' 'C' 'D' 'E']\n",
      "gender the unique values are ['Female' 'Male']\n",
      "gender_value the unique values are [2 1]\n",
      "age the unique values are ['35-44' '45-55' '18-34' '56-64']\n",
      "age_value the unique values are [3 4 2 5]\n",
      "packaging_mark the unique values are ['Neither Like nor Dislike (5)' 'Like Very Much (8)' 'Like Extremely (9)'\n",
      " 'Like Moderately (7)' 'Dislike Slightly (4)' 'Like Slightly (6)'\n",
      " 'Dislike Moderately (3)' 'Dislike Extremely (1)']\n",
      "packaging_mark_value the unique values are [5 8 9 7 4 6 3 1]\n",
      "fun_score the unique values are [8 7 6 9 5 3 4 2]\n",
      "convenient_score the unique values are [7 5 6 3 8 9 4 2]\n",
      "familiar_score the unique values are [3 6 8 7 2 4 5 9 1]\n",
      "cheap_score the unique values are [7 3 5 2 1 6 4 8]\n",
      "boring_score the unique values are [3 2 4 6 1 7 5 8]\n",
      "indifferent_score the unique values are [3 4 5 6 8 7 2 1 9]\n",
      "plain_score the unique values are [4 3 6 5 7 8 2 9 1]\n",
      "premium_score the unique values are [5 7 3 4 6 2 8 1 9]\n",
      "buy_score the unique values are ['Definitely would purchase (5)' 'Probably would purchase (4)'\n",
      " 'Might or might not purchase (3)' 'Probably would not purchase (2)'\n",
      " 'Definitely would not purchase (1)']\n",
      "buy_score_value the unique values are [5 4 3 2 1]\n",
      "appearance the unique values are ['Like Extremely (9)' 'Like Very Much (8)' 'Like Moderately (7)'\n",
      " 'Like Slightly (6)' 'Neither Like nor Dislike (5)' 'Dislike Slightly (4)'\n",
      " 'Dislike Very Much (2)' 'Dislike Extremely (1)' 'Dislike Moderately (3)']\n",
      "appearance_value the unique values are [9 8 7 6 5 4 2 1 3]\n",
      "seasoning the unique values are ['Somewhat too much (4)' 'Just about right (3)' 'Much too little (1)'\n",
      " 'Somewhat too little (2)' 'Much too much (5)']\n",
      "seasoning_value the unique values are [4 3 1 2 5]\n",
      "overall_mark the unique values are ['Like Slightly (6)' 'Like Very Much (8)' 'Like Extremely (9)' nan\n",
      " 'Neither Like nor Dislike (5)' 'Dislike Very Much (2)'\n",
      " 'Like Moderately (7)' 'Dislike Moderately (3)' 'Dislike Slightly (4)'\n",
      " 'Dislike Extremely (1)']\n",
      "overall_mark_value the unique values are [ 6.  8.  9. nan  5.  2.  7.  3.  4.  1.]\n",
      "like_flavor the unique values are ['Like Extremely (9)' 'Like Very Much (8)' 'Like Moderately (7)'\n",
      " 'Like Slightly (6)' 'Dislike Very Much (2)'\n",
      " 'Neither Like nor Dislike (5)' 'Dislike Moderately (3)'\n",
      " 'Dislike Slightly (4)' 'Dislike Extremely (1)']\n",
      "like_flavor_value the unique values are [9 8 7 6 2 5 3 4 1]\n",
      "flavor_mark the unique values are ['Slightly too strong (4)' 'Just about right (3)' 'Much too strong (5)'\n",
      " 'Not at all strong enough (1)' 'Not quite strong enough (2)']\n",
      "flavor_mark_value the unique values are [4 3 5 1 2]\n",
      "texture_mark the unique values are ['Like Extremely (9)' 'Like Very Much (8)' 'Like Moderately (7)'\n",
      " 'Neither Like nor Dislike (5)' 'Like Slightly (6)' 'Dislike Slightly (4)'\n",
      " 'Dislike Moderately (3)' 'Dislike Very Much (2)' 'Dislike Extremely (1)']\n",
      "texture_mark_value the unique values are [9 8 7 5 6 4 3 2 1]\n",
      "aftertaste_mark the unique values are ['Like Very Much (8)' 'Like Moderately (7)' 'Like Extremely (9)'\n",
      " 'Neither Like nor Dislike (5)' 'Like Slightly (6)'\n",
      " 'Dislike Moderately (3)' 'Dislike Slightly (4)' 'Dislike Very Much (2)'\n",
      " 'Dislike Extremely (1)']\n",
      "aftertaste_mark_value the unique values are [8 7 9 5 6 3 4 2 1]\n",
      "buy_again the unique values are ['Probably would purchase (4)' 'Definitely would purchase (5)' nan\n",
      " 'Might or might not purchase (3)' 'Definitely would not purchase (1)'\n",
      " 'Probably would not purchase (2)']\n",
      "buy_again_value the unique values are [ 4.  5. nan  3.  1.  2.]\n"
     ]
    }
   ],
   "source": [
    "# visualizing unique values per colums\n",
    "for col in df.drop(['id'], axis=1).columns:\n",
    "    print(f'{col} the unique values are {df[col].unique()}')"
   ]
  },
  {
   "cell_type": "code",
   "execution_count": 36,
   "id": "5ca433e2",
   "metadata": {},
   "outputs": [
    {
     "data": {
      "text/plain": [
       "A    200\n",
       "B    200\n",
       "C    200\n",
       "D    200\n",
       "E    200\n",
       "Name: product, dtype: int64"
      ]
     },
     "execution_count": 36,
     "metadata": {},
     "output_type": "execute_result"
    }
   ],
   "source": [
    "df['product'].value_counts() # checking the number of observations per product"
   ]
  },
  {
   "cell_type": "markdown",
   "id": "da8dec87",
   "metadata": {},
   "source": [
    "Generally speaking, no anomalous value was detected.\n",
    "We can state that the data is collected for 5 products, and the products were assessed both by females and males of 4 age groups from 18 to 64 years. The observations are divided evenly per product.\n",
    "We are also observing two scales from min to max as follows: from 1 to 5 for seasonality and purchase-matter questions and a widely used for food assessment hedonic scale from 1 to 9 for all other features.\n",
    "Since many columns have the same information, let's make our dataset less redundant:"
   ]
  },
  {
   "cell_type": "code",
   "execution_count": 37,
   "id": "b18026f4",
   "metadata": {},
   "outputs": [],
   "source": [
    "# dropping redundant columns\n",
    "df.drop(['gender_value', 'age_value','packaging_mark', 'buy_score', 'appearance', 'overall_mark','seasoning_value', \n",
    "         'like_flavor', 'flavor_mark_value', 'texture_mark_value', 'aftertaste_mark_value', 'buy_again'], axis=1, inplace=True)"
   ]
  },
  {
   "cell_type": "markdown",
   "id": "59bcc20c",
   "metadata": {},
   "source": [
    "Just a few words about our respondents: let's see the splits by gender and age and whether this somehow influeneces the products' scores. Let's test the overall score feature:"
   ]
  },
  {
   "cell_type": "code",
   "execution_count": 38,
   "id": "68ce4062",
   "metadata": {},
   "outputs": [
    {
     "data": {
      "text/plain": [
       "Female    86.5\n",
       "Male      13.5\n",
       "Name: gender, dtype: float64"
      ]
     },
     "execution_count": 38,
     "metadata": {},
     "output_type": "execute_result"
    }
   ],
   "source": [
    " df['gender'].value_counts()/len(df)*100 # the percentage of respondents by gender"
   ]
  },
  {
   "cell_type": "code",
   "execution_count": 39,
   "id": "a88ea6d5",
   "metadata": {},
   "outputs": [
    {
     "data": {
      "text/plain": [
       "35-44    35.8\n",
       "18-34    33.7\n",
       "45-55    23.7\n",
       "56-64     6.8\n",
       "Name: age, dtype: float64"
      ]
     },
     "execution_count": 39,
     "metadata": {},
     "output_type": "execute_result"
    }
   ],
   "source": [
    "df['age'].value_counts().sort_values(ascending=False)/len(df)*100 # the percentage of respondents by age group"
   ]
  },
  {
   "cell_type": "code",
   "execution_count": 40,
   "id": "ad92f9f3",
   "metadata": {},
   "outputs": [
    {
     "data": {
      "text/plain": [
       "gender  age  \n",
       "Female  18-34    7.501859\n",
       "        35-44    7.075601\n",
       "        45-55    7.327778\n",
       "        56-64    7.095238\n",
       "Male    18-34    7.175000\n",
       "        35-44    6.848485\n",
       "        45-55    6.333333\n",
       "        56-64    6.411765\n",
       "Name: overall_mark_value, dtype: float64"
      ]
     },
     "execution_count": 40,
     "metadata": {},
     "output_type": "execute_result"
    }
   ],
   "source": [
    "df.groupby(['gender', 'age'])['overall_mark_value'].mean() # average overall score by gender and age group"
   ]
  },
  {
   "cell_type": "markdown",
   "id": "e8772c91",
   "metadata": {},
   "source": [
    "Women higly prevail among respondents, while the age groups are divided evenly, with the exception of the senior people.\n",
    "We can also state that on average, young women give higher scores to the products, while senior males give the least ones: the difference is quite significant.\n",
    "\n",
    "Now let's move to the products which are the target of this study. We are going to hold on on the overall score, which seems to be one of the clue features and see how the main stats about it:"
   ]
  },
  {
   "cell_type": "code",
   "execution_count": 41,
   "id": "d3c5c6c7",
   "metadata": {},
   "outputs": [
    {
     "data": {
      "text/plain": [
       "count    902.000000\n",
       "mean       7.212860\n",
       "std        1.712762\n",
       "min        1.000000\n",
       "25%        7.000000\n",
       "50%        8.000000\n",
       "75%        8.000000\n",
       "max        9.000000\n",
       "Name: overall_mark_value, dtype: float64"
      ]
     },
     "execution_count": 41,
     "metadata": {},
     "output_type": "execute_result"
    }
   ],
   "source": [
    "df['overall_mark_value'].describe() # checking the colums stats"
   ]
  },
  {
   "cell_type": "markdown",
   "id": "11718cec",
   "metadata": {},
   "source": [
    "It looks like there is nothing to worry about: the mean and median are not far one from another, if we plot a histogram it would be definitely biased to the right, which is rather positive for our products, since there are many high scores.\n",
    "Since this study is just a review and there are many features in the dataset, let's concentrate on the most important amongst them: intuitive product features (i.e. appearance, packaging, flavor) and propensity to purchase before and after tasting: the last ones are crucial for manufacturers. We will also plot the features for a better understading."
   ]
  },
  {
   "cell_type": "code",
   "execution_count": 42,
   "id": "df607490",
   "metadata": {},
   "outputs": [],
   "source": [
    "# creating a pivot table with the main features\n",
    "main_scores = df.pivot_table(index=['product'], values=['buy_score_value', 'overall_mark_value', 'buy_again_value', \n",
    "                                                       'packaging_mark_value', 'appearance_value', 'like_flavor_value',], \n",
    "                             aggfunc=['mean']).reset_index()  # creating a summary pivot for both ta\n",
    "\n",
    "main_scores.columns = ['product', 'appearance', 'buy_again_value', 'buy_before_value', 'flavor', 'overall_score', 'packaging']\n",
    "column_order = ['product', 'appearance', 'packaging', 'flavor', 'overall_score', 'buy_before_value',  'buy_again_value']\n",
    "main_scores = main_scores.reindex(column_order, axis=1)"
   ]
  },
  {
   "cell_type": "code",
   "execution_count": 43,
   "id": "a6fc8437",
   "metadata": {},
   "outputs": [
    {
     "data": {
      "text/html": [
       "<div>\n",
       "<style scoped>\n",
       "    .dataframe tbody tr th:only-of-type {\n",
       "        vertical-align: middle;\n",
       "    }\n",
       "\n",
       "    .dataframe tbody tr th {\n",
       "        vertical-align: top;\n",
       "    }\n",
       "\n",
       "    .dataframe thead th {\n",
       "        text-align: right;\n",
       "    }\n",
       "</style>\n",
       "<table border=\"1\" class=\"dataframe\">\n",
       "  <thead>\n",
       "    <tr style=\"text-align: right;\">\n",
       "      <th></th>\n",
       "      <th>product</th>\n",
       "      <th>appearance</th>\n",
       "      <th>packaging</th>\n",
       "      <th>flavor</th>\n",
       "      <th>overall_score</th>\n",
       "      <th>buy_before_value</th>\n",
       "      <th>buy_again_value</th>\n",
       "    </tr>\n",
       "  </thead>\n",
       "  <tbody>\n",
       "    <tr>\n",
       "      <th>0</th>\n",
       "      <td>A</td>\n",
       "      <td>7.730</td>\n",
       "      <td>7.660</td>\n",
       "      <td>7.570</td>\n",
       "      <td>7.480874</td>\n",
       "      <td>3.810</td>\n",
       "      <td>3.938202</td>\n",
       "    </tr>\n",
       "    <tr>\n",
       "      <th>1</th>\n",
       "      <td>B</td>\n",
       "      <td>7.655</td>\n",
       "      <td>7.215</td>\n",
       "      <td>7.210</td>\n",
       "      <td>7.204420</td>\n",
       "      <td>3.970</td>\n",
       "      <td>4.048387</td>\n",
       "    </tr>\n",
       "    <tr>\n",
       "      <th>2</th>\n",
       "      <td>C</td>\n",
       "      <td>7.465</td>\n",
       "      <td>7.695</td>\n",
       "      <td>7.215</td>\n",
       "      <td>7.158470</td>\n",
       "      <td>3.380</td>\n",
       "      <td>3.551913</td>\n",
       "    </tr>\n",
       "    <tr>\n",
       "      <th>3</th>\n",
       "      <td>D</td>\n",
       "      <td>7.960</td>\n",
       "      <td>7.605</td>\n",
       "      <td>7.595</td>\n",
       "      <td>7.505618</td>\n",
       "      <td>4.155</td>\n",
       "      <td>4.285714</td>\n",
       "    </tr>\n",
       "    <tr>\n",
       "      <th>4</th>\n",
       "      <td>E</td>\n",
       "      <td>7.400</td>\n",
       "      <td>7.400</td>\n",
       "      <td>6.700</td>\n",
       "      <td>6.706215</td>\n",
       "      <td>3.160</td>\n",
       "      <td>3.184783</td>\n",
       "    </tr>\n",
       "  </tbody>\n",
       "</table>\n",
       "</div>"
      ],
      "text/plain": [
       "  product  appearance  packaging  flavor  overall_score  buy_before_value  \\\n",
       "0       A       7.730      7.660   7.570       7.480874             3.810   \n",
       "1       B       7.655      7.215   7.210       7.204420             3.970   \n",
       "2       C       7.465      7.695   7.215       7.158470             3.380   \n",
       "3       D       7.960      7.605   7.595       7.505618             4.155   \n",
       "4       E       7.400      7.400   6.700       6.706215             3.160   \n",
       "\n",
       "   buy_again_value  \n",
       "0         3.938202  \n",
       "1         4.048387  \n",
       "2         3.551913  \n",
       "3         4.285714  \n",
       "4         3.184783  "
      ]
     },
     "execution_count": 43,
     "metadata": {},
     "output_type": "execute_result"
    }
   ],
   "source": [
    "main_scores.head() # visualizing the result"
   ]
  },
  {
   "cell_type": "code",
   "execution_count": 44,
   "id": "d758767b",
   "metadata": {},
   "outputs": [
    {
     "data": {
      "image/png": "[encoded data removed]",
      "text/plain": [
       "<Figure size 1728x720 with 3 Axes>"
      ]
     },
     "metadata": {
      "needs_background": "light"
     },
     "output_type": "display_data"
    }
   ],
   "source": [
    "# plotting the barplots on average values: buy-before, overall_score and buy-after\n",
    "fig, axes = plt.subplots(1, 3, figsize=(24, 10))\n",
    "sns.barplot(data=main_scores, x=main_scores['product'], \n",
    "            y=main_scores['buy_before_value'], ax=axes[0])\n",
    "sns.barplot(data=main_scores, x=main_scores['product'],  y=main_scores['overall_score'], \n",
    "            ax=axes[1])\n",
    "sns.barplot(data=main_scores, x=main_scores['product'],  y=main_scores['buy_again_value'], \n",
    "            ax=axes[2])\n",
    "fig.suptitle('Main Scores by Product');"
   ]
  },
  {
   "cell_type": "markdown",
   "id": "92355741",
   "metadata": {},
   "source": [
    "Even if the difference among the 5 products as far as it regards the mean values is not so huge, we can clearly see that we have a \"winner\", which is product D, and an 'outsider', which is product E. A, B and C shift among themselves. Such trend is visible as far as it regards the propensity to buy before and after tasting as well as the overall score.\n",
    "\n",
    "Futher, let's analyze the difference in appearance, packaging and flavor among the 5 products, pie and donut charts will help us with it. We will check the split by the worst (1,2,3) and the best marks (7,8,9):"
   ]
  },
  {
   "cell_type": "code",
   "execution_count": 45,
   "id": "efe43ce5",
   "metadata": {},
   "outputs": [
    {
     "data": {
      "image/png": "[encoded data removed]",
      "text/plain": [
       "<Figure size 1728x720 with 2 Axes>"
      ]
     },
     "metadata": {},
     "output_type": "display_data"
    }
   ],
   "source": [
    "# plotting pie diagrams on flavor assessment\n",
    "\n",
    "fig, axes = plt.subplots(1, 2, figsize=(24, 10))\n",
    "axes[0].pie(df[df['like_flavor_value'].isin([7,8,9])]['product'].value_counts(), shadow=True,  radius=1,\n",
    "    explode=(0.05, 0.05, 0.05, 0.05, 0.05), labels=df[df['like_flavor_value'].isin([7, 8,9])]['product'].value_counts().index, autopct='%1.1f%%')\n",
    "axes[1].pie(df[df['like_flavor_value'].isin([1,2,3])]['product'].value_counts(), shadow=True, radius=1, \n",
    "            explode=(0.05, 0.05, 0.05, 0.05, 0.05), labels=df[df['like_flavor_value'].isin([1,2,3])]['product'].value_counts().index, autopct='%1.1f%%')\n",
    "axes[0].set_title('Flavor Best Scores', fontsize = 16)\n",
    "axes[1].set_title('Flavor Worst Scores', fontsize = 16)\n",
    "fig.suptitle('Flavor');"
   ]
  },
  {
   "cell_type": "code",
   "execution_count": 46,
   "id": "33e45b07",
   "metadata": {},
   "outputs": [
    {
     "data": {
      "image/png": "[encoded data removed]",
      "text/plain": [
       "<Figure size 1728x720 with 2 Axes>"
      ]
     },
     "metadata": {},
     "output_type": "display_data"
    }
   ],
   "source": [
    "# plotting donut diagrams on appearance assessment\n",
    "fig, axes = plt.subplots(1, 2, figsize=(24, 10))\n",
    "axes[0].pie(df[df['appearance_value'].isin([7,8,9])]['product'].value_counts(), \n",
    "            labels=df[df['appearance_value'].isin([7,8,9])]['product'].value_counts().index, autopct='%1.1f%%', wedgeprops={'width':0.3})\n",
    "axes[1].pie(df[df['appearance_value'].isin([1,2,3])]['product'].value_counts(), \n",
    "            labels=df[df['appearance_value'].isin([1,2,3])]['product'].value_counts().index, autopct='%1.1f%%', wedgeprops={'width':0.3},)\n",
    "axes[0].set_title('Appearance Best Scores', fontsize = 16)\n",
    "axes[1].set_title('Appearance Worst Scores', fontsize = 16)\n",
    "fig.suptitle('Appearance');"
   ]
  },
  {
   "cell_type": "code",
   "execution_count": 47,
   "id": "ead598b9",
   "metadata": {},
   "outputs": [
    {
     "data": {
      "image/png": "[encoded data removed]",
      "text/plain": [
       "<Figure size 1728x720 with 2 Axes>"
      ]
     },
     "metadata": {},
     "output_type": "display_data"
    }
   ],
   "source": [
    "# plotting pie diagrams on packaging assessment\n",
    "fig, axes = plt.subplots(1, 2, figsize=(24, 10))\n",
    "axes[0].pie(df[df['packaging_mark_value'].isin([7,8,9])]['product'].value_counts(), explode=(0.05, 0.05, 0.05, 0.05, 0.05),\n",
    "            labels=df[df['packaging_mark_value'].isin([7,8,9])]['product'].value_counts().index, autopct='%1.1f%%', wedgeprops={'width':0.3})\n",
    "axes[1].pie(df[df['packaging_mark_value'].isin([1,2,3])]['product'].value_counts(), explode=(0.05, 0.05, 0.05),\n",
    "            labels=df[df['packaging_mark_value'].isin([1,2,3])]['product'].value_counts().index, autopct='%1.1f%%', wedgeprops={'width':0.3},)\n",
    "axes[0].set_title('Packaging Best Scores', fontsize = 16)\n",
    "axes[1].set_title('Packaging Worst Scores', fontsize = 16)\n",
    "fig.suptitle('Packaging');"
   ]
  },
  {
   "cell_type": "markdown",
   "id": "16f72c50",
   "metadata": {},
   "source": [
    "After having analyzed the diagrams, we can state that the best scores for all three features are distributed evenly among the 5 products, while the worst scores do not: for instance, A, B, D products have no low appearance scores, A and C have only medium and high packaging scores. Flavor assesment is various but the low scores are not distributed evenly.\n",
    "Thus, we can deduce that being the winner for the product D and being the outsider for the product E is due to the fact, that the former received exclusively high scores, while the latter received almost the same percentage of high scores as well as a huge amount of low scores. Thus, the consumers do not have a shared vision regarding the product E.\n",
    "\n",
    "It would be logical to suppose that the single features assessment influences the overall score. Let's check how they correlate."
   ]
  },
  {
   "cell_type": "code",
   "execution_count": 48,
   "id": "3585ceb7",
   "metadata": {},
   "outputs": [
    {
     "data": {
      "text/html": [
       "<div>\n",
       "<style scoped>\n",
       "    .dataframe tbody tr th:only-of-type {\n",
       "        vertical-align: middle;\n",
       "    }\n",
       "\n",
       "    .dataframe tbody tr th {\n",
       "        vertical-align: top;\n",
       "    }\n",
       "\n",
       "    .dataframe thead th {\n",
       "        text-align: right;\n",
       "    }\n",
       "</style>\n",
       "<table border=\"1\" class=\"dataframe\">\n",
       "  <thead>\n",
       "    <tr style=\"text-align: right;\">\n",
       "      <th></th>\n",
       "      <th>like_flavor_value</th>\n",
       "      <th>packaging_mark_value</th>\n",
       "      <th>appearance_value</th>\n",
       "      <th>buy_score_value</th>\n",
       "    </tr>\n",
       "  </thead>\n",
       "  <tbody>\n",
       "    <tr>\n",
       "      <th>like_flavor_value</th>\n",
       "      <td>1.000000</td>\n",
       "      <td>0.404912</td>\n",
       "      <td>0.477340</td>\n",
       "      <td>0.483996</td>\n",
       "    </tr>\n",
       "    <tr>\n",
       "      <th>packaging_mark_value</th>\n",
       "      <td>0.404912</td>\n",
       "      <td>1.000000</td>\n",
       "      <td>0.493989</td>\n",
       "      <td>0.311488</td>\n",
       "    </tr>\n",
       "    <tr>\n",
       "      <th>appearance_value</th>\n",
       "      <td>0.477340</td>\n",
       "      <td>0.493989</td>\n",
       "      <td>1.000000</td>\n",
       "      <td>0.454259</td>\n",
       "    </tr>\n",
       "    <tr>\n",
       "      <th>buy_score_value</th>\n",
       "      <td>0.483996</td>\n",
       "      <td>0.311488</td>\n",
       "      <td>0.454259</td>\n",
       "      <td>1.000000</td>\n",
       "    </tr>\n",
       "  </tbody>\n",
       "</table>\n",
       "</div>"
      ],
      "text/plain": [
       "                      like_flavor_value  packaging_mark_value  \\\n",
       "like_flavor_value              1.000000              0.404912   \n",
       "packaging_mark_value           0.404912              1.000000   \n",
       "appearance_value               0.477340              0.493989   \n",
       "buy_score_value                0.483996              0.311488   \n",
       "\n",
       "                      appearance_value  buy_score_value  \n",
       "like_flavor_value             0.477340         0.483996  \n",
       "packaging_mark_value          0.493989         0.311488  \n",
       "appearance_value              1.000000         0.454259  \n",
       "buy_score_value               0.454259         1.000000  "
      ]
     },
     "execution_count": 48,
     "metadata": {},
     "output_type": "execute_result"
    }
   ],
   "source": [
    "df[['like_flavor_value', 'packaging_mark_value', 'appearance_value', 'buy_score_value']].corr() # cheching for correlation among the features"
   ]
  },
  {
   "cell_type": "code",
   "execution_count": 49,
   "id": "3d4784ad",
   "metadata": {},
   "outputs": [
    {
     "data": {
      "text/html": [
       "<div>\n",
       "<style scoped>\n",
       "    .dataframe tbody tr th:only-of-type {\n",
       "        vertical-align: middle;\n",
       "    }\n",
       "\n",
       "    .dataframe tbody tr th {\n",
       "        vertical-align: top;\n",
       "    }\n",
       "\n",
       "    .dataframe thead th {\n",
       "        text-align: right;\n",
       "    }\n",
       "</style>\n",
       "<table border=\"1\" class=\"dataframe\">\n",
       "  <thead>\n",
       "    <tr style=\"text-align: right;\">\n",
       "      <th></th>\n",
       "      <th>like_flavor_value</th>\n",
       "      <th>packaging_mark_value</th>\n",
       "      <th>appearance_value</th>\n",
       "      <th>overall_mark_value</th>\n",
       "    </tr>\n",
       "  </thead>\n",
       "  <tbody>\n",
       "    <tr>\n",
       "      <th>like_flavor_value</th>\n",
       "      <td>1.000000</td>\n",
       "      <td>0.404912</td>\n",
       "      <td>0.477340</td>\n",
       "      <td>0.890115</td>\n",
       "    </tr>\n",
       "    <tr>\n",
       "      <th>packaging_mark_value</th>\n",
       "      <td>0.404912</td>\n",
       "      <td>1.000000</td>\n",
       "      <td>0.493989</td>\n",
       "      <td>0.391236</td>\n",
       "    </tr>\n",
       "    <tr>\n",
       "      <th>appearance_value</th>\n",
       "      <td>0.477340</td>\n",
       "      <td>0.493989</td>\n",
       "      <td>1.000000</td>\n",
       "      <td>0.453442</td>\n",
       "    </tr>\n",
       "    <tr>\n",
       "      <th>overall_mark_value</th>\n",
       "      <td>0.890115</td>\n",
       "      <td>0.391236</td>\n",
       "      <td>0.453442</td>\n",
       "      <td>1.000000</td>\n",
       "    </tr>\n",
       "  </tbody>\n",
       "</table>\n",
       "</div>"
      ],
      "text/plain": [
       "                      like_flavor_value  packaging_mark_value  \\\n",
       "like_flavor_value              1.000000              0.404912   \n",
       "packaging_mark_value           0.404912              1.000000   \n",
       "appearance_value               0.477340              0.493989   \n",
       "overall_mark_value             0.890115              0.391236   \n",
       "\n",
       "                      appearance_value  overall_mark_value  \n",
       "like_flavor_value             0.477340            0.890115  \n",
       "packaging_mark_value          0.493989            0.391236  \n",
       "appearance_value              1.000000            0.453442  \n",
       "overall_mark_value            0.453442            1.000000  "
      ]
     },
     "execution_count": 49,
     "metadata": {},
     "output_type": "execute_result"
    }
   ],
   "source": [
    "df[['like_flavor_value', 'packaging_mark_value', 'appearance_value', 'overall_mark_value']].corr() # cheching for correlation among the features"
   ]
  },
  {
   "cell_type": "code",
   "execution_count": 50,
   "id": "55e3e3e4",
   "metadata": {},
   "outputs": [
    {
     "data": {
      "image/png": "[encoded data removed]",
      "text/plain": [
       "<Figure size 432x432 with 1 Axes>"
      ]
     },
     "metadata": {
      "needs_background": "light"
     },
     "output_type": "display_data"
    }
   ],
   "source": [
    "# plotting a scatter plot for flavor and overall score\n",
    "ax = df.plot(x='like_flavor_value', y='overall_mark_value', kind='scatter', color='red', grid=True,  figsize=(6,6), \n",
    "             title='Correlation Between Flavor and Overall Impression', xlabel='Flavor Marks', \n",
    "             ylabel='Overall Marks', s=50);"
   ]
  },
  {
   "cell_type": "markdown",
   "id": "9f672d7b",
   "metadata": {},
   "source": [
    "Before tasting, it would be logical to think that a product assesment shall correlate a lot with the packaging and appearance but seems like our respondents do not rely too much on these two features: there is a moderate positive correlation between the before-tasting score and them but we observe it also with the flavor, which was unknown before tasting.\n",
    "As expected, there is a positive high correlation between flavor and overall score: in roughly 89% of cases whther a product got high flavor score, it also got an overall high score. This is clearly visible on the scatter plot above. This seems to be logical: since we are speaking about food after tasting this feature is likely to be determinant for the overall assessment. \n",
    "Flavor factor has been positive for all products: looking back and comparing average scores before and after tasting we may notice the the latter scores are higher.\n",
    "Next let's analyze the crucial feature for us, repurchase scores:"
   ]
  },
  {
   "cell_type": "code",
   "execution_count": 51,
   "id": "e4b1bd51",
   "metadata": {},
   "outputs": [
    {
     "data": {
      "image/png": "[encoded data removed]",
      "text/plain": [
       "<Figure size 1152x864 with 1 Axes>"
      ]
     },
     "metadata": {},
     "output_type": "display_data"
    }
   ],
   "source": [
    "# plotting re-purchase trends per product\n",
    "sns.set(rc = {'figure.figsize':(16, 12)})\n",
    "sns.distplot(df[df['product']=='A']['buy_again_value'], color='yellow')\n",
    "sns.distplot(df[df['product']=='B']['buy_again_value'], color='red')\n",
    "sns.distplot(df[df['product']=='C']['buy_again_value'], color='green')\n",
    "sns.distplot(df[df['product']=='D']['buy_again_value'], color='blue')\n",
    "sns.distplot(df[df['product']=='E']['buy_again_value'], color='black')\n",
    "plt.xlabel('Scores') \n",
    "plt.title('Buy-Again Scores by Product')\n",
    "plt.legend(labels=['A', 'B', 'C', 'D', 'E']); "
   ]
  },
  {
   "cell_type": "markdown",
   "id": "dc338bb1",
   "metadata": {},
   "source": [
    "The distplot trends confirm what we said before: D product was assessed the highest and E product the lowest. In the middle there a B, A and C products.\n",
    "Since we do not have an additional information on the products, we could imagine two situations:\n",
    "* pruducts are manufactured by 5 different manufacturers, and in such case there are good news for the D manufacturer and bad ones for the E manufacturer.\n",
    "* products are produced by the same manufacturer, and if there is only one to choose/discharge it should be D and E products accordingly.\n",
    "\n",
    "**Conclusions**\n",
    "As a result of EDA, we found out that assessment scores are influenced by the age group and gender of respondents. We analyzied the scores of the main features, which seem consistent in terms of each product, found the leader and the outsider in our respondent's opinion as well as revelaed some significant positive correlations among the data."
   ]
  },
  {
   "cell_type": "markdown",
   "id": "368562df",
   "metadata": {},
   "source": [
    "## Statistical Analysis"
   ]
  },
  {
   "cell_type": "markdown",
   "id": "d42ad6e4",
   "metadata": {},
   "source": [
    "As usual in this study we don't have a way to analyze the whole general population of the consumers, we have seen only a sample of them made of 1000 respondents.\n",
    "Are our conclusions valid for the general population? Let's check this with the help of a statistical test. Thanks to the \n",
    "central limit theorem, which states that sample means are basically normally distributed as long as the sample size is at least 30, we may try to perform a t-test to check 2 a pair of hypotheses:\n",
    " - H0: The average consumer scores of the D and E products are equal;\n",
    " - H1: The average consumer scores of the D and E products differ.\n",
    "\n",
    "Our task is to compare the means of two independent populations based on the samples, so we will use the `scipy.stats.ttest_ind()` method, where the `equal_var = False` parameter, since the samples are of different sizes and there is no certainty that their variances are equal."
   ]
  },
  {
   "cell_type": "code",
   "execution_count": 52,
   "id": "d1e01bb2",
   "metadata": {},
   "outputs": [
    {
     "data": {
      "text/plain": [
       "182"
      ]
     },
     "execution_count": 52,
     "metadata": {},
     "output_type": "execute_result"
    }
   ],
   "source": [
    "D = df[df['product']=='D']['buy_again_value'].dropna() # selecting the D sample\n",
    "len(D) # checking if the sample size is enough for t-test"
   ]
  },
  {
   "cell_type": "code",
   "execution_count": 53,
   "id": "71ba2530",
   "metadata": {},
   "outputs": [
    {
     "data": {
      "text/plain": [
       "184"
      ]
     },
     "execution_count": 53,
     "metadata": {},
     "output_type": "execute_result"
    }
   ],
   "source": [
    "E = df[df['product']=='E']['buy_again_value'].dropna() # selecting the E sample\n",
    "len(E) # checking if the sample size is enough for t-test"
   ]
  },
  {
   "cell_type": "code",
   "execution_count": 54,
   "id": "2e131db8",
   "metadata": {},
   "outputs": [
    {
     "name": "stdout",
     "output_type": "stream",
     "text": [
      "p-value: 2.5306937693832786e-17\n",
      "Rejecting the null hypothesis\n"
     ]
    }
   ],
   "source": [
    "alpha = 0.05 # setting a significance level\n",
    "results = st.ttest_ind(D, E, equal_var = False) #  testing the hypotesis on equality of two independent populations means\n",
    "print('p-value:', results.pvalue)\n",
    "if results.pvalue < alpha:\n",
    "    print(\"Rejecting the null hypothesis\")\n",
    "else:\n",
    "    print(\"Failed to reject the null hypothesis\")"
   ]
  },
  {
   "cell_type": "markdown",
   "id": "21e21d3c",
   "metadata": {},
   "source": [
    "**Conclusions**\n",
    "T-test basically confirmed the results of EDA performed on the dataset: general population of consumers would assess D and E products in different ways, and would like D product the most. Thus, if we need to choose 1 out of A, B, C, D, E our choice would be the D products"
   ]
  },
  {
   "cell_type": "markdown",
   "id": "65b1ab39",
   "metadata": {},
   "source": [
    "## Study Results\n",
    "In this quick study we analyzed the given dataset on  assessment of 5 different products by 1000 people, taking into consideration various aspects of these products.\n",
    "We managed to reveal difference in assessment scores based on gender and age group of the respondents, correlation among the features sometimes, as well as compare more features' scores by product.\n",
    "The conclusion confiremd by the statistical test is that our winner is product D which gained the highed scores, while our outsider is the product E. For this reason, whether we have to choose or discharge only one product it should be D and E products accordingly."
   ]
  }
 ],
 "metadata": {
  "ExecuteTimeLog": [
   {
    "duration": 667,
    "start_time": "2022-03-08T15:34:14.246Z"
   },
   {
    "duration": 44,
    "start_time": "2022-03-08T15:34:38.925Z"
   },
   {
    "duration": 40,
    "start_time": "2022-03-08T15:34:39.882Z"
   },
   {
    "duration": 55,
    "start_time": "2022-03-08T15:34:49.258Z"
   },
   {
    "duration": 55,
    "start_time": "2022-03-08T15:35:23.556Z"
   },
   {
    "duration": 17,
    "start_time": "2022-03-08T15:46:17.513Z"
   },
   {
    "duration": 14,
    "start_time": "2022-03-08T15:46:52.976Z"
   },
   {
    "duration": 56,
    "start_time": "2022-03-08T15:49:44.344Z"
   },
   {
    "duration": 31,
    "start_time": "2022-03-08T15:52:03.568Z"
   },
   {
    "duration": 21,
    "start_time": "2022-03-08T15:55:13.609Z"
   },
   {
    "duration": 15,
    "start_time": "2022-03-08T15:55:29.176Z"
   },
   {
    "duration": 13,
    "start_time": "2022-03-08T15:55:39.020Z"
   },
   {
    "duration": 12,
    "start_time": "2022-03-08T15:55:54.155Z"
   },
   {
    "duration": 32,
    "start_time": "2022-03-08T16:03:58.644Z"
   },
   {
    "duration": 13,
    "start_time": "2022-03-08T16:05:29.577Z"
   },
   {
    "duration": 357,
    "start_time": "2022-03-08T16:08:53.653Z"
   },
   {
    "duration": 28,
    "start_time": "2022-03-08T16:09:22.196Z"
   },
   {
    "duration": 245,
    "start_time": "2022-03-08T16:10:05.863Z"
   },
   {
    "duration": 26,
    "start_time": "2022-03-08T16:10:21.729Z"
   },
   {
    "duration": 24,
    "start_time": "2022-03-08T16:11:28.314Z"
   },
   {
    "duration": 15,
    "start_time": "2022-03-08T16:13:46.039Z"
   },
   {
    "duration": 22,
    "start_time": "2022-03-08T16:20:36.997Z"
   },
   {
    "duration": 22,
    "start_time": "2022-03-08T16:21:00.502Z"
   },
   {
    "duration": 20,
    "start_time": "2022-03-08T16:21:11.356Z"
   },
   {
    "duration": 21,
    "start_time": "2022-03-08T16:22:44.768Z"
   },
   {
    "duration": 18,
    "start_time": "2022-03-08T16:23:04.185Z"
   },
   {
    "duration": 61,
    "start_time": "2022-03-08T16:23:16.270Z"
   },
   {
    "duration": 20,
    "start_time": "2022-03-08T16:23:16.333Z"
   },
   {
    "duration": 10,
    "start_time": "2022-03-08T16:27:47.184Z"
   },
   {
    "duration": 10,
    "start_time": "2022-03-08T16:27:48.569Z"
   },
   {
    "duration": 23,
    "start_time": "2022-03-08T16:31:29.349Z"
   },
   {
    "duration": 29,
    "start_time": "2022-03-08T16:40:11.762Z"
   },
   {
    "duration": 13,
    "start_time": "2022-03-08T16:43:03.827Z"
   },
   {
    "duration": 16,
    "start_time": "2022-03-08T16:50:12.822Z"
   },
   {
    "duration": 12,
    "start_time": "2022-03-08T16:51:08.365Z"
   },
   {
    "duration": 15,
    "start_time": "2022-03-08T16:55:50.479Z"
   },
   {
    "duration": 25,
    "start_time": "2022-03-08T16:56:45.138Z"
   },
   {
    "duration": 37,
    "start_time": "2022-03-08T16:56:52.361Z"
   },
   {
    "duration": 41,
    "start_time": "2022-03-08T16:58:09.738Z"
   },
   {
    "duration": 4526,
    "start_time": "2022-03-08T17:00:42.767Z"
   },
   {
    "duration": 4486,
    "start_time": "2022-03-08T17:02:59.102Z"
   },
   {
    "duration": 58,
    "start_time": "2022-03-08T17:03:32.191Z"
   },
   {
    "duration": 62,
    "start_time": "2022-03-08T17:09:27.759Z"
   },
   {
    "duration": 21,
    "start_time": "2022-03-08T17:09:27.824Z"
   },
   {
    "duration": 30,
    "start_time": "2022-03-08T17:09:27.979Z"
   },
   {
    "duration": 14,
    "start_time": "2022-03-08T17:09:28.012Z"
   },
   {
    "duration": 78,
    "start_time": "2022-03-08T17:09:28.028Z"
   },
   {
    "duration": 5,
    "start_time": "2022-03-08T17:13:58.107Z"
   },
   {
    "duration": 6,
    "start_time": "2022-03-08T17:14:05.436Z"
   },
   {
    "duration": 6,
    "start_time": "2022-03-08T17:14:22.178Z"
   },
   {
    "duration": 61,
    "start_time": "2022-03-08T17:14:46.655Z"
   },
   {
    "duration": 21,
    "start_time": "2022-03-08T17:14:46.718Z"
   },
   {
    "duration": 36,
    "start_time": "2022-03-08T17:14:46.741Z"
   },
   {
    "duration": 13,
    "start_time": "2022-03-08T17:14:46.778Z"
   },
   {
    "duration": 82,
    "start_time": "2022-03-08T17:14:46.813Z"
   },
   {
    "duration": 7,
    "start_time": "2022-03-08T17:14:46.898Z"
   },
   {
    "duration": 190,
    "start_time": "2022-03-08T17:15:14.389Z"
   },
   {
    "duration": 11,
    "start_time": "2022-03-08T17:15:23.488Z"
   },
   {
    "duration": 12,
    "start_time": "2022-03-08T17:15:54.694Z"
   },
   {
    "duration": 12,
    "start_time": "2022-03-08T17:16:03.402Z"
   },
   {
    "duration": 8,
    "start_time": "2022-03-08T17:16:51.157Z"
   },
   {
    "duration": 12,
    "start_time": "2022-03-08T17:17:44.640Z"
   },
   {
    "duration": 19,
    "start_time": "2022-03-08T17:20:44.148Z"
   },
   {
    "duration": 743,
    "start_time": "2022-03-09T07:35:42.722Z"
   },
   {
    "duration": 18,
    "start_time": "2022-03-09T07:35:43.467Z"
   },
   {
    "duration": 23,
    "start_time": "2022-03-09T07:35:43.486Z"
   },
   {
    "duration": 11,
    "start_time": "2022-03-09T07:35:43.510Z"
   },
   {
    "duration": 80,
    "start_time": "2022-03-09T07:35:43.522Z"
   },
   {
    "duration": 14,
    "start_time": "2022-03-09T07:35:43.603Z"
   },
   {
    "duration": 197,
    "start_time": "2022-03-09T07:35:43.619Z"
   },
   {
    "duration": 55,
    "start_time": "2022-03-09T07:35:56.589Z"
   },
   {
    "duration": 18,
    "start_time": "2022-03-09T07:35:56.645Z"
   },
   {
    "duration": 39,
    "start_time": "2022-03-09T07:35:56.665Z"
   },
   {
    "duration": 10,
    "start_time": "2022-03-09T07:35:56.706Z"
   },
   {
    "duration": 58,
    "start_time": "2022-03-09T07:35:56.718Z"
   },
   {
    "duration": 35,
    "start_time": "2022-03-09T07:35:56.777Z"
   },
   {
    "duration": 16,
    "start_time": "2022-03-09T07:35:56.814Z"
   },
   {
    "duration": 5,
    "start_time": "2022-03-09T08:00:43.756Z"
   },
   {
    "duration": 1428,
    "start_time": "2022-03-09T08:12:01.438Z"
   },
   {
    "duration": 149,
    "start_time": "2022-03-09T08:12:24.028Z"
   },
   {
    "duration": 162,
    "start_time": "2022-03-09T08:12:38.873Z"
   },
   {
    "duration": 157,
    "start_time": "2022-03-09T08:13:22.396Z"
   },
   {
    "duration": 161,
    "start_time": "2022-03-09T08:14:13.402Z"
   },
   {
    "duration": 66,
    "start_time": "2022-03-09T08:14:48.413Z"
   },
   {
    "duration": 19,
    "start_time": "2022-03-09T08:14:48.481Z"
   },
   {
    "duration": 25,
    "start_time": "2022-03-09T08:14:48.502Z"
   },
   {
    "duration": 12,
    "start_time": "2022-03-09T08:14:48.529Z"
   },
   {
    "duration": 83,
    "start_time": "2022-03-09T08:14:48.543Z"
   },
   {
    "duration": 14,
    "start_time": "2022-03-09T08:14:48.628Z"
   },
   {
    "duration": 25,
    "start_time": "2022-03-09T08:14:48.643Z"
   },
   {
    "duration": 201,
    "start_time": "2022-03-09T08:14:48.670Z"
   },
   {
    "duration": 1230,
    "start_time": "2022-03-09T08:15:41.094Z"
   },
   {
    "duration": 179,
    "start_time": "2022-03-09T08:23:47.339Z"
   },
   {
    "duration": 19,
    "start_time": "2022-03-09T08:25:32.427Z"
   },
   {
    "duration": 19,
    "start_time": "2022-03-09T08:25:57.332Z"
   },
   {
    "duration": 331,
    "start_time": "2022-03-09T09:38:33.598Z"
   },
   {
    "duration": 293,
    "start_time": "2022-03-09T09:38:43.072Z"
   },
   {
    "duration": 16,
    "start_time": "2022-03-09T09:38:59.531Z"
   },
   {
    "duration": 15,
    "start_time": "2022-03-09T09:39:02.904Z"
   },
   {
    "duration": 25,
    "start_time": "2022-03-09T09:39:24.812Z"
   },
   {
    "duration": 11,
    "start_time": "2022-03-09T09:42:07.475Z"
   },
   {
    "duration": 93,
    "start_time": "2022-03-09T09:42:24.726Z"
   },
   {
    "duration": 761,
    "start_time": "2022-03-09T09:42:34.730Z"
   },
   {
    "duration": 769,
    "start_time": "2022-03-09T09:42:47.259Z"
   },
   {
    "duration": 814,
    "start_time": "2022-03-09T09:43:02.898Z"
   },
   {
    "duration": 295,
    "start_time": "2022-03-09T09:43:25.199Z"
   },
   {
    "duration": 35,
    "start_time": "2022-03-09T09:43:38.341Z"
   },
   {
    "duration": 11,
    "start_time": "2022-03-09T09:48:54.516Z"
   },
   {
    "duration": 11,
    "start_time": "2022-03-09T09:49:05.247Z"
   },
   {
    "duration": 23,
    "start_time": "2022-03-09T09:49:26.359Z"
   },
   {
    "duration": 12,
    "start_time": "2022-03-09T09:51:52.412Z"
   },
   {
    "duration": 12,
    "start_time": "2022-03-09T09:52:02.595Z"
   },
   {
    "duration": 105,
    "start_time": "2022-03-09T09:52:51.862Z"
   },
   {
    "duration": 308,
    "start_time": "2022-03-09T09:53:01.865Z"
   },
   {
    "duration": 13,
    "start_time": "2022-03-09T09:54:14.933Z"
   },
   {
    "duration": 7454,
    "start_time": "2022-03-09T09:58:38.132Z"
   },
   {
    "duration": 78,
    "start_time": "2022-03-09T09:59:05.667Z"
   },
   {
    "duration": 26,
    "start_time": "2022-03-09T09:59:05.747Z"
   },
   {
    "duration": 36,
    "start_time": "2022-03-09T09:59:05.775Z"
   },
   {
    "duration": 12,
    "start_time": "2022-03-09T09:59:05.812Z"
   },
   {
    "duration": 86,
    "start_time": "2022-03-09T09:59:05.825Z"
   },
   {
    "duration": 16,
    "start_time": "2022-03-09T09:59:05.913Z"
   },
   {
    "duration": 18,
    "start_time": "2022-03-09T09:59:05.930Z"
   },
   {
    "duration": 50,
    "start_time": "2022-03-09T09:59:05.951Z"
   },
   {
    "duration": 11,
    "start_time": "2022-03-09T09:59:06.003Z"
   },
   {
    "duration": 33,
    "start_time": "2022-03-09T10:00:09.487Z"
   },
   {
    "duration": 119,
    "start_time": "2022-03-09T10:03:33.655Z"
   },
   {
    "duration": 18,
    "start_time": "2022-03-09T10:03:40.220Z"
   },
   {
    "duration": 17,
    "start_time": "2022-03-09T10:04:35.617Z"
   },
   {
    "duration": 28,
    "start_time": "2022-03-09T10:14:33.587Z"
   },
   {
    "duration": 40,
    "start_time": "2022-03-09T10:15:53.935Z"
   },
   {
    "duration": 60,
    "start_time": "2022-03-09T10:17:04.751Z"
   },
   {
    "duration": 57,
    "start_time": "2022-03-09T10:24:01.931Z"
   },
   {
    "duration": 137,
    "start_time": "2022-03-09T10:26:10.605Z"
   },
   {
    "duration": 69,
    "start_time": "2022-03-09T10:26:25.196Z"
   },
   {
    "duration": 58,
    "start_time": "2022-03-09T10:26:47.064Z"
   },
   {
    "duration": 61,
    "start_time": "2022-03-09T10:29:04.203Z"
   },
   {
    "duration": 58,
    "start_time": "2022-03-09T10:29:58.009Z"
   },
   {
    "duration": 60,
    "start_time": "2022-03-09T10:32:55.491Z"
   },
   {
    "duration": 7545,
    "start_time": "2022-03-09T10:43:37.987Z"
   },
   {
    "duration": 56,
    "start_time": "2022-03-09T10:44:08.219Z"
   },
   {
    "duration": 17,
    "start_time": "2022-03-09T10:44:08.277Z"
   },
   {
    "duration": 25,
    "start_time": "2022-03-09T10:44:08.296Z"
   },
   {
    "duration": 11,
    "start_time": "2022-03-09T10:44:08.323Z"
   },
   {
    "duration": 88,
    "start_time": "2022-03-09T10:44:08.336Z"
   },
   {
    "duration": 15,
    "start_time": "2022-03-09T10:44:08.425Z"
   },
   {
    "duration": 20,
    "start_time": "2022-03-09T10:44:08.442Z"
   },
   {
    "duration": 48,
    "start_time": "2022-03-09T10:44:08.464Z"
   },
   {
    "duration": 90,
    "start_time": "2022-03-09T10:44:08.514Z"
   },
   {
    "duration": 113,
    "start_time": "2022-03-09T10:57:53.322Z"
   },
   {
    "duration": 662,
    "start_time": "2022-03-09T15:12:32.045Z"
   },
   {
    "duration": 21,
    "start_time": "2022-03-09T15:21:47.294Z"
   },
   {
    "duration": 19,
    "start_time": "2022-03-09T15:27:57.697Z"
   },
   {
    "duration": 62,
    "start_time": "2022-03-09T15:28:05.579Z"
   },
   {
    "duration": 18,
    "start_time": "2022-03-09T15:28:05.643Z"
   },
   {
    "duration": 28,
    "start_time": "2022-03-09T15:28:05.663Z"
   },
   {
    "duration": 11,
    "start_time": "2022-03-09T15:28:05.693Z"
   },
   {
    "duration": 100,
    "start_time": "2022-03-09T15:28:05.706Z"
   },
   {
    "duration": 37,
    "start_time": "2022-03-09T15:28:05.808Z"
   },
   {
    "duration": 20,
    "start_time": "2022-03-09T15:28:05.847Z"
   },
   {
    "duration": 20,
    "start_time": "2022-03-09T15:28:05.869Z"
   },
   {
    "duration": 99,
    "start_time": "2022-03-09T15:28:05.891Z"
   },
   {
    "duration": 62,
    "start_time": "2022-03-09T16:02:55.436Z"
   },
   {
    "duration": 54,
    "start_time": "2022-03-09T16:09:56.757Z"
   },
   {
    "duration": 55,
    "start_time": "2022-03-09T16:10:23.085Z"
   },
   {
    "duration": 64,
    "start_time": "2022-03-09T16:10:45.660Z"
   },
   {
    "duration": 62,
    "start_time": "2022-03-09T16:10:54.414Z"
   },
   {
    "duration": 49,
    "start_time": "2022-03-09T16:11:12.138Z"
   },
   {
    "duration": 53,
    "start_time": "2022-03-09T16:11:26.730Z"
   },
   {
    "duration": 69,
    "start_time": "2022-03-09T16:13:02.845Z"
   },
   {
    "duration": 52,
    "start_time": "2022-03-09T16:14:43.797Z"
   },
   {
    "duration": 56,
    "start_time": "2022-03-09T16:15:18.751Z"
   },
   {
    "duration": 50,
    "start_time": "2022-03-09T16:15:30.432Z"
   },
   {
    "duration": 51,
    "start_time": "2022-03-09T16:15:35.276Z"
   },
   {
    "duration": 281,
    "start_time": "2022-03-09T16:16:57.235Z"
   },
   {
    "duration": 48,
    "start_time": "2022-03-09T16:17:04.936Z"
   },
   {
    "duration": 67,
    "start_time": "2022-03-09T16:17:34.450Z"
   },
   {
    "duration": 105,
    "start_time": "2022-03-09T16:43:34.459Z"
   },
   {
    "duration": 15,
    "start_time": "2022-03-09T16:53:12.332Z"
   },
   {
    "duration": 9,
    "start_time": "2022-03-09T16:56:23.830Z"
   },
   {
    "duration": 21,
    "start_time": "2022-03-09T17:07:16.034Z"
   },
   {
    "duration": 58,
    "start_time": "2022-03-09T17:20:04.571Z"
   },
   {
    "duration": 205,
    "start_time": "2022-03-09T17:28:10.818Z"
   },
   {
    "duration": 60,
    "start_time": "2022-03-09T17:28:37.253Z"
   },
   {
    "duration": 14,
    "start_time": "2022-03-09T17:28:37.314Z"
   },
   {
    "duration": 8,
    "start_time": "2022-03-09T17:28:37.330Z"
   },
   {
    "duration": 20,
    "start_time": "2022-03-09T17:28:37.340Z"
   },
   {
    "duration": 16,
    "start_time": "2022-03-09T17:28:37.361Z"
   },
   {
    "duration": 98,
    "start_time": "2022-03-09T17:28:37.379Z"
   },
   {
    "duration": 16,
    "start_time": "2022-03-09T17:28:37.479Z"
   },
   {
    "duration": 49,
    "start_time": "2022-03-09T17:28:37.497Z"
   },
   {
    "duration": 22,
    "start_time": "2022-03-09T17:28:37.548Z"
   },
   {
    "duration": 93,
    "start_time": "2022-03-09T17:28:37.571Z"
   },
   {
    "duration": 654,
    "start_time": "2022-03-10T08:27:02.883Z"
   },
   {
    "duration": 14,
    "start_time": "2022-03-10T08:27:03.538Z"
   },
   {
    "duration": 10,
    "start_time": "2022-03-10T08:27:03.554Z"
   },
   {
    "duration": 36,
    "start_time": "2022-03-10T08:27:03.566Z"
   },
   {
    "duration": 17,
    "start_time": "2022-03-10T08:27:03.603Z"
   },
   {
    "duration": 96,
    "start_time": "2022-03-10T08:27:03.622Z"
   },
   {
    "duration": 14,
    "start_time": "2022-03-10T08:27:03.720Z"
   },
   {
    "duration": 14,
    "start_time": "2022-03-10T08:27:03.736Z"
   },
   {
    "duration": 19,
    "start_time": "2022-03-10T08:27:03.751Z"
   },
   {
    "duration": 438,
    "start_time": "2022-03-10T08:27:03.771Z"
   },
   {
    "duration": 96,
    "start_time": "2022-03-10T08:27:53.724Z"
   },
   {
    "duration": 15,
    "start_time": "2022-03-10T08:28:19.883Z"
   },
   {
    "duration": 21,
    "start_time": "2022-03-10T08:29:21.248Z"
   },
   {
    "duration": 14,
    "start_time": "2022-03-10T08:29:37.885Z"
   },
   {
    "duration": 21,
    "start_time": "2022-03-10T08:33:12.109Z"
   },
   {
    "duration": 7446,
    "start_time": "2022-03-10T08:47:53.539Z"
   },
   {
    "duration": 34,
    "start_time": "2022-03-10T08:55:56.335Z"
   },
   {
    "duration": 63,
    "start_time": "2022-03-10T08:56:03.508Z"
   },
   {
    "duration": 12,
    "start_time": "2022-03-10T08:56:03.573Z"
   },
   {
    "duration": 8,
    "start_time": "2022-03-10T08:56:03.587Z"
   },
   {
    "duration": 18,
    "start_time": "2022-03-10T08:56:03.624Z"
   },
   {
    "duration": 16,
    "start_time": "2022-03-10T08:56:03.644Z"
   },
   {
    "duration": 32,
    "start_time": "2022-03-10T08:56:03.662Z"
   },
   {
    "duration": 37,
    "start_time": "2022-03-10T08:56:03.696Z"
   },
   {
    "duration": 14,
    "start_time": "2022-03-10T08:56:03.734Z"
   },
   {
    "duration": 21,
    "start_time": "2022-03-10T08:56:03.749Z"
   },
   {
    "duration": 45,
    "start_time": "2022-03-10T08:56:03.771Z"
   },
   {
    "duration": 63,
    "start_time": "2022-03-10T08:56:03.818Z"
   },
   {
    "duration": 7627,
    "start_time": "2022-03-10T08:57:53.559Z"
   },
   {
    "duration": 43,
    "start_time": "2022-03-10T08:59:08.955Z"
   },
   {
    "duration": 62,
    "start_time": "2022-03-10T08:59:18.078Z"
   },
   {
    "duration": 11,
    "start_time": "2022-03-10T08:59:18.142Z"
   },
   {
    "duration": 7,
    "start_time": "2022-03-10T08:59:18.155Z"
   },
   {
    "duration": 39,
    "start_time": "2022-03-10T08:59:18.163Z"
   },
   {
    "duration": 22,
    "start_time": "2022-03-10T08:59:18.204Z"
   },
   {
    "duration": 36,
    "start_time": "2022-03-10T08:59:18.228Z"
   },
   {
    "duration": 59,
    "start_time": "2022-03-10T08:59:18.266Z"
   },
   {
    "duration": 13,
    "start_time": "2022-03-10T08:59:18.326Z"
   },
   {
    "duration": 17,
    "start_time": "2022-03-10T08:59:18.341Z"
   },
   {
    "duration": 52,
    "start_time": "2022-03-10T08:59:18.359Z"
   },
   {
    "duration": 62,
    "start_time": "2022-03-10T08:59:18.413Z"
   },
   {
    "duration": 42,
    "start_time": "2022-03-10T08:59:39.434Z"
   },
   {
    "duration": 11,
    "start_time": "2022-03-10T09:00:23.840Z"
   },
   {
    "duration": 21,
    "start_time": "2022-03-10T09:00:34.992Z"
   },
   {
    "duration": 54,
    "start_time": "2022-03-10T09:00:42.400Z"
   },
   {
    "duration": 12,
    "start_time": "2022-03-10T09:00:42.455Z"
   },
   {
    "duration": 7,
    "start_time": "2022-03-10T09:00:42.469Z"
   },
   {
    "duration": 26,
    "start_time": "2022-03-10T09:00:42.478Z"
   },
   {
    "duration": 16,
    "start_time": "2022-03-10T09:00:42.520Z"
   },
   {
    "duration": 21,
    "start_time": "2022-03-10T09:00:42.538Z"
   },
   {
    "duration": 54,
    "start_time": "2022-03-10T09:00:42.561Z"
   },
   {
    "duration": 15,
    "start_time": "2022-03-10T09:00:42.616Z"
   },
   {
    "duration": 18,
    "start_time": "2022-03-10T09:00:42.639Z"
   },
   {
    "duration": 24,
    "start_time": "2022-03-10T09:00:42.659Z"
   },
   {
    "duration": 65,
    "start_time": "2022-03-10T09:00:42.701Z"
   },
   {
    "duration": 36,
    "start_time": "2022-03-10T09:03:05.606Z"
   },
   {
    "duration": 33,
    "start_time": "2022-03-10T09:03:11.342Z"
   },
   {
    "duration": 66,
    "start_time": "2022-03-10T09:03:20.741Z"
   },
   {
    "duration": 14,
    "start_time": "2022-03-10T09:03:20.808Z"
   },
   {
    "duration": 8,
    "start_time": "2022-03-10T09:03:20.824Z"
   },
   {
    "duration": 19,
    "start_time": "2022-03-10T09:03:20.833Z"
   },
   {
    "duration": 17,
    "start_time": "2022-03-10T09:03:20.948Z"
   },
   {
    "duration": 34,
    "start_time": "2022-03-10T09:03:20.967Z"
   },
   {
    "duration": 36,
    "start_time": "2022-03-10T09:03:21.003Z"
   },
   {
    "duration": 15,
    "start_time": "2022-03-10T09:03:21.041Z"
   },
   {
    "duration": 49,
    "start_time": "2022-03-10T09:03:21.057Z"
   },
   {
    "duration": 21,
    "start_time": "2022-03-10T09:03:21.159Z"
   },
   {
    "duration": 62,
    "start_time": "2022-03-10T09:03:21.182Z"
   },
   {
    "duration": 40,
    "start_time": "2022-03-10T09:03:36.919Z"
   },
   {
    "duration": 38,
    "start_time": "2022-03-10T09:05:40.182Z"
   },
   {
    "duration": 67,
    "start_time": "2022-03-10T09:05:46.306Z"
   },
   {
    "duration": 13,
    "start_time": "2022-03-10T09:05:46.375Z"
   },
   {
    "duration": 7,
    "start_time": "2022-03-10T09:05:46.390Z"
   },
   {
    "duration": 20,
    "start_time": "2022-03-10T09:05:46.399Z"
   },
   {
    "duration": 17,
    "start_time": "2022-03-10T09:05:46.459Z"
   },
   {
    "duration": 40,
    "start_time": "2022-03-10T09:05:46.478Z"
   },
   {
    "duration": 38,
    "start_time": "2022-03-10T09:05:46.519Z"
   },
   {
    "duration": 15,
    "start_time": "2022-03-10T09:05:46.559Z"
   },
   {
    "duration": 19,
    "start_time": "2022-03-10T09:05:46.602Z"
   },
   {
    "duration": 23,
    "start_time": "2022-03-10T09:05:46.623Z"
   },
   {
    "duration": 98,
    "start_time": "2022-03-10T09:05:46.647Z"
   },
   {
    "duration": 67,
    "start_time": "2022-03-10T09:06:29.540Z"
   },
   {
    "duration": 12,
    "start_time": "2022-03-10T09:06:29.609Z"
   },
   {
    "duration": 7,
    "start_time": "2022-03-10T09:06:29.623Z"
   },
   {
    "duration": 19,
    "start_time": "2022-03-10T09:06:29.631Z"
   },
   {
    "duration": 17,
    "start_time": "2022-03-10T09:06:29.656Z"
   },
   {
    "duration": 60,
    "start_time": "2022-03-10T09:06:29.675Z"
   },
   {
    "duration": 35,
    "start_time": "2022-03-10T09:06:29.737Z"
   },
   {
    "duration": 14,
    "start_time": "2022-03-10T09:06:29.802Z"
   },
   {
    "duration": 21,
    "start_time": "2022-03-10T09:06:29.818Z"
   },
   {
    "duration": 19,
    "start_time": "2022-03-10T09:06:29.840Z"
   },
   {
    "duration": 82,
    "start_time": "2022-03-10T09:06:29.861Z"
   },
   {
    "duration": 55,
    "start_time": "2022-03-10T09:19:54.396Z"
   },
   {
    "duration": 13,
    "start_time": "2022-03-10T09:19:54.452Z"
   },
   {
    "duration": 9,
    "start_time": "2022-03-10T09:19:54.467Z"
   },
   {
    "duration": 35,
    "start_time": "2022-03-10T09:19:54.478Z"
   },
   {
    "duration": 15,
    "start_time": "2022-03-10T09:19:54.514Z"
   },
   {
    "duration": 34,
    "start_time": "2022-03-10T09:19:54.560Z"
   },
   {
    "duration": 38,
    "start_time": "2022-03-10T09:19:54.596Z"
   },
   {
    "duration": 16,
    "start_time": "2022-03-10T09:19:54.636Z"
   },
   {
    "duration": 21,
    "start_time": "2022-03-10T09:19:54.654Z"
   },
   {
    "duration": 20,
    "start_time": "2022-03-10T09:19:54.701Z"
   },
   {
    "duration": 80,
    "start_time": "2022-03-10T09:19:54.722Z"
   },
   {
    "duration": 67,
    "start_time": "2022-03-10T09:37:12.942Z"
   },
   {
    "duration": 12,
    "start_time": "2022-03-10T09:37:13.010Z"
   },
   {
    "duration": 8,
    "start_time": "2022-03-10T09:37:13.024Z"
   },
   {
    "duration": 18,
    "start_time": "2022-03-10T09:37:13.034Z"
   },
   {
    "duration": 17,
    "start_time": "2022-03-10T09:37:13.054Z"
   },
   {
    "duration": 35,
    "start_time": "2022-03-10T09:37:13.101Z"
   },
   {
    "duration": 36,
    "start_time": "2022-03-10T09:37:13.138Z"
   },
   {
    "duration": 39,
    "start_time": "2022-03-10T09:37:13.175Z"
   },
   {
    "duration": 18,
    "start_time": "2022-03-10T09:37:13.215Z"
   },
   {
    "duration": 21,
    "start_time": "2022-03-10T09:37:13.235Z"
   },
   {
    "duration": 87,
    "start_time": "2022-03-10T09:37:13.257Z"
   },
   {
    "duration": 34,
    "start_time": "2022-03-10T09:38:26.476Z"
   },
   {
    "duration": 54,
    "start_time": "2022-03-10T09:38:37.038Z"
   },
   {
    "duration": 12,
    "start_time": "2022-03-10T09:38:37.094Z"
   },
   {
    "duration": 8,
    "start_time": "2022-03-10T09:38:37.108Z"
   },
   {
    "duration": 17,
    "start_time": "2022-03-10T09:38:37.117Z"
   },
   {
    "duration": 15,
    "start_time": "2022-03-10T09:38:37.136Z"
   },
   {
    "duration": 60,
    "start_time": "2022-03-10T09:38:37.152Z"
   },
   {
    "duration": 36,
    "start_time": "2022-03-10T09:38:37.214Z"
   },
   {
    "duration": 13,
    "start_time": "2022-03-10T09:38:37.252Z"
   },
   {
    "duration": 47,
    "start_time": "2022-03-10T09:38:37.267Z"
   },
   {
    "duration": 19,
    "start_time": "2022-03-10T09:38:37.315Z"
   },
   {
    "duration": 84,
    "start_time": "2022-03-10T09:38:37.335Z"
   },
   {
    "duration": 9130,
    "start_time": "2022-03-10T10:11:44.713Z"
   },
   {
    "duration": 7420,
    "start_time": "2022-03-10T10:12:59.840Z"
   },
   {
    "duration": 7390,
    "start_time": "2022-03-10T10:13:21.016Z"
   },
   {
    "duration": 57,
    "start_time": "2022-03-10T10:13:34.723Z"
   },
   {
    "duration": 13,
    "start_time": "2022-03-10T10:13:34.781Z"
   },
   {
    "duration": 8,
    "start_time": "2022-03-10T10:13:34.797Z"
   },
   {
    "duration": 21,
    "start_time": "2022-03-10T10:13:34.807Z"
   },
   {
    "duration": 18,
    "start_time": "2022-03-10T10:13:34.830Z"
   },
   {
    "duration": 66,
    "start_time": "2022-03-10T10:13:34.850Z"
   },
   {
    "duration": 20,
    "start_time": "2022-03-10T10:13:34.918Z"
   },
   {
    "duration": 18,
    "start_time": "2022-03-10T10:13:34.940Z"
   },
   {
    "duration": 50,
    "start_time": "2022-03-10T10:13:34.959Z"
   },
   {
    "duration": 20,
    "start_time": "2022-03-10T10:13:35.011Z"
   },
   {
    "duration": 22,
    "start_time": "2022-03-10T10:13:35.033Z"
   },
   {
    "duration": 93,
    "start_time": "2022-03-10T10:13:35.057Z"
   },
   {
    "duration": 7565,
    "start_time": "2022-03-10T10:17:16.919Z"
   },
   {
    "duration": 55,
    "start_time": "2022-03-10T10:17:28.836Z"
   },
   {
    "duration": 14,
    "start_time": "2022-03-10T10:17:28.893Z"
   },
   {
    "duration": 8,
    "start_time": "2022-03-10T10:17:28.909Z"
   },
   {
    "duration": 17,
    "start_time": "2022-03-10T10:17:28.919Z"
   },
   {
    "duration": 15,
    "start_time": "2022-03-10T10:17:28.938Z"
   },
   {
    "duration": 60,
    "start_time": "2022-03-10T10:17:28.955Z"
   },
   {
    "duration": 18,
    "start_time": "2022-03-10T10:17:29.017Z"
   },
   {
    "duration": 12,
    "start_time": "2022-03-10T10:17:29.037Z"
   },
   {
    "duration": 16,
    "start_time": "2022-03-10T10:17:29.050Z"
   },
   {
    "duration": 47,
    "start_time": "2022-03-10T10:17:29.067Z"
   },
   {
    "duration": 19,
    "start_time": "2022-03-10T10:17:29.115Z"
   },
   {
    "duration": 80,
    "start_time": "2022-03-10T10:17:29.136Z"
   },
   {
    "duration": 112,
    "start_time": "2022-03-10T10:22:35.630Z"
   },
   {
    "duration": 6,
    "start_time": "2022-03-10T10:23:09.778Z"
   },
   {
    "duration": 119,
    "start_time": "2022-03-10T10:26:51.322Z"
   },
   {
    "duration": 1899,
    "start_time": "2022-03-10T10:35:58.511Z"
   },
   {
    "duration": 5,
    "start_time": "2022-03-10T10:36:15.506Z"
   },
   {
    "duration": 4,
    "start_time": "2022-03-10T10:36:23.347Z"
   },
   {
    "duration": 6,
    "start_time": "2022-03-10T10:36:37.385Z"
   },
   {
    "duration": 6,
    "start_time": "2022-03-10T10:37:05.259Z"
   },
   {
    "duration": 286,
    "start_time": "2022-03-10T10:45:02.650Z"
   },
   {
    "duration": 56,
    "start_time": "2022-03-10T10:45:10.806Z"
   },
   {
    "duration": 17,
    "start_time": "2022-03-10T10:45:10.863Z"
   },
   {
    "duration": 21,
    "start_time": "2022-03-10T10:45:10.882Z"
   },
   {
    "duration": 19,
    "start_time": "2022-03-10T10:45:10.904Z"
   },
   {
    "duration": 16,
    "start_time": "2022-03-10T10:45:10.925Z"
   },
   {
    "duration": 60,
    "start_time": "2022-03-10T10:45:10.943Z"
   },
   {
    "duration": 22,
    "start_time": "2022-03-10T10:45:11.005Z"
   },
   {
    "duration": 19,
    "start_time": "2022-03-10T10:45:11.029Z"
   },
   {
    "duration": 8,
    "start_time": "2022-03-10T10:45:11.050Z"
   },
   {
    "duration": 43,
    "start_time": "2022-03-10T10:45:11.059Z"
   },
   {
    "duration": 295,
    "start_time": "2022-03-10T10:45:11.104Z"
   },
   {
    "duration": 209,
    "start_time": "2022-03-10T10:45:11.191Z"
   },
   {
    "duration": 203,
    "start_time": "2022-03-10T10:45:11.199Z"
   },
   {
    "duration": 200,
    "start_time": "2022-03-10T10:45:11.202Z"
   },
   {
    "duration": 198,
    "start_time": "2022-03-10T10:45:11.206Z"
   },
   {
    "duration": 17,
    "start_time": "2022-03-10T10:45:32.916Z"
   },
   {
    "duration": 16,
    "start_time": "2022-03-10T10:47:29.033Z"
   },
   {
    "duration": 7,
    "start_time": "2022-03-10T10:48:12.295Z"
   },
   {
    "duration": 5,
    "start_time": "2022-03-10T10:48:36.311Z"
   },
   {
    "duration": 17,
    "start_time": "2022-03-10T10:49:35.530Z"
   },
   {
    "duration": 16,
    "start_time": "2022-03-10T10:51:17.503Z"
   },
   {
    "duration": 66,
    "start_time": "2022-03-10T10:51:51.583Z"
   },
   {
    "duration": 13,
    "start_time": "2022-03-10T10:51:51.651Z"
   },
   {
    "duration": 8,
    "start_time": "2022-03-10T10:51:51.665Z"
   },
   {
    "duration": 40,
    "start_time": "2022-03-10T10:51:51.675Z"
   },
   {
    "duration": 18,
    "start_time": "2022-03-10T10:51:51.717Z"
   },
   {
    "duration": 34,
    "start_time": "2022-03-10T10:51:51.736Z"
   },
   {
    "duration": 40,
    "start_time": "2022-03-10T10:51:51.771Z"
   },
   {
    "duration": 13,
    "start_time": "2022-03-10T10:51:51.814Z"
   },
   {
    "duration": 8,
    "start_time": "2022-03-10T10:51:51.828Z"
   },
   {
    "duration": 6,
    "start_time": "2022-03-10T10:51:51.838Z"
   },
   {
    "duration": 16,
    "start_time": "2022-03-10T10:51:51.845Z"
   },
   {
    "duration": 52,
    "start_time": "2022-03-10T10:51:51.863Z"
   },
   {
    "duration": 19,
    "start_time": "2022-03-10T10:51:51.917Z"
   },
   {
    "duration": 1412,
    "start_time": "2022-03-10T10:51:51.938Z"
   },
   {
    "duration": 802,
    "start_time": "2022-03-10T10:51:52.550Z"
   },
   {
    "duration": 313,
    "start_time": "2022-03-10T10:58:20.314Z"
   },
   {
    "duration": 377,
    "start_time": "2022-03-10T10:59:24.818Z"
   },
   {
    "duration": 497,
    "start_time": "2022-03-10T11:01:11.493Z"
   },
   {
    "duration": 307,
    "start_time": "2022-03-10T11:04:16.854Z"
   },
   {
    "duration": 53,
    "start_time": "2022-03-10T11:04:25.089Z"
   },
   {
    "duration": 13,
    "start_time": "2022-03-10T11:04:25.144Z"
   },
   {
    "duration": 8,
    "start_time": "2022-03-10T11:04:25.158Z"
   },
   {
    "duration": 42,
    "start_time": "2022-03-10T11:04:25.168Z"
   },
   {
    "duration": 15,
    "start_time": "2022-03-10T11:04:25.211Z"
   },
   {
    "duration": 35,
    "start_time": "2022-03-10T11:04:25.227Z"
   },
   {
    "duration": 44,
    "start_time": "2022-03-10T11:04:25.264Z"
   },
   {
    "duration": 12,
    "start_time": "2022-03-10T11:04:25.310Z"
   },
   {
    "duration": 6,
    "start_time": "2022-03-10T11:04:25.324Z"
   },
   {
    "duration": 5,
    "start_time": "2022-03-10T11:04:25.332Z"
   },
   {
    "duration": 16,
    "start_time": "2022-03-10T11:04:25.339Z"
   },
   {
    "duration": 7,
    "start_time": "2022-03-10T11:04:25.357Z"
   },
   {
    "duration": 37,
    "start_time": "2022-03-10T11:04:25.366Z"
   },
   {
    "duration": 11,
    "start_time": "2022-03-10T11:04:25.404Z"
   },
   {
    "duration": 18,
    "start_time": "2022-03-10T11:04:25.416Z"
   },
   {
    "duration": 1375,
    "start_time": "2022-03-10T11:04:25.435Z"
   },
   {
    "duration": 864,
    "start_time": "2022-03-10T11:04:25.947Z"
   },
   {
    "duration": 93,
    "start_time": "2022-03-10T11:16:39.913Z"
   },
   {
    "duration": 53,
    "start_time": "2022-03-10T11:16:44.841Z"
   },
   {
    "duration": 13,
    "start_time": "2022-03-10T11:16:44.896Z"
   },
   {
    "duration": 8,
    "start_time": "2022-03-10T11:16:44.912Z"
   },
   {
    "duration": 19,
    "start_time": "2022-03-10T11:16:44.922Z"
   },
   {
    "duration": 17,
    "start_time": "2022-03-10T11:16:44.943Z"
   },
   {
    "duration": 73,
    "start_time": "2022-03-10T11:16:44.961Z"
   },
   {
    "duration": 16,
    "start_time": "2022-03-10T11:16:45.036Z"
   },
   {
    "duration": 12,
    "start_time": "2022-03-10T11:16:45.054Z"
   },
   {
    "duration": 8,
    "start_time": "2022-03-10T11:16:45.067Z"
   },
   {
    "duration": 5,
    "start_time": "2022-03-10T11:16:45.101Z"
   },
   {
    "duration": 17,
    "start_time": "2022-03-10T11:16:45.107Z"
   },
   {
    "duration": 10,
    "start_time": "2022-03-10T11:16:45.125Z"
   },
   {
    "duration": 129,
    "start_time": "2022-03-10T11:16:45.136Z"
   },
   {
    "duration": 727,
    "start_time": "2022-03-10T11:16:44.540Z"
   },
   {
    "duration": 724,
    "start_time": "2022-03-10T11:16:44.543Z"
   },
   {
    "duration": 724,
    "start_time": "2022-03-10T11:16:44.545Z"
   },
   {
    "duration": 678,
    "start_time": "2022-03-10T11:16:44.592Z"
   },
   {
    "duration": 55,
    "start_time": "2022-03-10T11:18:09.561Z"
   },
   {
    "duration": 12,
    "start_time": "2022-03-10T11:18:09.618Z"
   },
   {
    "duration": 33,
    "start_time": "2022-03-10T11:18:09.632Z"
   },
   {
    "duration": 31,
    "start_time": "2022-03-10T11:18:09.666Z"
   },
   {
    "duration": 14,
    "start_time": "2022-03-10T11:18:09.699Z"
   },
   {
    "duration": 50,
    "start_time": "2022-03-10T11:18:09.715Z"
   },
   {
    "duration": 14,
    "start_time": "2022-03-10T11:18:09.767Z"
   },
   {
    "duration": 23,
    "start_time": "2022-03-10T11:18:09.783Z"
   },
   {
    "duration": 20,
    "start_time": "2022-03-10T11:18:09.808Z"
   },
   {
    "duration": 26,
    "start_time": "2022-03-10T11:18:09.829Z"
   },
   {
    "duration": 23,
    "start_time": "2022-03-10T11:18:09.857Z"
   },
   {
    "duration": 20,
    "start_time": "2022-03-10T11:18:09.881Z"
   },
   {
    "duration": 24,
    "start_time": "2022-03-10T11:18:09.902Z"
   },
   {
    "duration": 28,
    "start_time": "2022-03-10T11:18:09.927Z"
   },
   {
    "duration": 38,
    "start_time": "2022-03-10T11:18:09.956Z"
   },
   {
    "duration": 1422,
    "start_time": "2022-03-10T11:18:09.995Z"
   },
   {
    "duration": 571,
    "start_time": "2022-03-10T11:18:10.847Z"
   },
   {
    "duration": 57,
    "start_time": "2022-03-10T11:21:22.602Z"
   },
   {
    "duration": 15,
    "start_time": "2022-03-10T11:21:22.661Z"
   },
   {
    "duration": 24,
    "start_time": "2022-03-10T11:21:22.678Z"
   },
   {
    "duration": 18,
    "start_time": "2022-03-10T11:21:22.704Z"
   },
   {
    "duration": 15,
    "start_time": "2022-03-10T11:21:22.724Z"
   },
   {
    "duration": 60,
    "start_time": "2022-03-10T11:21:22.741Z"
   },
   {
    "duration": 15,
    "start_time": "2022-03-10T11:21:22.803Z"
   },
   {
    "duration": 13,
    "start_time": "2022-03-10T11:21:22.820Z"
   },
   {
    "duration": 6,
    "start_time": "2022-03-10T11:21:22.835Z"
   },
   {
    "duration": 6,
    "start_time": "2022-03-10T11:21:22.842Z"
   },
   {
    "duration": 108,
    "start_time": "2022-03-10T11:21:22.849Z"
   },
   {
    "duration": 561,
    "start_time": "2022-03-10T11:21:22.397Z"
   },
   {
    "duration": 558,
    "start_time": "2022-03-10T11:21:22.401Z"
   },
   {
    "duration": 553,
    "start_time": "2022-03-10T11:21:22.407Z"
   },
   {
    "duration": 548,
    "start_time": "2022-03-10T11:21:22.413Z"
   },
   {
    "duration": 543,
    "start_time": "2022-03-10T11:21:22.418Z"
   },
   {
    "duration": 540,
    "start_time": "2022-03-10T11:21:22.422Z"
   },
   {
    "duration": 614,
    "start_time": "2022-03-10T14:37:18.510Z"
   },
   {
    "duration": 11,
    "start_time": "2022-03-10T14:37:19.126Z"
   },
   {
    "duration": 20,
    "start_time": "2022-03-10T14:37:19.139Z"
   },
   {
    "duration": 34,
    "start_time": "2022-03-10T14:37:19.160Z"
   },
   {
    "duration": 18,
    "start_time": "2022-03-10T14:37:19.195Z"
   },
   {
    "duration": 40,
    "start_time": "2022-03-10T14:37:19.214Z"
   },
   {
    "duration": 15,
    "start_time": "2022-03-10T14:37:19.255Z"
   },
   {
    "duration": 12,
    "start_time": "2022-03-10T14:37:19.272Z"
   },
   {
    "duration": 22,
    "start_time": "2022-03-10T14:37:19.285Z"
   },
   {
    "duration": 6,
    "start_time": "2022-03-10T14:37:19.308Z"
   },
   {
    "duration": 18,
    "start_time": "2022-03-10T14:37:19.315Z"
   },
   {
    "duration": 23,
    "start_time": "2022-03-10T14:37:19.334Z"
   },
   {
    "duration": 8,
    "start_time": "2022-03-10T14:37:19.359Z"
   },
   {
    "duration": 19,
    "start_time": "2022-03-10T14:37:19.369Z"
   },
   {
    "duration": 35,
    "start_time": "2022-03-10T14:37:19.390Z"
   },
   {
    "duration": 18,
    "start_time": "2022-03-10T14:37:19.426Z"
   },
   {
    "duration": 67,
    "start_time": "2022-03-10T14:37:19.445Z"
   },
   {
    "duration": 18,
    "start_time": "2022-03-10T15:11:59.861Z"
   },
   {
    "duration": 16,
    "start_time": "2022-03-10T15:27:35.044Z"
   },
   {
    "duration": 19,
    "start_time": "2022-03-10T15:28:00.673Z"
   },
   {
    "duration": 2,
    "start_time": "2022-03-10T15:34:52.303Z"
   },
   {
    "duration": 20,
    "start_time": "2022-03-10T15:48:28.040Z"
   },
   {
    "duration": 19,
    "start_time": "2022-03-10T15:50:22.324Z"
   },
   {
    "duration": 17,
    "start_time": "2022-03-10T15:52:16.317Z"
   },
   {
    "duration": 17,
    "start_time": "2022-03-10T15:52:26.782Z"
   },
   {
    "duration": 22,
    "start_time": "2022-03-10T15:53:10.174Z"
   },
   {
    "duration": 22,
    "start_time": "2022-03-10T15:55:13.200Z"
   },
   {
    "duration": 21,
    "start_time": "2022-03-10T15:55:31.274Z"
   },
   {
    "duration": 20,
    "start_time": "2022-03-10T15:59:32.039Z"
   },
   {
    "duration": 23,
    "start_time": "2022-03-10T16:03:12.247Z"
   },
   {
    "duration": 20,
    "start_time": "2022-03-10T16:05:49.466Z"
   },
   {
    "duration": 53,
    "start_time": "2022-03-10T16:46:42.478Z"
   },
   {
    "duration": 13,
    "start_time": "2022-03-10T16:46:42.533Z"
   },
   {
    "duration": 8,
    "start_time": "2022-03-10T16:46:42.586Z"
   },
   {
    "duration": 17,
    "start_time": "2022-03-10T16:46:42.597Z"
   },
   {
    "duration": 22,
    "start_time": "2022-03-10T16:46:42.706Z"
   },
   {
    "duration": 52,
    "start_time": "2022-03-10T16:46:42.730Z"
   },
   {
    "duration": 37,
    "start_time": "2022-03-10T16:46:42.784Z"
   },
   {
    "duration": 14,
    "start_time": "2022-03-10T16:46:42.823Z"
   },
   {
    "duration": 7,
    "start_time": "2022-03-10T16:46:42.838Z"
   },
   {
    "duration": 6,
    "start_time": "2022-03-10T16:46:42.847Z"
   },
   {
    "duration": 8,
    "start_time": "2022-03-10T16:46:42.854Z"
   },
   {
    "duration": 10,
    "start_time": "2022-03-10T16:46:42.905Z"
   },
   {
    "duration": 9,
    "start_time": "2022-03-10T16:46:42.916Z"
   },
   {
    "duration": 11,
    "start_time": "2022-03-10T16:46:42.927Z"
   },
   {
    "duration": 18,
    "start_time": "2022-03-10T16:46:42.945Z"
   },
   {
    "duration": 44,
    "start_time": "2022-03-10T16:46:42.964Z"
   },
   {
    "duration": 25,
    "start_time": "2022-03-10T16:46:43.010Z"
   },
   {
    "duration": 27,
    "start_time": "2022-03-10T16:46:43.037Z"
   },
   {
    "duration": 27,
    "start_time": "2022-03-10T16:46:43.126Z"
   },
   {
    "duration": 24,
    "start_time": "2022-03-10T16:46:43.155Z"
   },
   {
    "duration": 546,
    "start_time": "2022-03-10T16:53:19.384Z"
   },
   {
    "duration": 529,
    "start_time": "2022-03-10T16:53:19.402Z"
   },
   {
    "duration": 520,
    "start_time": "2022-03-10T16:53:19.411Z"
   },
   {
    "duration": 452,
    "start_time": "2022-03-10T16:53:19.480Z"
   },
   {
    "duration": 446,
    "start_time": "2022-03-10T16:53:19.487Z"
   },
   {
    "duration": 442,
    "start_time": "2022-03-10T16:53:19.492Z"
   },
   {
    "duration": 437,
    "start_time": "2022-03-10T16:53:19.498Z"
   },
   {
    "duration": 434,
    "start_time": "2022-03-10T16:53:19.502Z"
   },
   {
    "duration": 425,
    "start_time": "2022-03-10T16:53:19.512Z"
   },
   {
    "duration": 419,
    "start_time": "2022-03-10T16:53:19.520Z"
   },
   {
    "duration": 362,
    "start_time": "2022-03-10T16:53:19.578Z"
   },
   {
    "duration": 357,
    "start_time": "2022-03-10T16:53:19.583Z"
   },
   {
    "duration": 353,
    "start_time": "2022-03-10T16:53:19.589Z"
   },
   {
    "duration": 349,
    "start_time": "2022-03-10T16:53:19.593Z"
   },
   {
    "duration": 345,
    "start_time": "2022-03-10T16:53:19.598Z"
   },
   {
    "duration": 337,
    "start_time": "2022-03-10T16:53:19.607Z"
   },
   {
    "duration": 335,
    "start_time": "2022-03-10T16:53:19.610Z"
   },
   {
    "duration": 311,
    "start_time": "2022-03-10T16:53:19.635Z"
   },
   {
    "duration": 309,
    "start_time": "2022-03-10T16:53:19.638Z"
   },
   {
    "duration": 272,
    "start_time": "2022-03-10T16:53:19.676Z"
   },
   {
    "duration": 7425,
    "start_time": "2022-03-10T16:53:33.729Z"
   },
   {
    "duration": 83,
    "start_time": "2022-03-10T16:53:47.950Z"
   },
   {
    "duration": 18,
    "start_time": "2022-03-10T16:53:48.035Z"
   },
   {
    "duration": 9,
    "start_time": "2022-03-10T16:53:48.055Z"
   },
   {
    "duration": 43,
    "start_time": "2022-03-10T16:53:48.066Z"
   },
   {
    "duration": 22,
    "start_time": "2022-03-10T16:53:48.111Z"
   },
   {
    "duration": 51,
    "start_time": "2022-03-10T16:53:48.134Z"
   },
   {
    "duration": 21,
    "start_time": "2022-03-10T16:53:48.205Z"
   },
   {
    "duration": 21,
    "start_time": "2022-03-10T16:53:48.228Z"
   },
   {
    "duration": 6,
    "start_time": "2022-03-10T16:53:48.251Z"
   },
   {
    "duration": 8,
    "start_time": "2022-03-10T16:53:48.258Z"
   },
   {
    "duration": 42,
    "start_time": "2022-03-10T16:53:48.267Z"
   },
   {
    "duration": 11,
    "start_time": "2022-03-10T16:53:48.310Z"
   },
   {
    "duration": 10,
    "start_time": "2022-03-10T16:53:48.322Z"
   },
   {
    "duration": 12,
    "start_time": "2022-03-10T16:53:48.333Z"
   },
   {
    "duration": 20,
    "start_time": "2022-03-10T16:53:48.347Z"
   },
   {
    "duration": 37,
    "start_time": "2022-03-10T16:53:48.369Z"
   },
   {
    "duration": 21,
    "start_time": "2022-03-10T16:53:48.408Z"
   },
   {
    "duration": 20,
    "start_time": "2022-03-10T16:53:48.430Z"
   },
   {
    "duration": 17,
    "start_time": "2022-03-10T16:53:48.451Z"
   },
   {
    "duration": 45,
    "start_time": "2022-03-10T16:53:48.469Z"
   },
   {
    "duration": 8,
    "start_time": "2022-03-10T16:55:29.550Z"
   },
   {
    "duration": 33,
    "start_time": "2022-03-10T16:59:58.368Z"
   },
   {
    "duration": 7303,
    "start_time": "2022-03-10T17:01:36.131Z"
   },
   {
    "duration": 59,
    "start_time": "2022-03-10T17:01:50.954Z"
   },
   {
    "duration": 15,
    "start_time": "2022-03-10T17:01:51.015Z"
   },
   {
    "duration": 9,
    "start_time": "2022-03-10T17:01:51.032Z"
   },
   {
    "duration": 20,
    "start_time": "2022-03-10T17:01:51.043Z"
   },
   {
    "duration": 48,
    "start_time": "2022-03-10T17:01:51.065Z"
   },
   {
    "duration": 40,
    "start_time": "2022-03-10T17:01:51.115Z"
   },
   {
    "duration": 16,
    "start_time": "2022-03-10T17:01:51.157Z"
   },
   {
    "duration": 14,
    "start_time": "2022-03-10T17:01:51.205Z"
   },
   {
    "duration": 8,
    "start_time": "2022-03-10T17:01:51.220Z"
   },
   {
    "duration": 8,
    "start_time": "2022-03-10T17:01:51.229Z"
   },
   {
    "duration": 8,
    "start_time": "2022-03-10T17:01:51.238Z"
   },
   {
    "duration": 10,
    "start_time": "2022-03-10T17:01:51.248Z"
   },
   {
    "duration": 50,
    "start_time": "2022-03-10T17:01:51.260Z"
   },
   {
    "duration": 11,
    "start_time": "2022-03-10T17:01:51.312Z"
   },
   {
    "duration": 20,
    "start_time": "2022-03-10T17:01:51.325Z"
   },
   {
    "duration": 20,
    "start_time": "2022-03-10T17:01:51.347Z"
   },
   {
    "duration": 50,
    "start_time": "2022-03-10T17:01:51.369Z"
   },
   {
    "duration": 20,
    "start_time": "2022-03-10T17:01:51.420Z"
   },
   {
    "duration": 19,
    "start_time": "2022-03-10T17:01:51.442Z"
   },
   {
    "duration": 49,
    "start_time": "2022-03-10T17:01:51.462Z"
   },
   {
    "duration": 7442,
    "start_time": "2022-03-10T17:02:53.812Z"
   },
   {
    "duration": 325,
    "start_time": "2022-03-10T17:08:20.324Z"
   },
   {
    "duration": 66,
    "start_time": "2022-03-10T17:16:31.799Z"
   },
   {
    "duration": 13,
    "start_time": "2022-03-10T17:16:31.867Z"
   },
   {
    "duration": 7,
    "start_time": "2022-03-10T17:16:31.882Z"
   },
   {
    "duration": 18,
    "start_time": "2022-03-10T17:16:31.891Z"
   },
   {
    "duration": 14,
    "start_time": "2022-03-10T17:16:31.911Z"
   },
   {
    "duration": 38,
    "start_time": "2022-03-10T17:16:31.926Z"
   },
   {
    "duration": 42,
    "start_time": "2022-03-10T17:16:31.965Z"
   },
   {
    "duration": 11,
    "start_time": "2022-03-10T17:16:32.009Z"
   },
   {
    "duration": 7,
    "start_time": "2022-03-10T17:16:32.022Z"
   },
   {
    "duration": 6,
    "start_time": "2022-03-10T17:16:32.030Z"
   },
   {
    "duration": 7,
    "start_time": "2022-03-10T17:16:32.038Z"
   },
   {
    "duration": 9,
    "start_time": "2022-03-10T17:16:32.047Z"
   },
   {
    "duration": 9,
    "start_time": "2022-03-10T17:16:32.057Z"
   },
   {
    "duration": 44,
    "start_time": "2022-03-10T17:16:32.068Z"
   },
   {
    "duration": 19,
    "start_time": "2022-03-10T17:16:32.113Z"
   },
   {
    "duration": 17,
    "start_time": "2022-03-10T17:16:32.133Z"
   },
   {
    "duration": 19,
    "start_time": "2022-03-10T17:16:32.151Z"
   },
   {
    "duration": 38,
    "start_time": "2022-03-10T17:16:32.171Z"
   },
   {
    "duration": 19,
    "start_time": "2022-03-10T17:16:32.210Z"
   },
   {
    "duration": 18,
    "start_time": "2022-03-10T17:16:32.230Z"
   },
   {
    "duration": 14,
    "start_time": "2022-03-19T15:49:52.608Z"
   },
   {
    "duration": 4,
    "start_time": "2022-03-19T15:50:10.635Z"
   },
   {
    "duration": 70,
    "start_time": "2022-03-20T11:25:21.254Z"
   },
   {
    "duration": 64,
    "start_time": "2022-03-20T11:30:09.944Z"
   },
   {
    "duration": 477,
    "start_time": "2022-03-20T11:34:52.125Z"
   },
   {
    "duration": 5,
    "start_time": "2022-03-20T11:34:52.604Z"
   },
   {
    "duration": 0,
    "start_time": "2022-03-20T11:34:52.612Z"
   },
   {
    "duration": 0,
    "start_time": "2022-03-20T11:34:52.613Z"
   },
   {
    "duration": 0,
    "start_time": "2022-03-20T11:34:52.614Z"
   },
   {
    "duration": 0,
    "start_time": "2022-03-20T11:34:52.616Z"
   },
   {
    "duration": 0,
    "start_time": "2022-03-20T11:34:52.617Z"
   },
   {
    "duration": 0,
    "start_time": "2022-03-20T11:34:52.618Z"
   },
   {
    "duration": 0,
    "start_time": "2022-03-20T11:34:52.619Z"
   },
   {
    "duration": 0,
    "start_time": "2022-03-20T11:34:52.621Z"
   },
   {
    "duration": 0,
    "start_time": "2022-03-20T11:34:52.622Z"
   },
   {
    "duration": 0,
    "start_time": "2022-03-20T11:34:52.623Z"
   },
   {
    "duration": 0,
    "start_time": "2022-03-20T11:34:52.624Z"
   },
   {
    "duration": 0,
    "start_time": "2022-03-20T11:34:52.626Z"
   },
   {
    "duration": 0,
    "start_time": "2022-03-20T11:34:52.627Z"
   },
   {
    "duration": 0,
    "start_time": "2022-03-20T11:34:52.628Z"
   },
   {
    "duration": 0,
    "start_time": "2022-03-20T11:34:52.629Z"
   },
   {
    "duration": 0,
    "start_time": "2022-03-20T11:34:52.630Z"
   },
   {
    "duration": 0,
    "start_time": "2022-03-20T11:34:52.631Z"
   },
   {
    "duration": 0,
    "start_time": "2022-03-20T11:34:52.632Z"
   },
   {
    "duration": 67,
    "start_time": "2022-03-20T11:35:17.971Z"
   },
   {
    "duration": 4,
    "start_time": "2022-03-20T11:35:18.040Z"
   },
   {
    "duration": 0,
    "start_time": "2022-03-20T11:35:18.046Z"
   },
   {
    "duration": 0,
    "start_time": "2022-03-20T11:35:18.048Z"
   },
   {
    "duration": 0,
    "start_time": "2022-03-20T11:35:18.049Z"
   },
   {
    "duration": 0,
    "start_time": "2022-03-20T11:35:18.050Z"
   },
   {
    "duration": 0,
    "start_time": "2022-03-20T11:35:18.051Z"
   },
   {
    "duration": 0,
    "start_time": "2022-03-20T11:35:18.053Z"
   },
   {
    "duration": 0,
    "start_time": "2022-03-20T11:35:18.054Z"
   },
   {
    "duration": 0,
    "start_time": "2022-03-20T11:35:18.054Z"
   },
   {
    "duration": 0,
    "start_time": "2022-03-20T11:35:18.055Z"
   },
   {
    "duration": 0,
    "start_time": "2022-03-20T11:35:18.057Z"
   },
   {
    "duration": 63,
    "start_time": "2022-03-20T11:35:18.060Z"
   },
   {
    "duration": 21,
    "start_time": "2022-03-20T11:35:18.125Z"
   },
   {
    "duration": 77,
    "start_time": "2022-03-20T11:35:18.149Z"
   },
   {
    "duration": 23,
    "start_time": "2022-03-20T11:35:18.228Z"
   },
   {
    "duration": 57,
    "start_time": "2022-03-20T11:35:18.252Z"
   },
   {
    "duration": 22,
    "start_time": "2022-03-20T11:35:18.311Z"
   },
   {
    "duration": 21,
    "start_time": "2022-03-20T11:35:18.334Z"
   },
   {
    "duration": 21,
    "start_time": "2022-03-20T11:35:18.357Z"
   },
   {
    "duration": 79,
    "start_time": "2022-03-20T11:35:48.679Z"
   },
   {
    "duration": 1576,
    "start_time": "2022-03-20T11:35:48.760Z"
   },
   {
    "duration": 1,
    "start_time": "2022-03-20T11:35:50.339Z"
   },
   {
    "duration": 0,
    "start_time": "2022-03-20T11:35:50.341Z"
   },
   {
    "duration": 0,
    "start_time": "2022-03-20T11:35:50.342Z"
   },
   {
    "duration": 0,
    "start_time": "2022-03-20T11:35:50.344Z"
   },
   {
    "duration": 0,
    "start_time": "2022-03-20T11:35:50.345Z"
   },
   {
    "duration": 0,
    "start_time": "2022-03-20T11:35:50.347Z"
   },
   {
    "duration": 0,
    "start_time": "2022-03-20T11:35:50.348Z"
   },
   {
    "duration": 0,
    "start_time": "2022-03-20T11:35:50.350Z"
   },
   {
    "duration": 0,
    "start_time": "2022-03-20T11:35:50.351Z"
   },
   {
    "duration": 0,
    "start_time": "2022-03-20T11:35:50.353Z"
   },
   {
    "duration": 0,
    "start_time": "2022-03-20T11:35:50.354Z"
   },
   {
    "duration": 0,
    "start_time": "2022-03-20T11:35:50.355Z"
   },
   {
    "duration": 0,
    "start_time": "2022-03-20T11:35:50.357Z"
   },
   {
    "duration": 0,
    "start_time": "2022-03-20T11:35:50.359Z"
   },
   {
    "duration": 0,
    "start_time": "2022-03-20T11:35:50.360Z"
   },
   {
    "duration": 0,
    "start_time": "2022-03-20T11:35:50.361Z"
   },
   {
    "duration": 0,
    "start_time": "2022-03-20T11:35:50.363Z"
   },
   {
    "duration": 0,
    "start_time": "2022-03-20T11:35:50.364Z"
   },
   {
    "duration": 72,
    "start_time": "2022-03-20T11:40:39.486Z"
   },
   {
    "duration": 1254,
    "start_time": "2022-03-20T11:40:39.560Z"
   },
   {
    "duration": 0,
    "start_time": "2022-03-20T11:40:40.816Z"
   },
   {
    "duration": 0,
    "start_time": "2022-03-20T11:40:40.818Z"
   },
   {
    "duration": 0,
    "start_time": "2022-03-20T11:40:40.819Z"
   },
   {
    "duration": 0,
    "start_time": "2022-03-20T11:40:40.821Z"
   },
   {
    "duration": 0,
    "start_time": "2022-03-20T11:40:40.822Z"
   },
   {
    "duration": 0,
    "start_time": "2022-03-20T11:40:40.824Z"
   },
   {
    "duration": 0,
    "start_time": "2022-03-20T11:40:40.826Z"
   },
   {
    "duration": 0,
    "start_time": "2022-03-20T11:40:40.827Z"
   },
   {
    "duration": 0,
    "start_time": "2022-03-20T11:40:40.828Z"
   },
   {
    "duration": 0,
    "start_time": "2022-03-20T11:40:40.830Z"
   },
   {
    "duration": 0,
    "start_time": "2022-03-20T11:40:40.832Z"
   },
   {
    "duration": 0,
    "start_time": "2022-03-20T11:40:40.834Z"
   },
   {
    "duration": 0,
    "start_time": "2022-03-20T11:40:40.835Z"
   },
   {
    "duration": 0,
    "start_time": "2022-03-20T11:40:40.836Z"
   },
   {
    "duration": 0,
    "start_time": "2022-03-20T11:40:40.837Z"
   },
   {
    "duration": 0,
    "start_time": "2022-03-20T11:40:40.838Z"
   },
   {
    "duration": 0,
    "start_time": "2022-03-20T11:40:40.839Z"
   },
   {
    "duration": 0,
    "start_time": "2022-03-20T11:40:40.840Z"
   },
   {
    "duration": 7,
    "start_time": "2022-03-20T11:42:48.074Z"
   },
   {
    "duration": 72,
    "start_time": "2022-03-20T11:42:53.516Z"
   },
   {
    "duration": 19,
    "start_time": "2022-03-20T11:42:53.591Z"
   },
   {
    "duration": 1,
    "start_time": "2022-03-20T11:42:53.612Z"
   },
   {
    "duration": 0,
    "start_time": "2022-03-20T11:42:53.614Z"
   },
   {
    "duration": 0,
    "start_time": "2022-03-20T11:42:53.616Z"
   },
   {
    "duration": 0,
    "start_time": "2022-03-20T11:42:53.617Z"
   },
   {
    "duration": 0,
    "start_time": "2022-03-20T11:42:53.618Z"
   },
   {
    "duration": 0,
    "start_time": "2022-03-20T11:42:53.620Z"
   },
   {
    "duration": 0,
    "start_time": "2022-03-20T11:42:53.620Z"
   },
   {
    "duration": 0,
    "start_time": "2022-03-20T11:42:53.622Z"
   },
   {
    "duration": 0,
    "start_time": "2022-03-20T11:42:53.623Z"
   },
   {
    "duration": 0,
    "start_time": "2022-03-20T11:42:53.625Z"
   },
   {
    "duration": 0,
    "start_time": "2022-03-20T11:42:53.626Z"
   },
   {
    "duration": 0,
    "start_time": "2022-03-20T11:42:53.627Z"
   },
   {
    "duration": 0,
    "start_time": "2022-03-20T11:42:53.629Z"
   },
   {
    "duration": 82,
    "start_time": "2022-03-20T11:42:53.632Z"
   },
   {
    "duration": 24,
    "start_time": "2022-03-20T11:42:53.715Z"
   },
   {
    "duration": 20,
    "start_time": "2022-03-20T11:42:53.741Z"
   },
   {
    "duration": 54,
    "start_time": "2022-03-20T11:42:53.763Z"
   },
   {
    "duration": 0,
    "start_time": "2022-03-20T11:42:53.818Z"
   },
   {
    "duration": 12,
    "start_time": "2022-03-20T11:43:08.161Z"
   },
   {
    "duration": 1328,
    "start_time": "2022-03-20T11:45:45.802Z"
   },
   {
    "duration": 4,
    "start_time": "2022-03-20T11:48:06.209Z"
   },
   {
    "duration": 71,
    "start_time": "2022-03-20T11:48:20.762Z"
   },
   {
    "duration": 4,
    "start_time": "2022-03-20T11:49:13.123Z"
   },
   {
    "duration": 13,
    "start_time": "2022-03-20T11:50:50.021Z"
   },
   {
    "duration": 14,
    "start_time": "2022-03-20T11:51:08.222Z"
   },
   {
    "duration": 74,
    "start_time": "2022-03-20T11:55:20.783Z"
   },
   {
    "duration": 24,
    "start_time": "2022-03-20T11:56:22.424Z"
   },
   {
    "duration": 24,
    "start_time": "2022-03-20T11:56:57.254Z"
   },
   {
    "duration": 18,
    "start_time": "2022-03-20T11:57:42.094Z"
   },
   {
    "duration": 26,
    "start_time": "2022-03-20T11:59:04.170Z"
   },
   {
    "duration": 58,
    "start_time": "2022-03-20T11:59:04.198Z"
   },
   {
    "duration": 59,
    "start_time": "2022-03-20T11:59:04.257Z"
   },
   {
    "duration": 31,
    "start_time": "2022-03-20T11:59:04.318Z"
   },
   {
    "duration": 48,
    "start_time": "2022-03-20T11:59:04.351Z"
   },
   {
    "duration": 20,
    "start_time": "2022-03-20T11:59:04.401Z"
   },
   {
    "duration": 62,
    "start_time": "2022-03-20T11:59:49.171Z"
   },
   {
    "duration": 68,
    "start_time": "2022-03-20T12:00:12.002Z"
   },
   {
    "duration": 13,
    "start_time": "2022-03-20T12:00:12.072Z"
   },
   {
    "duration": 30,
    "start_time": "2022-03-20T12:00:12.087Z"
   },
   {
    "duration": 28,
    "start_time": "2022-03-20T12:00:12.119Z"
   },
   {
    "duration": 18,
    "start_time": "2022-03-20T12:00:12.149Z"
   },
   {
    "duration": 79,
    "start_time": "2022-03-20T12:00:12.169Z"
   },
   {
    "duration": 19,
    "start_time": "2022-03-20T12:00:12.250Z"
   },
   {
    "duration": 48,
    "start_time": "2022-03-20T12:00:12.271Z"
   },
   {
    "duration": 7,
    "start_time": "2022-03-20T12:00:12.321Z"
   },
   {
    "duration": 6,
    "start_time": "2022-03-20T12:00:12.331Z"
   },
   {
    "duration": 8,
    "start_time": "2022-03-20T12:00:12.338Z"
   },
   {
    "duration": 12,
    "start_time": "2022-03-20T12:00:12.347Z"
   },
   {
    "duration": 53,
    "start_time": "2022-03-20T12:00:12.361Z"
   },
   {
    "duration": 12,
    "start_time": "2022-03-20T12:00:12.416Z"
   },
   {
    "duration": 22,
    "start_time": "2022-03-20T12:00:12.430Z"
   },
   {
    "duration": 19,
    "start_time": "2022-03-20T12:00:12.453Z"
   },
   {
    "duration": 55,
    "start_time": "2022-03-20T12:00:12.474Z"
   },
   {
    "duration": 19,
    "start_time": "2022-03-20T12:00:12.531Z"
   },
   {
    "duration": 20,
    "start_time": "2022-03-20T12:00:12.552Z"
   },
   {
    "duration": 54,
    "start_time": "2022-03-20T12:00:12.574Z"
   },
   {
    "duration": 8,
    "start_time": "2022-03-20T12:26:37.214Z"
   },
   {
    "duration": 62,
    "start_time": "2022-03-20T12:44:28.867Z"
   },
   {
    "duration": 62,
    "start_time": "2022-03-20T12:48:23.188Z"
   },
   {
    "duration": 22,
    "start_time": "2022-03-20T12:48:55.591Z"
   },
   {
    "duration": 24,
    "start_time": "2022-03-20T12:49:23.101Z"
   },
   {
    "duration": 22,
    "start_time": "2022-03-20T12:49:37.953Z"
   },
   {
    "duration": 21,
    "start_time": "2022-03-20T12:49:48.827Z"
   },
   {
    "duration": 35,
    "start_time": "2022-03-20T12:54:52.713Z"
   },
   {
    "duration": 72,
    "start_time": "2022-03-20T12:57:11.343Z"
   },
   {
    "duration": 17,
    "start_time": "2022-03-20T12:57:11.418Z"
   },
   {
    "duration": 9,
    "start_time": "2022-03-20T12:57:11.436Z"
   },
   {
    "duration": 25,
    "start_time": "2022-03-20T12:57:11.447Z"
   },
   {
    "duration": 27,
    "start_time": "2022-03-20T12:57:11.509Z"
   },
   {
    "duration": 43,
    "start_time": "2022-03-20T12:57:11.538Z"
   },
   {
    "duration": 52,
    "start_time": "2022-03-20T12:57:11.583Z"
   },
   {
    "duration": 15,
    "start_time": "2022-03-20T12:57:11.637Z"
   },
   {
    "duration": 10,
    "start_time": "2022-03-20T12:57:11.653Z"
   },
   {
    "duration": 53,
    "start_time": "2022-03-20T12:57:11.665Z"
   },
   {
    "duration": 7,
    "start_time": "2022-03-20T12:57:11.721Z"
   },
   {
    "duration": 7,
    "start_time": "2022-03-20T12:57:11.729Z"
   },
   {
    "duration": 14,
    "start_time": "2022-03-20T12:57:11.737Z"
   },
   {
    "duration": 65,
    "start_time": "2022-03-20T12:57:11.753Z"
   },
   {
    "duration": 15,
    "start_time": "2022-03-20T12:57:11.821Z"
   },
   {
    "duration": 18,
    "start_time": "2022-03-20T12:57:11.838Z"
   },
   {
    "duration": 23,
    "start_time": "2022-03-20T12:57:11.858Z"
   },
   {
    "duration": 32,
    "start_time": "2022-03-20T12:57:11.916Z"
   },
   {
    "duration": 0,
    "start_time": "2022-03-20T12:57:11.949Z"
   },
   {
    "duration": 0,
    "start_time": "2022-03-20T12:57:11.951Z"
   },
   {
    "duration": 0,
    "start_time": "2022-03-20T12:57:11.952Z"
   },
   {
    "duration": 21,
    "start_time": "2022-03-20T12:58:37.693Z"
   },
   {
    "duration": 73,
    "start_time": "2022-03-20T13:00:11.439Z"
   },
   {
    "duration": 26,
    "start_time": "2022-03-20T13:02:28.810Z"
   },
   {
    "duration": 18,
    "start_time": "2022-03-20T13:03:17.669Z"
   },
   {
    "duration": 24,
    "start_time": "2022-03-20T13:03:55.306Z"
   },
   {
    "duration": 81,
    "start_time": "2022-03-20T13:03:59.564Z"
   },
   {
    "duration": 13,
    "start_time": "2022-03-20T13:03:59.646Z"
   },
   {
    "duration": 9,
    "start_time": "2022-03-20T13:03:59.661Z"
   },
   {
    "duration": 51,
    "start_time": "2022-03-20T13:03:59.672Z"
   },
   {
    "duration": 18,
    "start_time": "2022-03-20T13:03:59.726Z"
   },
   {
    "duration": 82,
    "start_time": "2022-03-20T13:03:59.746Z"
   },
   {
    "duration": 19,
    "start_time": "2022-03-20T13:03:59.830Z"
   },
   {
    "duration": 14,
    "start_time": "2022-03-20T13:03:59.850Z"
   },
   {
    "duration": 47,
    "start_time": "2022-03-20T13:03:59.866Z"
   },
   {
    "duration": 12,
    "start_time": "2022-03-20T13:03:59.916Z"
   },
   {
    "duration": 14,
    "start_time": "2022-03-20T13:03:59.929Z"
   },
   {
    "duration": 8,
    "start_time": "2022-03-20T13:03:59.945Z"
   },
   {
    "duration": 62,
    "start_time": "2022-03-20T13:03:59.955Z"
   },
   {
    "duration": 19,
    "start_time": "2022-03-20T13:04:00.018Z"
   },
   {
    "duration": 14,
    "start_time": "2022-03-20T13:04:00.040Z"
   },
   {
    "duration": 26,
    "start_time": "2022-03-20T13:04:00.056Z"
   },
   {
    "duration": 27,
    "start_time": "2022-03-20T13:04:00.111Z"
   },
   {
    "duration": 18,
    "start_time": "2022-03-20T13:04:00.139Z"
   },
   {
    "duration": 0,
    "start_time": "2022-03-20T13:04:00.159Z"
   },
   {
    "duration": 0,
    "start_time": "2022-03-20T13:04:00.160Z"
   },
   {
    "duration": 0,
    "start_time": "2022-03-20T13:04:00.162Z"
   },
   {
    "duration": 18,
    "start_time": "2022-03-20T13:04:46.982Z"
   },
   {
    "duration": 18,
    "start_time": "2022-03-20T13:05:30.451Z"
   },
   {
    "duration": 24,
    "start_time": "2022-03-20T13:10:00.980Z"
   },
   {
    "duration": 16,
    "start_time": "2022-03-20T13:19:14.981Z"
   },
   {
    "duration": 56,
    "start_time": "2022-03-20T13:20:50.626Z"
   },
   {
    "duration": 26,
    "start_time": "2022-03-20T13:21:24.360Z"
   },
   {
    "duration": 67,
    "start_time": "2022-03-20T13:25:28.814Z"
   },
   {
    "duration": 1110,
    "start_time": "2022-03-20T13:25:39.449Z"
   },
   {
    "duration": 1652,
    "start_time": "2022-03-20T13:26:04.052Z"
   },
   {
    "duration": 1083,
    "start_time": "2022-03-20T13:26:34.886Z"
   },
   {
    "duration": 23,
    "start_time": "2022-03-20T13:27:39.127Z"
   },
   {
    "duration": 1172,
    "start_time": "2022-03-20T13:28:29.683Z"
   },
   {
    "duration": 85,
    "start_time": "2022-03-20T13:29:45.021Z"
   },
   {
    "duration": 1129,
    "start_time": "2022-03-20T13:30:15.844Z"
   },
   {
    "duration": 28,
    "start_time": "2022-03-20T13:38:09.628Z"
   },
   {
    "duration": 8,
    "start_time": "2022-03-20T13:39:49.052Z"
   },
   {
    "duration": 28,
    "start_time": "2022-03-20T13:40:28.277Z"
   },
   {
    "duration": 10,
    "start_time": "2022-03-20T13:40:55.082Z"
   },
   {
    "duration": 18,
    "start_time": "2022-03-20T13:41:55.801Z"
   },
   {
    "duration": 9,
    "start_time": "2022-03-20T13:42:20.124Z"
   },
   {
    "duration": 22,
    "start_time": "2022-03-20T13:42:32.144Z"
   },
   {
    "duration": 18,
    "start_time": "2022-03-20T13:42:59.576Z"
   },
   {
    "duration": 8,
    "start_time": "2022-03-20T13:43:29.386Z"
   },
   {
    "duration": 23,
    "start_time": "2022-03-20T13:43:44.517Z"
   },
   {
    "duration": 23,
    "start_time": "2022-03-20T13:45:14.725Z"
   },
   {
    "duration": 77,
    "start_time": "2022-03-20T13:45:39.386Z"
   },
   {
    "duration": 13,
    "start_time": "2022-03-20T13:45:39.465Z"
   },
   {
    "duration": 9,
    "start_time": "2022-03-20T13:45:39.479Z"
   },
   {
    "duration": 35,
    "start_time": "2022-03-20T13:45:39.509Z"
   },
   {
    "duration": 18,
    "start_time": "2022-03-20T13:45:39.545Z"
   },
   {
    "duration": 86,
    "start_time": "2022-03-20T13:45:39.564Z"
   },
   {
    "duration": 19,
    "start_time": "2022-03-20T13:45:39.652Z"
   },
   {
    "duration": 57,
    "start_time": "2022-03-20T13:45:39.672Z"
   },
   {
    "duration": 9,
    "start_time": "2022-03-20T13:45:39.731Z"
   },
   {
    "duration": 6,
    "start_time": "2022-03-20T13:45:39.742Z"
   },
   {
    "duration": 8,
    "start_time": "2022-03-20T13:45:39.750Z"
   },
   {
    "duration": 7,
    "start_time": "2022-03-20T13:45:39.760Z"
   },
   {
    "duration": 21,
    "start_time": "2022-03-20T13:45:39.812Z"
   },
   {
    "duration": 12,
    "start_time": "2022-03-20T13:45:39.834Z"
   },
   {
    "duration": 11,
    "start_time": "2022-03-20T13:45:39.849Z"
   },
   {
    "duration": 47,
    "start_time": "2022-03-20T13:45:39.862Z"
   },
   {
    "duration": 30,
    "start_time": "2022-03-20T13:45:39.913Z"
   },
   {
    "duration": 23,
    "start_time": "2022-03-20T13:45:39.945Z"
   },
   {
    "duration": 45,
    "start_time": "2022-03-20T13:45:39.970Z"
   },
   {
    "duration": 27,
    "start_time": "2022-03-20T13:45:40.017Z"
   },
   {
    "duration": 21,
    "start_time": "2022-03-20T13:45:40.046Z"
   },
   {
    "duration": 19,
    "start_time": "2022-03-20T14:06:00.764Z"
   },
   {
    "duration": 30,
    "start_time": "2022-03-20T14:07:39.802Z"
   },
   {
    "duration": 20,
    "start_time": "2022-03-20T14:08:00.353Z"
   },
   {
    "duration": 1418,
    "start_time": "2022-03-20T14:08:37.645Z"
   },
   {
    "duration": 18,
    "start_time": "2022-03-20T14:08:58.230Z"
   },
   {
    "duration": 17,
    "start_time": "2022-03-20T14:09:15.590Z"
   },
   {
    "duration": 66,
    "start_time": "2022-03-20T14:09:50.544Z"
   },
   {
    "duration": 1375,
    "start_time": "2022-03-20T14:11:53.439Z"
   },
   {
    "duration": 1181,
    "start_time": "2022-03-20T14:12:29.274Z"
   },
   {
    "duration": 31,
    "start_time": "2022-03-20T14:13:50.321Z"
   },
   {
    "duration": 28,
    "start_time": "2022-03-20T14:14:15.274Z"
   },
   {
    "duration": 1196,
    "start_time": "2022-03-20T14:15:06.750Z"
   },
   {
    "duration": 67,
    "start_time": "2022-03-20T14:16:59.568Z"
   },
   {
    "duration": 27,
    "start_time": "2022-03-20T14:17:09.905Z"
   },
   {
    "duration": 19,
    "start_time": "2022-03-20T14:18:14.048Z"
   },
   {
    "duration": 17,
    "start_time": "2022-03-20T14:24:07.077Z"
   },
   {
    "duration": 18,
    "start_time": "2022-03-20T14:24:59.221Z"
   },
   {
    "duration": 65,
    "start_time": "2022-03-20T14:26:02.670Z"
   },
   {
    "duration": 18,
    "start_time": "2022-03-20T14:26:10.652Z"
   },
   {
    "duration": 968,
    "start_time": "2022-03-20T14:29:31.524Z"
   },
   {
    "duration": 888,
    "start_time": "2022-03-20T14:29:57.555Z"
   },
   {
    "duration": 19,
    "start_time": "2022-03-20T14:31:24.419Z"
   },
   {
    "duration": 15,
    "start_time": "2022-03-20T14:32:01.257Z"
   },
   {
    "duration": 21,
    "start_time": "2022-03-20T14:32:22.212Z"
   },
   {
    "duration": 44,
    "start_time": "2022-03-20T14:32:34.992Z"
   },
   {
    "duration": 34,
    "start_time": "2022-03-20T14:32:56.864Z"
   },
   {
    "duration": 28,
    "start_time": "2022-03-20T14:34:28.661Z"
   },
   {
    "duration": 37,
    "start_time": "2022-03-20T14:35:16.702Z"
   },
   {
    "duration": 4,
    "start_time": "2022-03-20T15:21:09.594Z"
   },
   {
    "duration": 9,
    "start_time": "2022-03-20T15:21:27.291Z"
   },
   {
    "duration": 20,
    "start_time": "2022-03-20T15:21:50.122Z"
   },
   {
    "duration": 18,
    "start_time": "2022-03-20T15:23:16.536Z"
   },
   {
    "duration": 18,
    "start_time": "2022-03-20T15:24:45.328Z"
   },
   {
    "duration": 100,
    "start_time": "2022-03-20T15:25:09.553Z"
   },
   {
    "duration": 8,
    "start_time": "2022-03-20T15:25:22.840Z"
   },
   {
    "duration": 17,
    "start_time": "2022-03-20T15:25:41.976Z"
   },
   {
    "duration": 96,
    "start_time": "2022-03-20T15:26:18.995Z"
   },
   {
    "duration": 18,
    "start_time": "2022-03-20T15:26:35.390Z"
   },
   {
    "duration": 74,
    "start_time": "2022-03-20T15:29:02.367Z"
   },
   {
    "duration": 557,
    "start_time": "2022-03-20T15:29:42.567Z"
   },
   {
    "duration": 19,
    "start_time": "2022-03-20T15:31:06.918Z"
   },
   {
    "duration": 17,
    "start_time": "2022-03-20T15:31:40.889Z"
   },
   {
    "duration": 20,
    "start_time": "2022-03-20T15:32:34.367Z"
   },
   {
    "duration": 11,
    "start_time": "2022-03-20T15:33:27.989Z"
   },
   {
    "duration": 61,
    "start_time": "2022-03-20T15:35:42.663Z"
   },
   {
    "duration": 23,
    "start_time": "2022-03-20T15:35:54.549Z"
   },
   {
    "duration": 17,
    "start_time": "2022-03-20T15:36:25.226Z"
   },
   {
    "duration": 17,
    "start_time": "2022-03-20T15:36:30.524Z"
   },
   {
    "duration": 18,
    "start_time": "2022-03-20T15:36:46.562Z"
   },
   {
    "duration": 17,
    "start_time": "2022-03-20T15:37:08.542Z"
   },
   {
    "duration": 17,
    "start_time": "2022-03-20T15:37:30.625Z"
   },
   {
    "duration": 16,
    "start_time": "2022-03-20T15:38:58.153Z"
   },
   {
    "duration": 22,
    "start_time": "2022-03-20T15:39:10.329Z"
   },
   {
    "duration": 17,
    "start_time": "2022-03-20T15:39:31.050Z"
   },
   {
    "duration": 15,
    "start_time": "2022-03-20T15:39:54.051Z"
   },
   {
    "duration": 22,
    "start_time": "2022-03-20T15:40:08.703Z"
   },
   {
    "duration": 17,
    "start_time": "2022-03-20T15:40:20.727Z"
   },
   {
    "duration": 16,
    "start_time": "2022-03-20T15:40:34.681Z"
   },
   {
    "duration": 113,
    "start_time": "2022-03-20T15:42:37.341Z"
   },
   {
    "duration": 17,
    "start_time": "2022-03-20T15:42:52.977Z"
   },
   {
    "duration": 16,
    "start_time": "2022-03-20T15:44:11.822Z"
   },
   {
    "duration": 22,
    "start_time": "2022-03-20T15:44:42.215Z"
   },
   {
    "duration": 17,
    "start_time": "2022-03-20T15:44:48.853Z"
   },
   {
    "duration": 22,
    "start_time": "2022-03-20T15:45:05.708Z"
   },
   {
    "duration": 18,
    "start_time": "2022-03-20T15:46:46.757Z"
   },
   {
    "duration": 19,
    "start_time": "2022-03-20T15:49:19.863Z"
   },
   {
    "duration": 18,
    "start_time": "2022-03-20T15:49:32.350Z"
   },
   {
    "duration": 19,
    "start_time": "2022-03-20T15:50:41.052Z"
   },
   {
    "duration": 16,
    "start_time": "2022-03-20T15:53:39.817Z"
   },
   {
    "duration": 21,
    "start_time": "2022-03-20T15:54:46.710Z"
   },
   {
    "duration": 15,
    "start_time": "2022-03-20T15:55:19.056Z"
   },
   {
    "duration": 15,
    "start_time": "2022-03-20T15:55:31.754Z"
   },
   {
    "duration": 17,
    "start_time": "2022-03-20T15:59:10.404Z"
   },
   {
    "duration": 16,
    "start_time": "2022-03-20T16:00:58.559Z"
   },
   {
    "duration": 17,
    "start_time": "2022-03-20T16:07:17.720Z"
   },
   {
    "duration": 18,
    "start_time": "2022-03-20T16:10:06.832Z"
   },
   {
    "duration": 19,
    "start_time": "2022-03-20T16:14:25.209Z"
   },
   {
    "duration": 19,
    "start_time": "2022-03-20T16:14:51.238Z"
   },
   {
    "duration": 30,
    "start_time": "2022-03-20T16:16:53.405Z"
   },
   {
    "duration": 18,
    "start_time": "2022-03-20T16:18:13.133Z"
   },
   {
    "duration": 20,
    "start_time": "2022-03-20T16:19:46.487Z"
   },
   {
    "duration": 14,
    "start_time": "2022-03-20T16:28:54.645Z"
   },
   {
    "duration": 193,
    "start_time": "2022-03-20T16:36:53.704Z"
   },
   {
    "duration": 23,
    "start_time": "2022-03-20T16:36:53.900Z"
   },
   {
    "duration": 13,
    "start_time": "2022-03-20T16:36:53.925Z"
   },
   {
    "duration": 8,
    "start_time": "2022-03-20T16:36:53.940Z"
   },
   {
    "duration": 25,
    "start_time": "2022-03-20T16:36:53.949Z"
   },
   {
    "duration": 48,
    "start_time": "2022-03-20T16:36:53.976Z"
   },
   {
    "duration": 44,
    "start_time": "2022-03-20T16:36:54.026Z"
   },
   {
    "duration": 48,
    "start_time": "2022-03-20T16:36:54.072Z"
   },
   {
    "duration": 16,
    "start_time": "2022-03-20T16:36:54.125Z"
   },
   {
    "duration": 7,
    "start_time": "2022-03-20T16:36:54.143Z"
   },
   {
    "duration": 7,
    "start_time": "2022-03-20T16:36:54.151Z"
   },
   {
    "duration": 8,
    "start_time": "2022-03-20T16:36:54.160Z"
   },
   {
    "duration": 15,
    "start_time": "2022-03-20T16:36:54.211Z"
   },
   {
    "duration": 13,
    "start_time": "2022-03-20T16:36:54.228Z"
   },
   {
    "duration": 11,
    "start_time": "2022-03-20T16:36:54.243Z"
   },
   {
    "duration": 12,
    "start_time": "2022-03-20T16:36:54.256Z"
   },
   {
    "duration": 66,
    "start_time": "2022-03-20T16:36:54.270Z"
   },
   {
    "duration": 21,
    "start_time": "2022-03-20T16:36:54.337Z"
   },
   {
    "duration": 19,
    "start_time": "2022-03-20T16:36:54.360Z"
   },
   {
    "duration": 47,
    "start_time": "2022-03-20T16:36:54.382Z"
   },
   {
    "duration": 18,
    "start_time": "2022-03-20T16:36:54.431Z"
   },
   {
    "duration": 19,
    "start_time": "2022-03-20T16:36:54.451Z"
   },
   {
    "duration": 70,
    "start_time": "2022-03-20T16:39:11.288Z"
   },
   {
    "duration": 11,
    "start_time": "2022-03-20T16:45:01.458Z"
   },
   {
    "duration": 69,
    "start_time": "2022-03-20T16:45:07.873Z"
   },
   {
    "duration": 14,
    "start_time": "2022-03-20T16:45:07.944Z"
   },
   {
    "duration": 15,
    "start_time": "2022-03-20T16:45:07.960Z"
   },
   {
    "duration": 32,
    "start_time": "2022-03-20T16:45:07.977Z"
   },
   {
    "duration": 9,
    "start_time": "2022-03-20T16:45:08.011Z"
   },
   {
    "duration": 25,
    "start_time": "2022-03-20T16:45:08.022Z"
   },
   {
    "duration": 17,
    "start_time": "2022-03-20T16:45:08.048Z"
   },
   {
    "duration": 79,
    "start_time": "2022-03-20T16:45:08.067Z"
   },
   {
    "duration": 23,
    "start_time": "2022-03-20T16:45:08.149Z"
   },
   {
    "duration": 45,
    "start_time": "2022-03-20T16:45:08.175Z"
   },
   {
    "duration": 16,
    "start_time": "2022-03-20T16:45:08.222Z"
   },
   {
    "duration": 12,
    "start_time": "2022-03-20T16:45:08.240Z"
   },
   {
    "duration": 17,
    "start_time": "2022-03-20T16:45:08.254Z"
   },
   {
    "duration": 8,
    "start_time": "2022-03-20T16:45:08.273Z"
   },
   {
    "duration": 27,
    "start_time": "2022-03-20T16:45:08.283Z"
   },
   {
    "duration": 13,
    "start_time": "2022-03-20T16:45:08.312Z"
   },
   {
    "duration": 13,
    "start_time": "2022-03-20T16:45:08.326Z"
   },
   {
    "duration": 24,
    "start_time": "2022-03-20T16:45:08.341Z"
   },
   {
    "duration": 50,
    "start_time": "2022-03-20T16:45:08.367Z"
   },
   {
    "duration": 26,
    "start_time": "2022-03-20T16:45:08.420Z"
   },
   {
    "duration": 19,
    "start_time": "2022-03-20T16:45:08.448Z"
   },
   {
    "duration": 41,
    "start_time": "2022-03-20T16:45:08.469Z"
   },
   {
    "duration": 21,
    "start_time": "2022-03-20T16:45:08.511Z"
   },
   {
    "duration": 4,
    "start_time": "2022-03-20T16:48:32.280Z"
   },
   {
    "duration": 18,
    "start_time": "2022-03-20T16:48:40.546Z"
   },
   {
    "duration": 66,
    "start_time": "2022-03-20T16:49:34.143Z"
   },
   {
    "duration": 15,
    "start_time": "2022-03-20T16:49:34.211Z"
   },
   {
    "duration": 11,
    "start_time": "2022-03-20T16:49:34.228Z"
   },
   {
    "duration": 16,
    "start_time": "2022-03-20T16:49:34.241Z"
   },
   {
    "duration": 52,
    "start_time": "2022-03-20T16:49:34.259Z"
   },
   {
    "duration": 10,
    "start_time": "2022-03-20T16:49:34.313Z"
   },
   {
    "duration": 26,
    "start_time": "2022-03-20T16:49:34.325Z"
   },
   {
    "duration": 19,
    "start_time": "2022-03-20T16:49:34.353Z"
   },
   {
    "duration": 50,
    "start_time": "2022-03-20T16:49:34.408Z"
   },
   {
    "duration": 55,
    "start_time": "2022-03-20T16:49:34.461Z"
   },
   {
    "duration": 17,
    "start_time": "2022-03-20T16:49:34.518Z"
   },
   {
    "duration": 8,
    "start_time": "2022-03-20T16:49:34.537Z"
   },
   {
    "duration": 7,
    "start_time": "2022-03-20T16:49:34.547Z"
   },
   {
    "duration": 10,
    "start_time": "2022-03-20T16:49:34.555Z"
   },
   {
    "duration": 43,
    "start_time": "2022-03-20T16:49:34.567Z"
   },
   {
    "duration": 14,
    "start_time": "2022-03-20T16:49:34.612Z"
   },
   {
    "duration": 13,
    "start_time": "2022-03-20T16:49:34.628Z"
   },
   {
    "duration": 15,
    "start_time": "2022-03-20T16:49:34.643Z"
   },
   {
    "duration": 59,
    "start_time": "2022-03-20T16:49:34.660Z"
   },
   {
    "duration": 25,
    "start_time": "2022-03-20T16:49:34.721Z"
   },
   {
    "duration": 19,
    "start_time": "2022-03-20T16:49:34.748Z"
   },
   {
    "duration": 41,
    "start_time": "2022-03-20T16:49:34.769Z"
   },
   {
    "duration": 21,
    "start_time": "2022-03-20T16:49:34.811Z"
   },
   {
    "duration": 25,
    "start_time": "2022-03-20T16:49:34.834Z"
   },
   {
    "duration": 19,
    "start_time": "2022-03-20T16:58:45.086Z"
   },
   {
    "duration": 22,
    "start_time": "2022-03-20T17:00:06.261Z"
   },
   {
    "duration": 19,
    "start_time": "2022-03-20T17:00:17.027Z"
   },
   {
    "duration": 19,
    "start_time": "2022-03-20T17:02:40.959Z"
   },
   {
    "duration": 102,
    "start_time": "2022-03-20T17:03:35.492Z"
   },
   {
    "duration": 19,
    "start_time": "2022-03-20T17:03:47.845Z"
   },
   {
    "duration": 19,
    "start_time": "2022-03-20T17:03:59.953Z"
   },
   {
    "duration": 19,
    "start_time": "2022-03-20T17:04:07.113Z"
   },
   {
    "duration": 21,
    "start_time": "2022-03-20T17:04:21.863Z"
   },
   {
    "duration": 8,
    "start_time": "2022-03-20T17:08:36.888Z"
   },
   {
    "duration": 72,
    "start_time": "2022-03-20T17:08:41.541Z"
   },
   {
    "duration": 16,
    "start_time": "2022-03-20T17:08:41.615Z"
   },
   {
    "duration": 12,
    "start_time": "2022-03-20T17:08:41.632Z"
   },
   {
    "duration": 18,
    "start_time": "2022-03-20T17:08:41.646Z"
   },
   {
    "duration": 5,
    "start_time": "2022-03-20T17:08:41.666Z"
   },
   {
    "duration": 43,
    "start_time": "2022-03-20T17:08:41.673Z"
   },
   {
    "duration": 26,
    "start_time": "2022-03-20T17:08:41.717Z"
   },
   {
    "duration": 18,
    "start_time": "2022-03-20T17:08:41.745Z"
   },
   {
    "duration": 83,
    "start_time": "2022-03-20T17:08:41.764Z"
   },
   {
    "duration": 20,
    "start_time": "2022-03-20T17:08:41.850Z"
   },
   {
    "duration": 40,
    "start_time": "2022-03-20T17:08:41.872Z"
   },
   {
    "duration": 8,
    "start_time": "2022-03-20T17:08:41.913Z"
   },
   {
    "duration": 8,
    "start_time": "2022-03-20T17:08:41.923Z"
   },
   {
    "duration": 10,
    "start_time": "2022-03-20T17:08:41.933Z"
   },
   {
    "duration": 6,
    "start_time": "2022-03-20T17:08:41.944Z"
   },
   {
    "duration": 13,
    "start_time": "2022-03-20T17:08:41.952Z"
   },
   {
    "duration": 51,
    "start_time": "2022-03-20T17:08:41.967Z"
   },
   {
    "duration": 13,
    "start_time": "2022-03-20T17:08:42.020Z"
   },
   {
    "duration": 23,
    "start_time": "2022-03-20T17:08:42.035Z"
   },
   {
    "duration": 20,
    "start_time": "2022-03-20T17:08:42.059Z"
   },
   {
    "duration": 26,
    "start_time": "2022-03-20T17:08:42.109Z"
   },
   {
    "duration": 21,
    "start_time": "2022-03-20T17:08:42.137Z"
   },
   {
    "duration": 19,
    "start_time": "2022-03-20T17:08:42.160Z"
   },
   {
    "duration": 44,
    "start_time": "2022-03-20T17:08:42.181Z"
   },
   {
    "duration": 68,
    "start_time": "2022-03-20T17:12:54.972Z"
   },
   {
    "duration": 17,
    "start_time": "2022-03-20T17:12:55.043Z"
   },
   {
    "duration": 13,
    "start_time": "2022-03-20T17:12:55.062Z"
   },
   {
    "duration": 51,
    "start_time": "2022-03-20T17:12:55.078Z"
   },
   {
    "duration": 6,
    "start_time": "2022-03-20T17:12:55.131Z"
   },
   {
    "duration": 12,
    "start_time": "2022-03-20T17:12:55.139Z"
   },
   {
    "duration": 19,
    "start_time": "2022-03-20T17:12:55.153Z"
   },
   {
    "duration": 79,
    "start_time": "2022-03-20T17:12:55.174Z"
   },
   {
    "duration": 20,
    "start_time": "2022-03-20T17:12:55.255Z"
   },
   {
    "duration": 43,
    "start_time": "2022-03-20T17:12:55.278Z"
   },
   {
    "duration": 11,
    "start_time": "2022-03-20T17:12:55.323Z"
   },
   {
    "duration": 6,
    "start_time": "2022-03-20T17:12:55.336Z"
   },
   {
    "duration": 7,
    "start_time": "2022-03-20T17:12:55.344Z"
   },
   {
    "duration": 7,
    "start_time": "2022-03-20T17:12:55.353Z"
   },
   {
    "duration": 12,
    "start_time": "2022-03-20T17:12:55.362Z"
   },
   {
    "duration": 44,
    "start_time": "2022-03-20T17:12:55.375Z"
   },
   {
    "duration": 14,
    "start_time": "2022-03-20T17:12:55.420Z"
   },
   {
    "duration": 34,
    "start_time": "2022-03-20T17:12:55.436Z"
   },
   {
    "duration": 19,
    "start_time": "2022-03-20T17:12:55.472Z"
   },
   {
    "duration": 27,
    "start_time": "2022-03-20T17:12:55.509Z"
   },
   {
    "duration": 18,
    "start_time": "2022-03-20T17:12:55.538Z"
   },
   {
    "duration": 20,
    "start_time": "2022-03-20T17:12:55.558Z"
   },
   {
    "duration": 41,
    "start_time": "2022-03-20T17:12:55.580Z"
   },
   {
    "duration": 37,
    "start_time": "2022-03-20T17:18:33.394Z"
   },
   {
    "duration": 9,
    "start_time": "2022-03-20T17:37:43.715Z"
   },
   {
    "duration": 808,
    "start_time": "2022-03-20T17:37:51.371Z"
   },
   {
    "duration": 74,
    "start_time": "2022-03-20T17:41:31.177Z"
   },
   {
    "duration": 32,
    "start_time": "2022-03-20T17:41:38.262Z"
   },
   {
    "duration": 323,
    "start_time": "2022-03-20T17:42:01.032Z"
   },
   {
    "duration": 166,
    "start_time": "2022-03-20T17:45:32.869Z"
   },
   {
    "duration": 71,
    "start_time": "2022-03-20T17:48:39.694Z"
   },
   {
    "duration": 66,
    "start_time": "2022-03-20T17:50:12.560Z"
   },
   {
    "duration": 67,
    "start_time": "2022-03-20T17:50:20.104Z"
   },
   {
    "duration": 14,
    "start_time": "2022-03-20T17:51:36.581Z"
   },
   {
    "duration": 188,
    "start_time": "2022-03-20T17:51:42.672Z"
   },
   {
    "duration": 22,
    "start_time": "2022-03-20T17:52:00.011Z"
   },
   {
    "duration": 14,
    "start_time": "2022-03-20T17:52:09.833Z"
   },
   {
    "duration": 172,
    "start_time": "2022-03-20T17:52:41.358Z"
   },
   {
    "duration": 68,
    "start_time": "2022-03-20T17:53:50.822Z"
   },
   {
    "duration": 671,
    "start_time": "2022-03-20T17:57:11.660Z"
   },
   {
    "duration": 167,
    "start_time": "2022-03-20T17:57:48.900Z"
   },
   {
    "duration": 136,
    "start_time": "2022-03-20T18:00:05.107Z"
   },
   {
    "duration": 178,
    "start_time": "2022-03-20T18:00:53.276Z"
   },
   {
    "duration": 60,
    "start_time": "2022-03-20T18:02:04.738Z"
   },
   {
    "duration": 62,
    "start_time": "2022-03-20T18:02:12.876Z"
   },
   {
    "duration": 70,
    "start_time": "2022-03-20T18:02:21.452Z"
   },
   {
    "duration": 183,
    "start_time": "2022-03-20T18:02:33.208Z"
   },
   {
    "duration": 74,
    "start_time": "2022-03-20T18:11:31.809Z"
   },
   {
    "duration": 181,
    "start_time": "2022-03-20T18:11:40.869Z"
   },
   {
    "duration": 188,
    "start_time": "2022-03-20T18:18:48.174Z"
   },
   {
    "duration": 361,
    "start_time": "2022-03-20T18:19:25.124Z"
   },
   {
    "duration": 213,
    "start_time": "2022-03-20T18:19:47.011Z"
   },
   {
    "duration": 219,
    "start_time": "2022-03-20T18:21:18.807Z"
   },
   {
    "duration": 185,
    "start_time": "2022-03-20T18:22:06.904Z"
   },
   {
    "duration": 75,
    "start_time": "2022-03-20T18:22:34.477Z"
   },
   {
    "duration": 16,
    "start_time": "2022-03-20T18:22:34.554Z"
   },
   {
    "duration": 11,
    "start_time": "2022-03-20T18:22:34.572Z"
   },
   {
    "duration": 37,
    "start_time": "2022-03-20T18:22:34.586Z"
   },
   {
    "duration": 183,
    "start_time": "2022-03-20T18:22:34.624Z"
   },
   {
    "duration": 183,
    "start_time": "2022-03-20T18:22:34.809Z"
   },
   {
    "duration": 0,
    "start_time": "2022-03-20T18:22:34.994Z"
   },
   {
    "duration": 0,
    "start_time": "2022-03-20T18:22:34.996Z"
   },
   {
    "duration": 0,
    "start_time": "2022-03-20T18:22:34.997Z"
   },
   {
    "duration": 0,
    "start_time": "2022-03-20T18:22:34.998Z"
   },
   {
    "duration": 0,
    "start_time": "2022-03-20T18:22:34.999Z"
   },
   {
    "duration": 0,
    "start_time": "2022-03-20T18:22:35.008Z"
   },
   {
    "duration": 0,
    "start_time": "2022-03-20T18:22:35.009Z"
   },
   {
    "duration": 0,
    "start_time": "2022-03-20T18:22:35.011Z"
   },
   {
    "duration": 0,
    "start_time": "2022-03-20T18:22:35.012Z"
   },
   {
    "duration": 0,
    "start_time": "2022-03-20T18:22:35.013Z"
   },
   {
    "duration": 0,
    "start_time": "2022-03-20T18:22:35.014Z"
   },
   {
    "duration": 0,
    "start_time": "2022-03-20T18:22:35.015Z"
   },
   {
    "duration": 0,
    "start_time": "2022-03-20T18:22:35.016Z"
   },
   {
    "duration": 0,
    "start_time": "2022-03-20T18:22:35.017Z"
   },
   {
    "duration": 0,
    "start_time": "2022-03-20T18:22:35.018Z"
   },
   {
    "duration": 0,
    "start_time": "2022-03-20T18:22:35.019Z"
   },
   {
    "duration": 0,
    "start_time": "2022-03-20T18:22:35.020Z"
   },
   {
    "duration": 0,
    "start_time": "2022-03-20T18:22:35.021Z"
   },
   {
    "duration": 0,
    "start_time": "2022-03-20T18:22:35.022Z"
   },
   {
    "duration": 167,
    "start_time": "2022-03-20T18:23:30.484Z"
   },
   {
    "duration": 159,
    "start_time": "2022-03-20T18:23:41.655Z"
   },
   {
    "duration": 71,
    "start_time": "2022-03-20T18:23:51.281Z"
   },
   {
    "duration": 15,
    "start_time": "2022-03-20T18:23:51.354Z"
   },
   {
    "duration": 12,
    "start_time": "2022-03-20T18:23:51.371Z"
   },
   {
    "duration": 39,
    "start_time": "2022-03-20T18:23:51.385Z"
   },
   {
    "duration": 184,
    "start_time": "2022-03-20T18:23:51.425Z"
   },
   {
    "duration": 172,
    "start_time": "2022-03-20T18:23:51.610Z"
   },
   {
    "duration": 6,
    "start_time": "2022-03-20T18:23:51.784Z"
   },
   {
    "duration": 20,
    "start_time": "2022-03-20T18:23:51.792Z"
   },
   {
    "duration": 19,
    "start_time": "2022-03-20T18:23:51.814Z"
   },
   {
    "duration": 39,
    "start_time": "2022-03-20T18:23:51.836Z"
   },
   {
    "duration": 48,
    "start_time": "2022-03-20T18:23:51.876Z"
   },
   {
    "duration": 16,
    "start_time": "2022-03-20T18:23:51.925Z"
   },
   {
    "duration": 11,
    "start_time": "2022-03-20T18:23:51.942Z"
   },
   {
    "duration": 7,
    "start_time": "2022-03-20T18:23:51.955Z"
   },
   {
    "duration": 7,
    "start_time": "2022-03-20T18:23:51.963Z"
   },
   {
    "duration": 42,
    "start_time": "2022-03-20T18:23:51.972Z"
   },
   {
    "duration": 14,
    "start_time": "2022-03-20T18:23:52.015Z"
   },
   {
    "duration": 12,
    "start_time": "2022-03-20T18:23:52.031Z"
   },
   {
    "duration": 13,
    "start_time": "2022-03-20T18:23:52.044Z"
   },
   {
    "duration": 53,
    "start_time": "2022-03-20T18:23:52.059Z"
   },
   {
    "duration": 18,
    "start_time": "2022-03-20T18:23:52.114Z"
   },
   {
    "duration": 18,
    "start_time": "2022-03-20T18:23:52.134Z"
   },
   {
    "duration": 18,
    "start_time": "2022-03-20T18:23:52.153Z"
   },
   {
    "duration": 47,
    "start_time": "2022-03-20T18:23:52.172Z"
   },
   {
    "duration": 19,
    "start_time": "2022-03-20T18:23:52.220Z"
   },
   {
    "duration": 164,
    "start_time": "2022-03-20T18:25:35.825Z"
   },
   {
    "duration": 157,
    "start_time": "2022-03-20T18:25:42.877Z"
   },
   {
    "duration": 172,
    "start_time": "2022-03-20T18:25:51.897Z"
   },
   {
    "duration": 61,
    "start_time": "2022-03-20T18:26:59.269Z"
   },
   {
    "duration": 77,
    "start_time": "2022-03-20T18:28:01.036Z"
   },
   {
    "duration": 186,
    "start_time": "2022-03-20T18:28:12.122Z"
   },
   {
    "duration": 227,
    "start_time": "2022-03-20T18:29:18.787Z"
   },
   {
    "duration": 146,
    "start_time": "2022-03-20T18:42:15.617Z"
   },
   {
    "duration": 273,
    "start_time": "2022-03-20T18:44:56.418Z"
   },
   {
    "duration": 392,
    "start_time": "2022-03-20T18:52:00.557Z"
   },
   {
    "duration": 108,
    "start_time": "2022-03-20T18:57:36.534Z"
   },
   {
    "duration": 73,
    "start_time": "2022-03-20T18:59:53.629Z"
   },
   {
    "duration": 16,
    "start_time": "2022-03-20T18:59:53.706Z"
   },
   {
    "duration": 11,
    "start_time": "2022-03-20T18:59:53.723Z"
   },
   {
    "duration": 16,
    "start_time": "2022-03-20T18:59:53.736Z"
   },
   {
    "duration": 192,
    "start_time": "2022-03-20T18:59:53.754Z"
   },
   {
    "duration": 282,
    "start_time": "2022-03-20T18:59:53.947Z"
   },
   {
    "duration": 221,
    "start_time": "2022-03-20T18:59:54.230Z"
   },
   {
    "duration": 6,
    "start_time": "2022-03-20T18:59:54.452Z"
   },
   {
    "duration": 9,
    "start_time": "2022-03-20T18:59:54.459Z"
   },
   {
    "duration": 39,
    "start_time": "2022-03-20T18:59:54.471Z"
   },
   {
    "duration": 34,
    "start_time": "2022-03-20T18:59:54.511Z"
   },
   {
    "duration": 19,
    "start_time": "2022-03-20T18:59:54.546Z"
   },
   {
    "duration": 44,
    "start_time": "2022-03-20T18:59:54.566Z"
   },
   {
    "duration": 8,
    "start_time": "2022-03-20T18:59:54.612Z"
   },
   {
    "duration": 9,
    "start_time": "2022-03-20T18:59:54.622Z"
   },
   {
    "duration": 7,
    "start_time": "2022-03-20T18:59:54.632Z"
   },
   {
    "duration": 7,
    "start_time": "2022-03-20T18:59:54.641Z"
   },
   {
    "duration": 13,
    "start_time": "2022-03-20T18:59:54.650Z"
   },
   {
    "duration": 45,
    "start_time": "2022-03-20T18:59:54.665Z"
   },
   {
    "duration": 15,
    "start_time": "2022-03-20T18:59:54.711Z"
   },
   {
    "duration": 24,
    "start_time": "2022-03-20T18:59:54.727Z"
   },
   {
    "duration": 19,
    "start_time": "2022-03-20T18:59:54.752Z"
   },
   {
    "duration": 39,
    "start_time": "2022-03-20T18:59:54.773Z"
   },
   {
    "duration": 19,
    "start_time": "2022-03-20T18:59:54.814Z"
   },
   {
    "duration": 17,
    "start_time": "2022-03-20T18:59:54.835Z"
   },
   {
    "duration": 17,
    "start_time": "2022-03-20T18:59:54.854Z"
   },
   {
    "duration": 166,
    "start_time": "2022-03-20T19:03:12.231Z"
   },
   {
    "duration": 291,
    "start_time": "2022-03-20T19:03:32.643Z"
   },
   {
    "duration": 225,
    "start_time": "2022-03-20T19:05:12.229Z"
   },
   {
    "duration": 77,
    "start_time": "2022-03-20T19:08:02.874Z"
   },
   {
    "duration": 15,
    "start_time": "2022-03-20T19:08:02.953Z"
   },
   {
    "duration": 12,
    "start_time": "2022-03-20T19:08:02.969Z"
   },
   {
    "duration": 43,
    "start_time": "2022-03-20T19:08:02.983Z"
   },
   {
    "duration": 185,
    "start_time": "2022-03-20T19:08:03.027Z"
   },
   {
    "duration": 287,
    "start_time": "2022-03-20T19:08:03.214Z"
   },
   {
    "duration": 238,
    "start_time": "2022-03-20T19:08:03.503Z"
   },
   {
    "duration": 7,
    "start_time": "2022-03-20T19:08:03.743Z"
   },
   {
    "duration": 9,
    "start_time": "2022-03-20T19:08:03.752Z"
   },
   {
    "duration": 44,
    "start_time": "2022-03-20T19:08:03.765Z"
   },
   {
    "duration": 35,
    "start_time": "2022-03-20T19:08:03.811Z"
   },
   {
    "duration": 23,
    "start_time": "2022-03-20T19:08:03.848Z"
   },
   {
    "duration": 17,
    "start_time": "2022-03-20T19:08:03.908Z"
   },
   {
    "duration": 8,
    "start_time": "2022-03-20T19:08:03.927Z"
   },
   {
    "duration": 6,
    "start_time": "2022-03-20T19:08:03.937Z"
   },
   {
    "duration": 8,
    "start_time": "2022-03-20T19:08:03.945Z"
   },
   {
    "duration": 7,
    "start_time": "2022-03-20T19:08:03.955Z"
   },
   {
    "duration": 50,
    "start_time": "2022-03-20T19:08:03.964Z"
   },
   {
    "duration": 13,
    "start_time": "2022-03-20T19:08:04.016Z"
   },
   {
    "duration": 14,
    "start_time": "2022-03-20T19:08:04.031Z"
   },
   {
    "duration": 20,
    "start_time": "2022-03-20T19:08:04.046Z"
   },
   {
    "duration": 51,
    "start_time": "2022-03-20T19:08:04.068Z"
   },
   {
    "duration": 24,
    "start_time": "2022-03-20T19:08:04.121Z"
   },
   {
    "duration": 17,
    "start_time": "2022-03-20T19:08:04.146Z"
   },
   {
    "duration": 17,
    "start_time": "2022-03-20T19:08:04.165Z"
   },
   {
    "duration": 40,
    "start_time": "2022-03-20T19:08:04.184Z"
   },
   {
    "duration": 79,
    "start_time": "2022-03-20T19:09:16.821Z"
   },
   {
    "duration": 16,
    "start_time": "2022-03-20T19:09:16.902Z"
   },
   {
    "duration": 11,
    "start_time": "2022-03-20T19:09:16.919Z"
   },
   {
    "duration": 21,
    "start_time": "2022-03-20T19:09:16.932Z"
   },
   {
    "duration": 196,
    "start_time": "2022-03-20T19:09:16.954Z"
   },
   {
    "duration": 426,
    "start_time": "2022-03-20T19:09:17.151Z"
   },
   {
    "duration": 234,
    "start_time": "2022-03-20T19:09:17.578Z"
   },
   {
    "duration": 6,
    "start_time": "2022-03-20T19:09:17.813Z"
   },
   {
    "duration": 8,
    "start_time": "2022-03-20T19:09:17.821Z"
   },
   {
    "duration": 19,
    "start_time": "2022-03-20T19:09:17.832Z"
   },
   {
    "duration": 66,
    "start_time": "2022-03-20T19:09:17.852Z"
   },
   {
    "duration": 18,
    "start_time": "2022-03-20T19:09:17.920Z"
   },
   {
    "duration": 15,
    "start_time": "2022-03-20T19:09:17.940Z"
   },
   {
    "duration": 7,
    "start_time": "2022-03-20T19:09:17.957Z"
   },
   {
    "duration": 44,
    "start_time": "2022-03-20T19:09:17.966Z"
   },
   {
    "duration": 8,
    "start_time": "2022-03-20T19:09:18.012Z"
   },
   {
    "duration": 7,
    "start_time": "2022-03-20T19:09:18.021Z"
   },
   {
    "duration": 13,
    "start_time": "2022-03-20T19:09:18.030Z"
   },
   {
    "duration": 12,
    "start_time": "2022-03-20T19:09:18.044Z"
   },
   {
    "duration": 13,
    "start_time": "2022-03-20T19:09:18.058Z"
   },
   {
    "duration": 21,
    "start_time": "2022-03-20T19:09:18.109Z"
   },
   {
    "duration": 20,
    "start_time": "2022-03-20T19:09:18.132Z"
   },
   {
    "duration": 25,
    "start_time": "2022-03-20T19:09:18.153Z"
   },
   {
    "duration": 38,
    "start_time": "2022-03-20T19:09:18.180Z"
   },
   {
    "duration": 19,
    "start_time": "2022-03-20T19:09:18.220Z"
   },
   {
    "duration": 18,
    "start_time": "2022-03-20T19:09:18.241Z"
   },
   {
    "duration": 81,
    "start_time": "2022-03-20T19:15:55.667Z"
   },
   {
    "duration": 18,
    "start_time": "2022-03-20T19:15:55.750Z"
   },
   {
    "duration": 11,
    "start_time": "2022-03-20T19:15:55.769Z"
   },
   {
    "duration": 39,
    "start_time": "2022-03-20T19:15:55.782Z"
   },
   {
    "duration": 192,
    "start_time": "2022-03-20T19:15:55.823Z"
   },
   {
    "duration": 310,
    "start_time": "2022-03-20T19:15:56.017Z"
   },
   {
    "duration": 247,
    "start_time": "2022-03-20T19:15:56.329Z"
   },
   {
    "duration": 7,
    "start_time": "2022-03-20T19:15:56.578Z"
   },
   {
    "duration": 24,
    "start_time": "2022-03-20T19:15:56.587Z"
   },
   {
    "duration": 21,
    "start_time": "2022-03-20T19:15:56.614Z"
   },
   {
    "duration": 36,
    "start_time": "2022-03-20T19:15:56.636Z"
   },
   {
    "duration": 47,
    "start_time": "2022-03-20T19:15:56.674Z"
   },
   {
    "duration": 16,
    "start_time": "2022-03-20T19:15:56.723Z"
   },
   {
    "duration": 8,
    "start_time": "2022-03-20T19:15:56.740Z"
   },
   {
    "duration": 7,
    "start_time": "2022-03-20T19:15:56.749Z"
   },
   {
    "duration": 7,
    "start_time": "2022-03-20T19:15:56.758Z"
   },
   {
    "duration": 47,
    "start_time": "2022-03-20T19:15:56.768Z"
   },
   {
    "duration": 13,
    "start_time": "2022-03-20T19:15:56.817Z"
   },
   {
    "duration": 14,
    "start_time": "2022-03-20T19:15:56.832Z"
   },
   {
    "duration": 14,
    "start_time": "2022-03-20T19:15:56.848Z"
   },
   {
    "duration": 60,
    "start_time": "2022-03-20T19:15:56.864Z"
   },
   {
    "duration": 28,
    "start_time": "2022-03-20T19:15:56.926Z"
   },
   {
    "duration": 21,
    "start_time": "2022-03-20T19:15:56.956Z"
   },
   {
    "duration": 43,
    "start_time": "2022-03-20T19:15:56.979Z"
   },
   {
    "duration": 19,
    "start_time": "2022-03-20T19:15:57.024Z"
   },
   {
    "duration": 19,
    "start_time": "2022-03-20T19:15:57.045Z"
   },
   {
    "duration": 1259,
    "start_time": "2022-04-19T18:55:13.499Z"
   },
   {
    "duration": 270,
    "start_time": "2022-04-19T18:55:14.760Z"
   },
   {
    "duration": 30,
    "start_time": "2022-04-19T18:55:15.032Z"
   },
   {
    "duration": 252,
    "start_time": "2022-04-19T18:55:15.064Z"
   },
   {
    "duration": 27,
    "start_time": "2022-04-19T18:55:15.317Z"
   },
   {
    "duration": 187,
    "start_time": "2022-04-19T18:55:15.346Z"
   },
   {
    "duration": 20,
    "start_time": "2022-04-19T18:55:15.535Z"
   },
   {
    "duration": 104,
    "start_time": "2022-04-19T18:55:15.557Z"
   },
   {
    "duration": 12,
    "start_time": "2022-04-19T18:55:15.662Z"
   },
   {
    "duration": 120,
    "start_time": "2022-04-19T18:55:15.676Z"
   },
   {
    "duration": 11,
    "start_time": "2022-04-19T18:55:15.798Z"
   },
   {
    "duration": 259,
    "start_time": "2022-04-19T18:55:15.811Z"
   },
   {
    "duration": 10,
    "start_time": "2022-04-19T18:55:16.072Z"
   },
   {
    "duration": 16,
    "start_time": "2022-04-19T18:55:16.084Z"
   },
   {
    "duration": 34,
    "start_time": "2022-04-19T18:55:16.101Z"
   },
   {
    "duration": 17,
    "start_time": "2022-04-19T18:55:16.137Z"
   },
   {
    "duration": 85,
    "start_time": "2022-04-19T18:55:16.156Z"
   },
   {
    "duration": 42,
    "start_time": "2022-04-19T18:55:16.243Z"
   },
   {
    "duration": 64,
    "start_time": "2022-04-19T18:55:16.287Z"
   },
   {
    "duration": 11,
    "start_time": "2022-04-19T18:55:16.352Z"
   },
   {
    "duration": 32,
    "start_time": "2022-04-19T18:55:16.364Z"
   },
   {
    "duration": 56,
    "start_time": "2022-04-19T18:55:16.398Z"
   },
   {
    "duration": 22,
    "start_time": "2022-04-19T18:55:16.455Z"
   },
   {
    "duration": 11,
    "start_time": "2022-04-19T18:55:16.479Z"
   },
   {
    "duration": 42,
    "start_time": "2022-04-19T18:55:16.491Z"
   },
   {
    "duration": 12,
    "start_time": "2022-04-19T18:55:16.535Z"
   },
   {
    "duration": 28,
    "start_time": "2022-04-19T18:55:16.548Z"
   },
   {
    "duration": 25,
    "start_time": "2022-04-19T18:55:16.580Z"
   },
   {
    "duration": 29,
    "start_time": "2022-04-19T18:55:16.607Z"
   },
   {
    "duration": 20,
    "start_time": "2022-04-19T18:55:16.638Z"
   },
   {
    "duration": 23,
    "start_time": "2022-04-19T18:55:16.660Z"
   },
   {
    "duration": 17,
    "start_time": "2022-04-19T18:55:16.685Z"
   },
   {
    "duration": 44,
    "start_time": "2022-04-19T18:55:16.703Z"
   },
   {
    "duration": 343,
    "start_time": "2022-04-19T18:55:16.748Z"
   },
   {
    "duration": 381,
    "start_time": "2022-04-19T18:55:17.094Z"
   },
   {
    "duration": 408,
    "start_time": "2022-04-19T18:55:17.477Z"
   },
   {
    "duration": 63,
    "start_time": "2022-04-19T18:55:17.886Z"
   },
   {
    "duration": 352,
    "start_time": "2022-04-19T18:55:17.951Z"
   },
   {
    "duration": 345,
    "start_time": "2022-04-19T18:55:18.305Z"
   },
   {
    "duration": 415,
    "start_time": "2022-04-19T18:55:18.652Z"
   },
   {
    "duration": 351,
    "start_time": "2022-04-19T18:55:19.069Z"
   },
   {
    "duration": 336,
    "start_time": "2022-04-19T18:55:19.421Z"
   },
   {
    "duration": 340,
    "start_time": "2022-04-19T18:55:19.759Z"
   },
   {
    "duration": 15,
    "start_time": "2022-04-19T18:55:20.101Z"
   },
   {
    "duration": 26,
    "start_time": "2022-04-19T18:55:20.117Z"
   },
   {
    "duration": 6,
    "start_time": "2022-04-19T18:55:20.144Z"
   },
   {
    "duration": 18,
    "start_time": "2022-04-19T18:55:20.151Z"
   },
   {
    "duration": 13,
    "start_time": "2022-04-19T18:55:20.171Z"
   },
   {
    "duration": 6,
    "start_time": "2022-04-19T18:55:20.185Z"
   },
   {
    "duration": 17,
    "start_time": "2022-04-19T18:59:40.872Z"
   },
   {
    "duration": 44,
    "start_time": "2022-04-20T07:15:47.152Z"
   },
   {
    "duration": 1247,
    "start_time": "2022-04-20T07:15:56.660Z"
   },
   {
    "duration": 256,
    "start_time": "2022-04-20T07:15:57.909Z"
   },
   {
    "duration": 25,
    "start_time": "2022-04-20T07:15:58.166Z"
   },
   {
    "duration": 190,
    "start_time": "2022-04-20T07:15:58.193Z"
   },
   {
    "duration": 20,
    "start_time": "2022-04-20T07:15:58.385Z"
   },
   {
    "duration": 139,
    "start_time": "2022-04-20T07:15:58.406Z"
   },
   {
    "duration": 17,
    "start_time": "2022-04-20T07:15:58.547Z"
   },
   {
    "duration": 87,
    "start_time": "2022-04-20T07:15:58.566Z"
   },
   {
    "duration": 10,
    "start_time": "2022-04-20T07:15:58.654Z"
   },
   {
    "duration": 88,
    "start_time": "2022-04-20T07:15:58.666Z"
   },
   {
    "duration": 9,
    "start_time": "2022-04-20T07:15:58.756Z"
   },
   {
    "duration": 215,
    "start_time": "2022-04-20T07:15:58.766Z"
   },
   {
    "duration": 9,
    "start_time": "2022-04-20T07:15:58.983Z"
   },
   {
    "duration": 13,
    "start_time": "2022-04-20T07:15:58.993Z"
   },
   {
    "duration": 11,
    "start_time": "2022-04-20T07:15:59.008Z"
   },
   {
    "duration": 34,
    "start_time": "2022-04-20T07:15:59.021Z"
   },
   {
    "duration": 53,
    "start_time": "2022-04-20T07:15:59.057Z"
   },
   {
    "duration": 49,
    "start_time": "2022-04-20T07:15:59.111Z"
   },
   {
    "duration": 42,
    "start_time": "2022-04-20T07:15:59.161Z"
   },
   {
    "duration": 8,
    "start_time": "2022-04-20T07:15:59.205Z"
   },
   {
    "duration": 46,
    "start_time": "2022-04-20T07:15:59.214Z"
   },
   {
    "duration": 24,
    "start_time": "2022-04-20T07:15:59.261Z"
   },
   {
    "duration": 19,
    "start_time": "2022-04-20T07:15:59.286Z"
   },
   {
    "duration": 8,
    "start_time": "2022-04-20T07:15:59.306Z"
   },
   {
    "duration": 40,
    "start_time": "2022-04-20T07:15:59.316Z"
   },
   {
    "duration": 16,
    "start_time": "2022-04-20T07:15:59.358Z"
   },
   {
    "duration": 34,
    "start_time": "2022-04-20T07:15:59.376Z"
   },
   {
    "duration": 19,
    "start_time": "2022-04-20T07:15:59.413Z"
   },
   {
    "duration": 5,
    "start_time": "2022-04-20T07:15:59.434Z"
   },
   {
    "duration": 28,
    "start_time": "2022-04-20T07:15:59.440Z"
   },
   {
    "duration": 25,
    "start_time": "2022-04-20T07:15:59.470Z"
   },
   {
    "duration": 14,
    "start_time": "2022-04-20T07:15:59.496Z"
   },
   {
    "duration": 17,
    "start_time": "2022-04-20T07:15:59.511Z"
   },
   {
    "duration": 251,
    "start_time": "2022-04-20T07:15:59.529Z"
   },
   {
    "duration": 304,
    "start_time": "2022-04-20T07:15:59.782Z"
   },
   {
    "duration": 312,
    "start_time": "2022-04-20T07:16:00.088Z"
   },
   {
    "duration": 41,
    "start_time": "2022-04-20T07:16:00.401Z"
   },
   {
    "duration": 299,
    "start_time": "2022-04-20T07:16:00.444Z"
   },
   {
    "duration": 274,
    "start_time": "2022-04-20T07:16:00.744Z"
   },
   {
    "duration": 361,
    "start_time": "2022-04-20T07:16:01.020Z"
   },
   {
    "duration": 285,
    "start_time": "2022-04-20T07:16:01.382Z"
   },
   {
    "duration": 272,
    "start_time": "2022-04-20T07:16:01.669Z"
   },
   {
    "duration": 278,
    "start_time": "2022-04-20T07:16:01.943Z"
   },
   {
    "duration": 14,
    "start_time": "2022-04-20T07:16:02.223Z"
   },
   {
    "duration": 25,
    "start_time": "2022-04-20T07:16:02.238Z"
   },
   {
    "duration": 6,
    "start_time": "2022-04-20T07:16:02.265Z"
   },
   {
    "duration": 14,
    "start_time": "2022-04-20T07:16:02.272Z"
   },
   {
    "duration": 11,
    "start_time": "2022-04-20T07:16:02.288Z"
   },
   {
    "duration": 5,
    "start_time": "2022-04-20T07:16:02.300Z"
   },
   {
    "duration": 198,
    "start_time": "2022-04-20T07:17:59.559Z"
   },
   {
    "duration": 21,
    "start_time": "2022-04-20T07:18:08.997Z"
   },
   {
    "duration": 173,
    "start_time": "2022-04-20T07:27:38.142Z"
   },
   {
    "duration": 2381,
    "start_time": "2022-04-20T07:29:35.339Z"
   },
   {
    "duration": 2135,
    "start_time": "2022-04-20T07:32:21.345Z"
   },
   {
    "duration": 2109,
    "start_time": "2022-04-20T07:33:06.818Z"
   },
   {
    "duration": 2327,
    "start_time": "2022-04-20T07:33:25.148Z"
   },
   {
    "duration": 1143,
    "start_time": "2022-04-20T07:33:35.002Z"
   },
   {
    "duration": 219,
    "start_time": "2022-04-20T07:33:36.148Z"
   },
   {
    "duration": 26,
    "start_time": "2022-04-20T07:33:36.368Z"
   },
   {
    "duration": 212,
    "start_time": "2022-04-20T07:33:36.397Z"
   },
   {
    "duration": 21,
    "start_time": "2022-04-20T07:33:36.611Z"
   },
   {
    "duration": 154,
    "start_time": "2022-04-20T07:33:36.634Z"
   },
   {
    "duration": 18,
    "start_time": "2022-04-20T07:33:36.790Z"
   },
   {
    "duration": 94,
    "start_time": "2022-04-20T07:33:36.810Z"
   },
   {
    "duration": 11,
    "start_time": "2022-04-20T07:33:36.905Z"
   },
   {
    "duration": 91,
    "start_time": "2022-04-20T07:33:36.918Z"
   },
   {
    "duration": 10,
    "start_time": "2022-04-20T07:33:37.011Z"
   },
   {
    "duration": 238,
    "start_time": "2022-04-20T07:33:37.023Z"
   },
   {
    "duration": 10,
    "start_time": "2022-04-20T07:33:37.263Z"
   },
   {
    "duration": 19,
    "start_time": "2022-04-20T07:33:37.275Z"
   },
   {
    "duration": 19,
    "start_time": "2022-04-20T07:33:37.296Z"
   },
   {
    "duration": 49,
    "start_time": "2022-04-20T07:33:37.317Z"
   },
   {
    "duration": 40,
    "start_time": "2022-04-20T07:33:37.368Z"
   },
   {
    "duration": 68,
    "start_time": "2022-04-20T07:33:37.409Z"
   },
   {
    "duration": 11,
    "start_time": "2022-04-20T07:33:37.478Z"
   },
   {
    "duration": 120,
    "start_time": "2022-04-20T07:33:37.490Z"
   },
   {
    "duration": 0,
    "start_time": "2022-04-20T07:33:37.612Z"
   },
   {
    "duration": 0,
    "start_time": "2022-04-20T07:33:37.613Z"
   },
   {
    "duration": 0,
    "start_time": "2022-04-20T07:33:37.614Z"
   },
   {
    "duration": 0,
    "start_time": "2022-04-20T07:33:37.615Z"
   },
   {
    "duration": 0,
    "start_time": "2022-04-20T07:33:37.616Z"
   },
   {
    "duration": 0,
    "start_time": "2022-04-20T07:33:37.617Z"
   },
   {
    "duration": 0,
    "start_time": "2022-04-20T07:33:37.618Z"
   },
   {
    "duration": 0,
    "start_time": "2022-04-20T07:33:37.619Z"
   },
   {
    "duration": 0,
    "start_time": "2022-04-20T07:33:37.621Z"
   },
   {
    "duration": 0,
    "start_time": "2022-04-20T07:33:37.622Z"
   },
   {
    "duration": 0,
    "start_time": "2022-04-20T07:33:37.623Z"
   },
   {
    "duration": 0,
    "start_time": "2022-04-20T07:33:37.624Z"
   },
   {
    "duration": 0,
    "start_time": "2022-04-20T07:33:37.625Z"
   },
   {
    "duration": 0,
    "start_time": "2022-04-20T07:33:37.626Z"
   },
   {
    "duration": 0,
    "start_time": "2022-04-20T07:33:37.627Z"
   },
   {
    "duration": 0,
    "start_time": "2022-04-20T07:33:37.629Z"
   },
   {
    "duration": 0,
    "start_time": "2022-04-20T07:33:37.654Z"
   },
   {
    "duration": 0,
    "start_time": "2022-04-20T07:33:37.655Z"
   },
   {
    "duration": 0,
    "start_time": "2022-04-20T07:33:37.656Z"
   },
   {
    "duration": 0,
    "start_time": "2022-04-20T07:33:37.657Z"
   },
   {
    "duration": 0,
    "start_time": "2022-04-20T07:33:37.658Z"
   },
   {
    "duration": 0,
    "start_time": "2022-04-20T07:33:37.660Z"
   },
   {
    "duration": 0,
    "start_time": "2022-04-20T07:33:37.661Z"
   },
   {
    "duration": 0,
    "start_time": "2022-04-20T07:33:37.662Z"
   },
   {
    "duration": 0,
    "start_time": "2022-04-20T07:33:37.663Z"
   },
   {
    "duration": 0,
    "start_time": "2022-04-20T07:33:37.665Z"
   },
   {
    "duration": 0,
    "start_time": "2022-04-20T07:33:37.665Z"
   },
   {
    "duration": 0,
    "start_time": "2022-04-20T07:33:37.667Z"
   },
   {
    "duration": 39,
    "start_time": "2022-04-20T07:34:11.319Z"
   },
   {
    "duration": 41,
    "start_time": "2022-04-20T07:34:31.032Z"
   },
   {
    "duration": 2149,
    "start_time": "2022-04-20T07:37:04.665Z"
   },
   {
    "duration": 3,
    "start_time": "2022-04-20T07:37:21.308Z"
   },
   {
    "duration": 272,
    "start_time": "2022-04-20T07:37:21.315Z"
   },
   {
    "duration": 26,
    "start_time": "2022-04-20T07:37:21.589Z"
   },
   {
    "duration": 266,
    "start_time": "2022-04-20T07:37:21.617Z"
   },
   {
    "duration": 21,
    "start_time": "2022-04-20T07:37:21.885Z"
   },
   {
    "duration": 155,
    "start_time": "2022-04-20T07:37:21.908Z"
   },
   {
    "duration": 17,
    "start_time": "2022-04-20T07:37:22.065Z"
   },
   {
    "duration": 110,
    "start_time": "2022-04-20T07:37:22.083Z"
   },
   {
    "duration": 11,
    "start_time": "2022-04-20T07:37:22.195Z"
   },
   {
    "duration": 102,
    "start_time": "2022-04-20T07:37:22.208Z"
   },
   {
    "duration": 9,
    "start_time": "2022-04-20T07:37:22.313Z"
   },
   {
    "duration": 201,
    "start_time": "2022-04-20T07:37:22.324Z"
   },
   {
    "duration": 9,
    "start_time": "2022-04-20T07:37:22.527Z"
   },
   {
    "duration": 21,
    "start_time": "2022-04-20T07:37:22.538Z"
   },
   {
    "duration": 50,
    "start_time": "2022-04-20T07:37:22.561Z"
   },
   {
    "duration": 66,
    "start_time": "2022-04-20T07:37:22.613Z"
   },
   {
    "duration": 38,
    "start_time": "2022-04-20T07:37:22.681Z"
   },
   {
    "duration": 58,
    "start_time": "2022-04-20T07:37:22.721Z"
   },
   {
    "duration": 15,
    "start_time": "2022-04-20T07:37:22.781Z"
   },
   {
    "duration": 37,
    "start_time": "2022-04-20T07:37:22.797Z"
   },
   {
    "duration": 23,
    "start_time": "2022-04-20T07:37:22.836Z"
   },
   {
    "duration": 35,
    "start_time": "2022-04-20T07:37:22.860Z"
   },
   {
    "duration": 13,
    "start_time": "2022-04-20T07:37:22.897Z"
   },
   {
    "duration": 33,
    "start_time": "2022-04-20T07:37:22.911Z"
   },
   {
    "duration": 32,
    "start_time": "2022-04-20T07:37:22.946Z"
   },
   {
    "duration": 22,
    "start_time": "2022-04-20T07:37:22.979Z"
   },
   {
    "duration": 0,
    "start_time": "2022-04-20T07:37:23.003Z"
   },
   {
    "duration": 0,
    "start_time": "2022-04-20T07:37:23.004Z"
   },
   {
    "duration": 0,
    "start_time": "2022-04-20T07:37:23.005Z"
   },
   {
    "duration": 0,
    "start_time": "2022-04-20T07:37:23.006Z"
   },
   {
    "duration": 0,
    "start_time": "2022-04-20T07:37:23.007Z"
   },
   {
    "duration": 0,
    "start_time": "2022-04-20T07:37:23.009Z"
   },
   {
    "duration": 0,
    "start_time": "2022-04-20T07:37:23.009Z"
   },
   {
    "duration": 0,
    "start_time": "2022-04-20T07:37:23.011Z"
   },
   {
    "duration": 0,
    "start_time": "2022-04-20T07:37:23.012Z"
   },
   {
    "duration": 0,
    "start_time": "2022-04-20T07:37:23.013Z"
   },
   {
    "duration": 0,
    "start_time": "2022-04-20T07:37:23.014Z"
   },
   {
    "duration": 0,
    "start_time": "2022-04-20T07:37:23.015Z"
   },
   {
    "duration": 0,
    "start_time": "2022-04-20T07:37:23.016Z"
   },
   {
    "duration": 0,
    "start_time": "2022-04-20T07:37:23.017Z"
   },
   {
    "duration": 0,
    "start_time": "2022-04-20T07:37:23.018Z"
   },
   {
    "duration": 0,
    "start_time": "2022-04-20T07:37:23.019Z"
   },
   {
    "duration": 0,
    "start_time": "2022-04-20T07:37:23.020Z"
   },
   {
    "duration": 0,
    "start_time": "2022-04-20T07:37:23.021Z"
   },
   {
    "duration": 0,
    "start_time": "2022-04-20T07:37:23.022Z"
   },
   {
    "duration": 0,
    "start_time": "2022-04-20T07:37:23.023Z"
   },
   {
    "duration": 0,
    "start_time": "2022-04-20T07:37:23.024Z"
   },
   {
    "duration": 0,
    "start_time": "2022-04-20T07:37:23.025Z"
   },
   {
    "duration": 1984,
    "start_time": "2022-04-20T07:37:46.055Z"
   },
   {
    "duration": 3,
    "start_time": "2022-04-20T07:37:51.749Z"
   },
   {
    "duration": 217,
    "start_time": "2022-04-20T07:37:51.756Z"
   },
   {
    "duration": 23,
    "start_time": "2022-04-20T07:37:51.974Z"
   },
   {
    "duration": 192,
    "start_time": "2022-04-20T07:37:51.998Z"
   },
   {
    "duration": 20,
    "start_time": "2022-04-20T07:37:52.192Z"
   },
   {
    "duration": 151,
    "start_time": "2022-04-20T07:37:52.214Z"
   },
   {
    "duration": 17,
    "start_time": "2022-04-20T07:37:52.367Z"
   },
   {
    "duration": 79,
    "start_time": "2022-04-20T07:37:52.385Z"
   },
   {
    "duration": 9,
    "start_time": "2022-04-20T07:37:52.466Z"
   },
   {
    "duration": 130,
    "start_time": "2022-04-20T07:37:52.477Z"
   },
   {
    "duration": 10,
    "start_time": "2022-04-20T07:37:52.609Z"
   },
   {
    "duration": 192,
    "start_time": "2022-04-20T07:37:52.620Z"
   },
   {
    "duration": 9,
    "start_time": "2022-04-20T07:37:52.814Z"
   },
   {
    "duration": 7,
    "start_time": "2022-04-20T07:37:52.825Z"
   },
   {
    "duration": 34,
    "start_time": "2022-04-20T07:37:52.833Z"
   },
   {
    "duration": 52,
    "start_time": "2022-04-20T07:37:52.869Z"
   },
   {
    "duration": 50,
    "start_time": "2022-04-20T07:37:52.923Z"
   },
   {
    "duration": 43,
    "start_time": "2022-04-20T07:37:52.975Z"
   },
   {
    "duration": 9,
    "start_time": "2022-04-20T07:37:53.020Z"
   },
   {
    "duration": 41,
    "start_time": "2022-04-20T07:37:53.031Z"
   },
   {
    "duration": 22,
    "start_time": "2022-04-20T07:37:53.074Z"
   },
   {
    "duration": 17,
    "start_time": "2022-04-20T07:37:53.097Z"
   },
   {
    "duration": 9,
    "start_time": "2022-04-20T07:37:53.116Z"
   },
   {
    "duration": 40,
    "start_time": "2022-04-20T07:37:53.126Z"
   },
   {
    "duration": 12,
    "start_time": "2022-04-20T07:37:53.168Z"
   },
   {
    "duration": 18,
    "start_time": "2022-04-20T07:37:53.182Z"
   },
   {
    "duration": 0,
    "start_time": "2022-04-20T07:37:53.201Z"
   },
   {
    "duration": 0,
    "start_time": "2022-04-20T07:37:53.203Z"
   },
   {
    "duration": 0,
    "start_time": "2022-04-20T07:37:53.203Z"
   },
   {
    "duration": 0,
    "start_time": "2022-04-20T07:37:53.204Z"
   },
   {
    "duration": 0,
    "start_time": "2022-04-20T07:37:53.205Z"
   },
   {
    "duration": 0,
    "start_time": "2022-04-20T07:37:53.206Z"
   },
   {
    "duration": 0,
    "start_time": "2022-04-20T07:37:53.207Z"
   },
   {
    "duration": 0,
    "start_time": "2022-04-20T07:37:53.209Z"
   },
   {
    "duration": 0,
    "start_time": "2022-04-20T07:37:53.210Z"
   },
   {
    "duration": 0,
    "start_time": "2022-04-20T07:37:53.211Z"
   },
   {
    "duration": 0,
    "start_time": "2022-04-20T07:37:53.212Z"
   },
   {
    "duration": 0,
    "start_time": "2022-04-20T07:37:53.213Z"
   },
   {
    "duration": 0,
    "start_time": "2022-04-20T07:37:53.214Z"
   },
   {
    "duration": 0,
    "start_time": "2022-04-20T07:37:53.215Z"
   },
   {
    "duration": 0,
    "start_time": "2022-04-20T07:37:53.217Z"
   },
   {
    "duration": 0,
    "start_time": "2022-04-20T07:37:53.255Z"
   },
   {
    "duration": 0,
    "start_time": "2022-04-20T07:37:53.256Z"
   },
   {
    "duration": 0,
    "start_time": "2022-04-20T07:37:53.257Z"
   },
   {
    "duration": 0,
    "start_time": "2022-04-20T07:37:53.258Z"
   },
   {
    "duration": 1,
    "start_time": "2022-04-20T07:37:53.258Z"
   },
   {
    "duration": 0,
    "start_time": "2022-04-20T07:37:53.259Z"
   },
   {
    "duration": 0,
    "start_time": "2022-04-20T07:37:53.260Z"
   },
   {
    "duration": 4,
    "start_time": "2022-04-20T07:42:38.565Z"
   },
   {
    "duration": 221,
    "start_time": "2022-04-20T07:42:38.573Z"
   },
   {
    "duration": 25,
    "start_time": "2022-04-20T07:42:38.796Z"
   },
   {
    "duration": 196,
    "start_time": "2022-04-20T07:42:38.823Z"
   },
   {
    "duration": 21,
    "start_time": "2022-04-20T07:42:39.021Z"
   },
   {
    "duration": 159,
    "start_time": "2022-04-20T07:42:39.043Z"
   },
   {
    "duration": 19,
    "start_time": "2022-04-20T07:42:39.204Z"
   },
   {
    "duration": 81,
    "start_time": "2022-04-20T07:42:39.225Z"
   },
   {
    "duration": 10,
    "start_time": "2022-04-20T07:42:39.308Z"
   },
   {
    "duration": 82,
    "start_time": "2022-04-20T07:42:39.320Z"
   },
   {
    "duration": 10,
    "start_time": "2022-04-20T07:42:39.404Z"
   },
   {
    "duration": 188,
    "start_time": "2022-04-20T07:42:39.415Z"
   },
   {
    "duration": 9,
    "start_time": "2022-04-20T07:42:39.605Z"
   },
   {
    "duration": 7,
    "start_time": "2022-04-20T07:42:39.616Z"
   },
   {
    "duration": 41,
    "start_time": "2022-04-20T07:42:39.625Z"
   },
   {
    "duration": 89,
    "start_time": "2022-04-20T07:42:39.668Z"
   },
   {
    "duration": 2126,
    "start_time": "2022-04-20T07:42:39.759Z"
   },
   {
    "duration": 0,
    "start_time": "2022-04-20T07:42:41.888Z"
   },
   {
    "duration": 0,
    "start_time": "2022-04-20T07:42:41.890Z"
   },
   {
    "duration": 0,
    "start_time": "2022-04-20T07:42:41.891Z"
   },
   {
    "duration": 0,
    "start_time": "2022-04-20T07:42:41.892Z"
   },
   {
    "duration": 0,
    "start_time": "2022-04-20T07:42:41.894Z"
   },
   {
    "duration": 0,
    "start_time": "2022-04-20T07:42:41.895Z"
   },
   {
    "duration": 1,
    "start_time": "2022-04-20T07:42:41.896Z"
   },
   {
    "duration": 0,
    "start_time": "2022-04-20T07:42:41.897Z"
   },
   {
    "duration": 0,
    "start_time": "2022-04-20T07:42:41.899Z"
   },
   {
    "duration": 0,
    "start_time": "2022-04-20T07:42:41.900Z"
   },
   {
    "duration": 0,
    "start_time": "2022-04-20T07:42:41.901Z"
   },
   {
    "duration": 0,
    "start_time": "2022-04-20T07:42:41.902Z"
   },
   {
    "duration": 0,
    "start_time": "2022-04-20T07:42:41.903Z"
   },
   {
    "duration": 0,
    "start_time": "2022-04-20T07:42:41.904Z"
   },
   {
    "duration": 0,
    "start_time": "2022-04-20T07:42:41.905Z"
   },
   {
    "duration": 0,
    "start_time": "2022-04-20T07:42:41.906Z"
   },
   {
    "duration": 0,
    "start_time": "2022-04-20T07:42:41.907Z"
   },
   {
    "duration": 0,
    "start_time": "2022-04-20T07:42:41.907Z"
   },
   {
    "duration": 0,
    "start_time": "2022-04-20T07:42:41.908Z"
   },
   {
    "duration": 0,
    "start_time": "2022-04-20T07:42:41.909Z"
   },
   {
    "duration": 0,
    "start_time": "2022-04-20T07:42:41.910Z"
   },
   {
    "duration": 0,
    "start_time": "2022-04-20T07:42:41.911Z"
   },
   {
    "duration": 0,
    "start_time": "2022-04-20T07:42:41.911Z"
   },
   {
    "duration": 0,
    "start_time": "2022-04-20T07:42:41.912Z"
   },
   {
    "duration": 0,
    "start_time": "2022-04-20T07:42:41.913Z"
   },
   {
    "duration": 0,
    "start_time": "2022-04-20T07:42:41.914Z"
   },
   {
    "duration": 0,
    "start_time": "2022-04-20T07:42:41.914Z"
   },
   {
    "duration": 1,
    "start_time": "2022-04-20T07:42:41.915Z"
   },
   {
    "duration": 0,
    "start_time": "2022-04-20T07:42:41.917Z"
   },
   {
    "duration": 0,
    "start_time": "2022-04-20T07:42:41.917Z"
   },
   {
    "duration": 0,
    "start_time": "2022-04-20T07:42:41.918Z"
   },
   {
    "duration": 37,
    "start_time": "2022-04-20T07:43:21.115Z"
   },
   {
    "duration": 44,
    "start_time": "2022-04-20T07:43:26.974Z"
   },
   {
    "duration": 10,
    "start_time": "2022-04-20T07:43:33.050Z"
   },
   {
    "duration": 24,
    "start_time": "2022-04-20T07:43:43.605Z"
   },
   {
    "duration": 22,
    "start_time": "2022-04-20T07:43:47.805Z"
   },
   {
    "duration": 23,
    "start_time": "2022-04-20T07:43:54.025Z"
   },
   {
    "duration": 10,
    "start_time": "2022-04-20T07:44:21.393Z"
   },
   {
    "duration": 15,
    "start_time": "2022-04-20T07:44:26.425Z"
   },
   {
    "duration": 11,
    "start_time": "2022-04-20T07:44:36.196Z"
   },
   {
    "duration": 23,
    "start_time": "2022-04-20T07:44:38.231Z"
   },
   {
    "duration": 22,
    "start_time": "2022-04-20T07:44:43.198Z"
   },
   {
    "duration": 366,
    "start_time": "2022-04-20T07:45:22.515Z"
   },
   {
    "duration": 286,
    "start_time": "2022-04-20T07:45:28.340Z"
   },
   {
    "duration": 552,
    "start_time": "2022-04-20T07:45:33.839Z"
   },
   {
    "duration": 654,
    "start_time": "2022-04-20T07:45:40.039Z"
   },
   {
    "duration": 62,
    "start_time": "2022-04-20T07:45:46.641Z"
   },
   {
    "duration": 307,
    "start_time": "2022-04-20T07:45:52.862Z"
   },
   {
    "duration": 311,
    "start_time": "2022-04-20T07:46:04.187Z"
   },
   {
    "duration": 302,
    "start_time": "2022-04-20T07:46:14.763Z"
   },
   {
    "duration": 319,
    "start_time": "2022-04-20T07:46:19.800Z"
   },
   {
    "duration": 318,
    "start_time": "2022-04-20T07:46:24.853Z"
   },
   {
    "duration": 397,
    "start_time": "2022-04-20T07:46:30.073Z"
   },
   {
    "duration": 124,
    "start_time": "2022-04-20T08:06:40.526Z"
   },
   {
    "duration": 129,
    "start_time": "2022-04-20T08:20:53.960Z"
   },
   {
    "duration": 22,
    "start_time": "2022-04-20T08:24:43.353Z"
   },
   {
    "duration": 10,
    "start_time": "2022-04-20T09:03:25.716Z"
   },
   {
    "duration": 10,
    "start_time": "2022-04-20T09:05:24.563Z"
   },
   {
    "duration": 368,
    "start_time": "2022-04-20T09:06:14.258Z"
   },
   {
    "duration": 362,
    "start_time": "2022-04-20T09:06:53.339Z"
   },
   {
    "duration": 272,
    "start_time": "2022-04-20T09:09:39.030Z"
   },
   {
    "duration": 552,
    "start_time": "2022-04-20T09:10:01.054Z"
   },
   {
    "duration": 4,
    "start_time": "2022-04-20T09:12:37.405Z"
   },
   {
    "duration": 324,
    "start_time": "2022-04-20T09:24:06.489Z"
   },
   {
    "duration": 322,
    "start_time": "2022-04-20T09:24:21.845Z"
   },
   {
    "duration": 438,
    "start_time": "2022-04-20T09:25:03.706Z"
   },
   {
    "duration": 1150,
    "start_time": "2022-04-20T09:25:47.705Z"
   },
   {
    "duration": 212,
    "start_time": "2022-04-20T09:25:48.857Z"
   },
   {
    "duration": 24,
    "start_time": "2022-04-20T09:25:49.071Z"
   },
   {
    "duration": 214,
    "start_time": "2022-04-20T09:25:49.097Z"
   },
   {
    "duration": 20,
    "start_time": "2022-04-20T09:25:49.313Z"
   },
   {
    "duration": 160,
    "start_time": "2022-04-20T09:25:49.335Z"
   },
   {
    "duration": 19,
    "start_time": "2022-04-20T09:25:49.497Z"
   },
   {
    "duration": 81,
    "start_time": "2022-04-20T09:25:49.518Z"
   },
   {
    "duration": 9,
    "start_time": "2022-04-20T09:25:49.601Z"
   },
   {
    "duration": 86,
    "start_time": "2022-04-20T09:25:49.613Z"
   },
   {
    "duration": 10,
    "start_time": "2022-04-20T09:25:49.700Z"
   },
   {
    "duration": 209,
    "start_time": "2022-04-20T09:25:49.711Z"
   },
   {
    "duration": 10,
    "start_time": "2022-04-20T09:25:49.921Z"
   },
   {
    "duration": 23,
    "start_time": "2022-04-20T09:25:49.932Z"
   },
   {
    "duration": 13,
    "start_time": "2022-04-20T09:25:49.957Z"
   },
   {
    "duration": 57,
    "start_time": "2022-04-20T09:25:49.972Z"
   },
   {
    "duration": 54,
    "start_time": "2022-04-20T09:25:50.031Z"
   },
   {
    "duration": 44,
    "start_time": "2022-04-20T09:25:50.086Z"
   },
   {
    "duration": 25,
    "start_time": "2022-04-20T09:25:50.132Z"
   },
   {
    "duration": 28,
    "start_time": "2022-04-20T09:25:50.159Z"
   },
   {
    "duration": 25,
    "start_time": "2022-04-20T09:25:50.189Z"
   },
   {
    "duration": 39,
    "start_time": "2022-04-20T09:25:50.216Z"
   },
   {
    "duration": 10,
    "start_time": "2022-04-20T09:25:50.257Z"
   },
   {
    "duration": 28,
    "start_time": "2022-04-20T09:25:50.269Z"
   },
   {
    "duration": 24,
    "start_time": "2022-04-20T09:25:50.298Z"
   },
   {
    "duration": 35,
    "start_time": "2022-04-20T09:25:50.323Z"
   },
   {
    "duration": 21,
    "start_time": "2022-04-20T09:25:50.359Z"
   },
   {
    "duration": 15,
    "start_time": "2022-04-20T09:25:50.385Z"
   },
   {
    "duration": 27,
    "start_time": "2022-04-20T09:25:50.401Z"
   },
   {
    "duration": 36,
    "start_time": "2022-04-20T09:25:50.429Z"
   },
   {
    "duration": 13,
    "start_time": "2022-04-20T09:25:50.466Z"
   },
   {
    "duration": 25,
    "start_time": "2022-04-20T09:25:50.481Z"
   },
   {
    "duration": 302,
    "start_time": "2022-04-20T09:25:50.508Z"
   },
   {
    "duration": 329,
    "start_time": "2022-04-20T09:25:50.812Z"
   },
   {
    "duration": 351,
    "start_time": "2022-04-20T09:25:51.143Z"
   },
   {
    "duration": 125,
    "start_time": "2022-04-20T09:25:51.495Z"
   },
   {
    "duration": 0,
    "start_time": "2022-04-20T09:25:51.622Z"
   },
   {
    "duration": 0,
    "start_time": "2022-04-20T09:25:51.623Z"
   },
   {
    "duration": 0,
    "start_time": "2022-04-20T09:25:51.624Z"
   },
   {
    "duration": 0,
    "start_time": "2022-04-20T09:25:51.625Z"
   },
   {
    "duration": 0,
    "start_time": "2022-04-20T09:25:51.626Z"
   },
   {
    "duration": 0,
    "start_time": "2022-04-20T09:25:51.627Z"
   },
   {
    "duration": 0,
    "start_time": "2022-04-20T09:25:51.627Z"
   },
   {
    "duration": 0,
    "start_time": "2022-04-20T09:25:51.628Z"
   },
   {
    "duration": 0,
    "start_time": "2022-04-20T09:25:51.629Z"
   },
   {
    "duration": 0,
    "start_time": "2022-04-20T09:25:51.631Z"
   },
   {
    "duration": 0,
    "start_time": "2022-04-20T09:25:51.632Z"
   },
   {
    "duration": 0,
    "start_time": "2022-04-20T09:25:51.654Z"
   },
   {
    "duration": 0,
    "start_time": "2022-04-20T09:25:51.655Z"
   },
   {
    "duration": 333,
    "start_time": "2022-04-20T09:26:56.508Z"
   },
   {
    "duration": 21,
    "start_time": "2022-04-20T09:28:29.679Z"
   },
   {
    "duration": 3,
    "start_time": "2022-04-20T09:28:52.286Z"
   },
   {
    "duration": 219,
    "start_time": "2022-04-20T09:28:52.294Z"
   },
   {
    "duration": 28,
    "start_time": "2022-04-20T09:28:52.515Z"
   },
   {
    "duration": 214,
    "start_time": "2022-04-20T09:28:52.545Z"
   },
   {
    "duration": 21,
    "start_time": "2022-04-20T09:28:52.761Z"
   },
   {
    "duration": 139,
    "start_time": "2022-04-20T09:28:52.783Z"
   },
   {
    "duration": 18,
    "start_time": "2022-04-20T09:28:52.924Z"
   },
   {
    "duration": 89,
    "start_time": "2022-04-20T09:28:52.943Z"
   },
   {
    "duration": 10,
    "start_time": "2022-04-20T09:28:53.034Z"
   },
   {
    "duration": 111,
    "start_time": "2022-04-20T09:28:53.045Z"
   },
   {
    "duration": 11,
    "start_time": "2022-04-20T09:28:53.160Z"
   },
   {
    "duration": 198,
    "start_time": "2022-04-20T09:28:53.172Z"
   },
   {
    "duration": 11,
    "start_time": "2022-04-20T09:28:53.372Z"
   },
   {
    "duration": 19,
    "start_time": "2022-04-20T09:28:53.385Z"
   },
   {
    "duration": 37,
    "start_time": "2022-04-20T09:28:53.406Z"
   },
   {
    "duration": 64,
    "start_time": "2022-04-20T09:28:53.445Z"
   },
   {
    "duration": 36,
    "start_time": "2022-04-20T09:28:53.511Z"
   },
   {
    "duration": 48,
    "start_time": "2022-04-20T09:28:53.548Z"
   },
   {
    "duration": 8,
    "start_time": "2022-04-20T09:28:53.598Z"
   },
   {
    "duration": 47,
    "start_time": "2022-04-20T09:28:53.608Z"
   },
   {
    "duration": 20,
    "start_time": "2022-04-20T09:28:53.656Z"
   },
   {
    "duration": 22,
    "start_time": "2022-04-20T09:28:53.678Z"
   },
   {
    "duration": 10,
    "start_time": "2022-04-20T09:28:53.702Z"
   },
   {
    "duration": 45,
    "start_time": "2022-04-20T09:28:53.713Z"
   },
   {
    "duration": 29,
    "start_time": "2022-04-20T09:28:53.760Z"
   },
   {
    "duration": 36,
    "start_time": "2022-04-20T09:28:53.790Z"
   },
   {
    "duration": 21,
    "start_time": "2022-04-20T09:28:53.827Z"
   },
   {
    "duration": 17,
    "start_time": "2022-04-20T09:28:53.850Z"
   },
   {
    "duration": 30,
    "start_time": "2022-04-20T09:28:53.870Z"
   },
   {
    "duration": 28,
    "start_time": "2022-04-20T09:28:53.902Z"
   },
   {
    "duration": 31,
    "start_time": "2022-04-20T09:28:53.932Z"
   },
   {
    "duration": 24,
    "start_time": "2022-04-20T09:28:53.964Z"
   },
   {
    "duration": 401,
    "start_time": "2022-04-20T09:28:53.990Z"
   },
   {
    "duration": 304,
    "start_time": "2022-04-20T09:28:54.392Z"
   },
   {
    "duration": 313,
    "start_time": "2022-04-20T09:28:54.698Z"
   },
   {
    "duration": 23,
    "start_time": "2022-04-20T09:28:55.012Z"
   },
   {
    "duration": 0,
    "start_time": "2022-04-20T09:28:55.037Z"
   },
   {
    "duration": 0,
    "start_time": "2022-04-20T09:28:55.038Z"
   },
   {
    "duration": 0,
    "start_time": "2022-04-20T09:28:55.054Z"
   },
   {
    "duration": 0,
    "start_time": "2022-04-20T09:28:55.055Z"
   },
   {
    "duration": 0,
    "start_time": "2022-04-20T09:28:55.056Z"
   },
   {
    "duration": 0,
    "start_time": "2022-04-20T09:28:55.057Z"
   },
   {
    "duration": 0,
    "start_time": "2022-04-20T09:28:55.058Z"
   },
   {
    "duration": 0,
    "start_time": "2022-04-20T09:28:55.060Z"
   },
   {
    "duration": 0,
    "start_time": "2022-04-20T09:28:55.061Z"
   },
   {
    "duration": 0,
    "start_time": "2022-04-20T09:28:55.062Z"
   },
   {
    "duration": 0,
    "start_time": "2022-04-20T09:28:55.063Z"
   },
   {
    "duration": 0,
    "start_time": "2022-04-20T09:28:55.064Z"
   },
   {
    "duration": 0,
    "start_time": "2022-04-20T09:28:55.065Z"
   },
   {
    "duration": 25,
    "start_time": "2022-04-20T09:29:49.038Z"
   },
   {
    "duration": 20,
    "start_time": "2022-04-20T09:29:57.199Z"
   },
   {
    "duration": 1152,
    "start_time": "2022-04-20T09:30:20.940Z"
   },
   {
    "duration": 207,
    "start_time": "2022-04-20T09:30:22.093Z"
   },
   {
    "duration": 25,
    "start_time": "2022-04-20T09:30:22.301Z"
   },
   {
    "duration": 220,
    "start_time": "2022-04-20T09:30:22.328Z"
   },
   {
    "duration": 23,
    "start_time": "2022-04-20T09:30:22.550Z"
   },
   {
    "duration": 144,
    "start_time": "2022-04-20T09:30:22.575Z"
   },
   {
    "duration": 17,
    "start_time": "2022-04-20T09:30:22.721Z"
   },
   {
    "duration": 83,
    "start_time": "2022-04-20T09:30:22.740Z"
   },
   {
    "duration": 11,
    "start_time": "2022-04-20T09:30:22.824Z"
   },
   {
    "duration": 91,
    "start_time": "2022-04-20T09:30:22.837Z"
   },
   {
    "duration": 10,
    "start_time": "2022-04-20T09:30:22.930Z"
   },
   {
    "duration": 204,
    "start_time": "2022-04-20T09:30:22.942Z"
   },
   {
    "duration": 9,
    "start_time": "2022-04-20T09:30:23.154Z"
   },
   {
    "duration": 12,
    "start_time": "2022-04-20T09:30:23.164Z"
   },
   {
    "duration": 13,
    "start_time": "2022-04-20T09:30:23.177Z"
   },
   {
    "duration": 74,
    "start_time": "2022-04-20T09:30:23.192Z"
   },
   {
    "duration": 36,
    "start_time": "2022-04-20T09:30:23.267Z"
   },
   {
    "duration": 60,
    "start_time": "2022-04-20T09:30:23.304Z"
   },
   {
    "duration": 8,
    "start_time": "2022-04-20T09:30:23.366Z"
   },
   {
    "duration": 53,
    "start_time": "2022-04-20T09:30:23.376Z"
   },
   {
    "duration": 24,
    "start_time": "2022-04-20T09:30:23.431Z"
   },
   {
    "duration": 20,
    "start_time": "2022-04-20T09:30:23.457Z"
   },
   {
    "duration": 10,
    "start_time": "2022-04-20T09:30:23.478Z"
   },
   {
    "duration": 16,
    "start_time": "2022-04-20T09:30:23.490Z"
   },
   {
    "duration": 17,
    "start_time": "2022-04-20T09:30:23.508Z"
   },
   {
    "duration": 43,
    "start_time": "2022-04-20T09:30:23.527Z"
   },
   {
    "duration": 20,
    "start_time": "2022-04-20T09:30:23.571Z"
   },
   {
    "duration": 15,
    "start_time": "2022-04-20T09:30:23.594Z"
   },
   {
    "duration": 13,
    "start_time": "2022-04-20T09:30:23.610Z"
   },
   {
    "duration": 36,
    "start_time": "2022-04-20T09:30:23.625Z"
   },
   {
    "duration": 12,
    "start_time": "2022-04-20T09:30:23.663Z"
   },
   {
    "duration": 15,
    "start_time": "2022-04-20T09:30:23.676Z"
   },
   {
    "duration": 313,
    "start_time": "2022-04-20T09:30:23.692Z"
   },
   {
    "duration": 313,
    "start_time": "2022-04-20T09:30:24.006Z"
   },
   {
    "duration": 343,
    "start_time": "2022-04-20T09:30:24.321Z"
   },
   {
    "duration": 122,
    "start_time": "2022-04-20T09:30:24.665Z"
   },
   {
    "duration": 0,
    "start_time": "2022-04-20T09:30:24.789Z"
   },
   {
    "duration": 0,
    "start_time": "2022-04-20T09:30:24.790Z"
   },
   {
    "duration": 0,
    "start_time": "2022-04-20T09:30:24.791Z"
   },
   {
    "duration": 0,
    "start_time": "2022-04-20T09:30:24.792Z"
   },
   {
    "duration": 0,
    "start_time": "2022-04-20T09:30:24.793Z"
   },
   {
    "duration": 0,
    "start_time": "2022-04-20T09:30:24.794Z"
   },
   {
    "duration": 0,
    "start_time": "2022-04-20T09:30:24.795Z"
   },
   {
    "duration": 0,
    "start_time": "2022-04-20T09:30:24.796Z"
   },
   {
    "duration": 0,
    "start_time": "2022-04-20T09:30:24.797Z"
   },
   {
    "duration": 0,
    "start_time": "2022-04-20T09:30:24.798Z"
   },
   {
    "duration": 0,
    "start_time": "2022-04-20T09:30:24.799Z"
   },
   {
    "duration": 0,
    "start_time": "2022-04-20T09:30:24.800Z"
   },
   {
    "duration": 1,
    "start_time": "2022-04-20T09:30:24.800Z"
   },
   {
    "duration": 13,
    "start_time": "2022-04-20T09:32:40.657Z"
   },
   {
    "duration": 14,
    "start_time": "2022-04-20T09:32:43.396Z"
   },
   {
    "duration": 4,
    "start_time": "2022-04-20T09:32:46.375Z"
   },
   {
    "duration": 219,
    "start_time": "2022-04-20T09:32:46.383Z"
   },
   {
    "duration": 25,
    "start_time": "2022-04-20T09:32:46.604Z"
   },
   {
    "duration": 209,
    "start_time": "2022-04-20T09:32:46.630Z"
   },
   {
    "duration": 22,
    "start_time": "2022-04-20T09:32:46.841Z"
   },
   {
    "duration": 150,
    "start_time": "2022-04-20T09:32:46.865Z"
   },
   {
    "duration": 19,
    "start_time": "2022-04-20T09:32:47.017Z"
   },
   {
    "duration": 76,
    "start_time": "2022-04-20T09:32:47.038Z"
   },
   {
    "duration": 10,
    "start_time": "2022-04-20T09:32:47.115Z"
   },
   {
    "duration": 93,
    "start_time": "2022-04-20T09:32:47.127Z"
   },
   {
    "duration": 11,
    "start_time": "2022-04-20T09:32:47.223Z"
   },
   {
    "duration": 185,
    "start_time": "2022-04-20T09:32:47.236Z"
   },
   {
    "duration": 11,
    "start_time": "2022-04-20T09:32:47.423Z"
   },
   {
    "duration": 24,
    "start_time": "2022-04-20T09:32:47.435Z"
   },
   {
    "duration": 14,
    "start_time": "2022-04-20T09:32:47.460Z"
   },
   {
    "duration": 54,
    "start_time": "2022-04-20T09:32:47.476Z"
   },
   {
    "duration": 58,
    "start_time": "2022-04-20T09:32:47.531Z"
   },
   {
    "duration": 43,
    "start_time": "2022-04-20T09:32:47.591Z"
   },
   {
    "duration": 26,
    "start_time": "2022-04-20T09:32:47.636Z"
   },
   {
    "duration": 27,
    "start_time": "2022-04-20T09:32:47.664Z"
   },
   {
    "duration": 22,
    "start_time": "2022-04-20T09:32:47.693Z"
   },
   {
    "duration": 38,
    "start_time": "2022-04-20T09:32:47.717Z"
   },
   {
    "duration": 10,
    "start_time": "2022-04-20T09:32:47.757Z"
   },
   {
    "duration": 16,
    "start_time": "2022-04-20T09:32:47.768Z"
   },
   {
    "duration": 11,
    "start_time": "2022-04-20T09:32:47.786Z"
   },
   {
    "duration": 24,
    "start_time": "2022-04-20T09:32:47.798Z"
   },
   {
    "duration": 45,
    "start_time": "2022-04-20T09:32:47.823Z"
   },
   {
    "duration": 3,
    "start_time": "2022-04-20T09:32:47.869Z"
   },
   {
    "duration": 14,
    "start_time": "2022-04-20T09:32:47.877Z"
   },
   {
    "duration": 16,
    "start_time": "2022-04-20T09:32:47.892Z"
   },
   {
    "duration": 14,
    "start_time": "2022-04-20T09:32:47.910Z"
   },
   {
    "duration": 43,
    "start_time": "2022-04-20T09:32:47.925Z"
   },
   {
    "duration": 328,
    "start_time": "2022-04-20T09:32:47.969Z"
   },
   {
    "duration": 382,
    "start_time": "2022-04-20T09:32:48.298Z"
   },
   {
    "duration": 326,
    "start_time": "2022-04-20T09:32:48.682Z"
   },
   {
    "duration": 55,
    "start_time": "2022-04-20T09:32:49.009Z"
   },
   {
    "duration": 14,
    "start_time": "2022-04-20T09:32:49.066Z"
   },
   {
    "duration": 0,
    "start_time": "2022-04-20T09:32:49.082Z"
   },
   {
    "duration": 0,
    "start_time": "2022-04-20T09:32:49.083Z"
   },
   {
    "duration": 0,
    "start_time": "2022-04-20T09:32:49.084Z"
   },
   {
    "duration": 0,
    "start_time": "2022-04-20T09:32:49.085Z"
   },
   {
    "duration": 0,
    "start_time": "2022-04-20T09:32:49.086Z"
   },
   {
    "duration": 0,
    "start_time": "2022-04-20T09:32:49.087Z"
   },
   {
    "duration": 0,
    "start_time": "2022-04-20T09:32:49.088Z"
   },
   {
    "duration": 0,
    "start_time": "2022-04-20T09:32:49.089Z"
   },
   {
    "duration": 0,
    "start_time": "2022-04-20T09:32:49.090Z"
   },
   {
    "duration": 0,
    "start_time": "2022-04-20T09:32:49.091Z"
   },
   {
    "duration": 0,
    "start_time": "2022-04-20T09:32:49.092Z"
   },
   {
    "duration": 0,
    "start_time": "2022-04-20T09:32:49.093Z"
   },
   {
    "duration": 6,
    "start_time": "2022-04-20T09:35:26.218Z"
   },
   {
    "duration": 3,
    "start_time": "2022-04-20T09:35:42.964Z"
   },
   {
    "duration": 216,
    "start_time": "2022-04-20T09:35:42.971Z"
   },
   {
    "duration": 25,
    "start_time": "2022-04-20T09:35:43.189Z"
   },
   {
    "duration": 200,
    "start_time": "2022-04-20T09:35:43.216Z"
   },
   {
    "duration": 21,
    "start_time": "2022-04-20T09:35:43.418Z"
   },
   {
    "duration": 149,
    "start_time": "2022-04-20T09:35:43.441Z"
   },
   {
    "duration": 19,
    "start_time": "2022-04-20T09:35:43.591Z"
   },
   {
    "duration": 97,
    "start_time": "2022-04-20T09:35:43.612Z"
   },
   {
    "duration": 10,
    "start_time": "2022-04-20T09:35:43.711Z"
   },
   {
    "duration": 94,
    "start_time": "2022-04-20T09:35:43.723Z"
   },
   {
    "duration": 11,
    "start_time": "2022-04-20T09:35:43.820Z"
   },
   {
    "duration": 190,
    "start_time": "2022-04-20T09:35:43.832Z"
   },
   {
    "duration": 10,
    "start_time": "2022-04-20T09:35:44.024Z"
   },
   {
    "duration": 19,
    "start_time": "2022-04-20T09:35:44.036Z"
   },
   {
    "duration": 14,
    "start_time": "2022-04-20T09:35:44.057Z"
   },
   {
    "duration": 55,
    "start_time": "2022-04-20T09:35:44.073Z"
   },
   {
    "duration": 58,
    "start_time": "2022-04-20T09:35:44.130Z"
   },
   {
    "duration": 45,
    "start_time": "2022-04-20T09:35:44.190Z"
   },
   {
    "duration": 12,
    "start_time": "2022-04-20T09:35:44.255Z"
   },
   {
    "duration": 25,
    "start_time": "2022-04-20T09:35:44.269Z"
   },
   {
    "duration": 23,
    "start_time": "2022-04-20T09:35:44.297Z"
   },
   {
    "duration": 49,
    "start_time": "2022-04-20T09:35:44.323Z"
   },
   {
    "duration": 11,
    "start_time": "2022-04-20T09:35:44.373Z"
   },
   {
    "duration": 15,
    "start_time": "2022-04-20T09:35:44.386Z"
   },
   {
    "duration": 13,
    "start_time": "2022-04-20T09:35:44.403Z"
   },
   {
    "duration": 47,
    "start_time": "2022-04-20T09:35:44.418Z"
   },
   {
    "duration": 24,
    "start_time": "2022-04-20T09:35:44.467Z"
   },
   {
    "duration": 12,
    "start_time": "2022-04-20T09:35:44.492Z"
   },
   {
    "duration": 0,
    "start_time": "2022-04-20T09:35:44.507Z"
   },
   {
    "duration": 0,
    "start_time": "2022-04-20T09:35:44.508Z"
   },
   {
    "duration": 0,
    "start_time": "2022-04-20T09:35:44.509Z"
   },
   {
    "duration": 0,
    "start_time": "2022-04-20T09:35:44.510Z"
   },
   {
    "duration": 0,
    "start_time": "2022-04-20T09:35:44.511Z"
   },
   {
    "duration": 0,
    "start_time": "2022-04-20T09:35:44.512Z"
   },
   {
    "duration": 0,
    "start_time": "2022-04-20T09:35:44.513Z"
   },
   {
    "duration": 0,
    "start_time": "2022-04-20T09:35:44.514Z"
   },
   {
    "duration": 0,
    "start_time": "2022-04-20T09:35:44.515Z"
   },
   {
    "duration": 0,
    "start_time": "2022-04-20T09:35:44.516Z"
   },
   {
    "duration": 0,
    "start_time": "2022-04-20T09:35:44.517Z"
   },
   {
    "duration": 0,
    "start_time": "2022-04-20T09:35:44.518Z"
   },
   {
    "duration": 0,
    "start_time": "2022-04-20T09:35:44.554Z"
   },
   {
    "duration": 0,
    "start_time": "2022-04-20T09:35:44.556Z"
   },
   {
    "duration": 0,
    "start_time": "2022-04-20T09:35:44.557Z"
   },
   {
    "duration": 0,
    "start_time": "2022-04-20T09:35:44.558Z"
   },
   {
    "duration": 0,
    "start_time": "2022-04-20T09:35:44.559Z"
   },
   {
    "duration": 0,
    "start_time": "2022-04-20T09:35:44.560Z"
   },
   {
    "duration": 0,
    "start_time": "2022-04-20T09:35:44.562Z"
   },
   {
    "duration": 0,
    "start_time": "2022-04-20T09:35:44.562Z"
   },
   {
    "duration": 0,
    "start_time": "2022-04-20T09:35:44.563Z"
   },
   {
    "duration": 5,
    "start_time": "2022-04-20T09:37:05.335Z"
   },
   {
    "duration": 14,
    "start_time": "2022-04-20T09:37:16.790Z"
   },
   {
    "duration": 16,
    "start_time": "2022-04-20T09:37:27.821Z"
   },
   {
    "duration": 16,
    "start_time": "2022-04-20T09:37:34.747Z"
   },
   {
    "duration": 17,
    "start_time": "2022-04-20T09:37:43.286Z"
   },
   {
    "duration": 3,
    "start_time": "2022-04-20T09:38:42.539Z"
   },
   {
    "duration": 17,
    "start_time": "2022-04-20T09:39:23.560Z"
   },
   {
    "duration": 3,
    "start_time": "2022-04-20T09:39:29.146Z"
   },
   {
    "duration": 304,
    "start_time": "2022-04-20T09:39:33.269Z"
   },
   {
    "duration": 279,
    "start_time": "2022-04-20T09:39:40.255Z"
   },
   {
    "duration": 297,
    "start_time": "2022-04-20T09:39:44.410Z"
   },
   {
    "duration": 39,
    "start_time": "2022-04-20T09:39:55.418Z"
   },
   {
    "duration": 38,
    "start_time": "2022-04-20T09:40:50.855Z"
   },
   {
    "duration": 38,
    "start_time": "2022-04-20T09:40:59.948Z"
   },
   {
    "duration": 297,
    "start_time": "2022-04-20T09:41:08.675Z"
   },
   {
    "duration": 409,
    "start_time": "2022-04-20T09:45:51.560Z"
   },
   {
    "duration": 4,
    "start_time": "2022-04-20T09:47:16.804Z"
   },
   {
    "duration": 451,
    "start_time": "2022-04-20T09:47:48.859Z"
   },
   {
    "duration": 275,
    "start_time": "2022-04-20T09:48:57.819Z"
   },
   {
    "duration": 4,
    "start_time": "2022-04-20T09:49:17.075Z"
   },
   {
    "duration": 209,
    "start_time": "2022-04-20T09:49:17.092Z"
   },
   {
    "duration": 26,
    "start_time": "2022-04-20T09:49:17.303Z"
   },
   {
    "duration": 200,
    "start_time": "2022-04-20T09:49:17.330Z"
   },
   {
    "duration": 25,
    "start_time": "2022-04-20T09:49:17.532Z"
   },
   {
    "duration": 150,
    "start_time": "2022-04-20T09:49:17.559Z"
   },
   {
    "duration": 18,
    "start_time": "2022-04-20T09:49:17.710Z"
   },
   {
    "duration": 74,
    "start_time": "2022-04-20T09:49:17.730Z"
   },
   {
    "duration": 11,
    "start_time": "2022-04-20T09:49:17.805Z"
   },
   {
    "duration": 95,
    "start_time": "2022-04-20T09:49:17.818Z"
   },
   {
    "duration": 10,
    "start_time": "2022-04-20T09:49:17.916Z"
   },
   {
    "duration": 189,
    "start_time": "2022-04-20T09:49:17.928Z"
   },
   {
    "duration": 10,
    "start_time": "2022-04-20T09:49:18.119Z"
   },
   {
    "duration": 7,
    "start_time": "2022-04-20T09:49:18.130Z"
   },
   {
    "duration": 27,
    "start_time": "2022-04-20T09:49:18.139Z"
   },
   {
    "duration": 51,
    "start_time": "2022-04-20T09:49:18.168Z"
   },
   {
    "duration": 57,
    "start_time": "2022-04-20T09:49:18.220Z"
   },
   {
    "duration": 42,
    "start_time": "2022-04-20T09:49:18.278Z"
   },
   {
    "duration": 8,
    "start_time": "2022-04-20T09:49:18.322Z"
   },
   {
    "duration": 38,
    "start_time": "2022-04-20T09:49:18.331Z"
   },
   {
    "duration": 19,
    "start_time": "2022-04-20T09:49:18.371Z"
   },
   {
    "duration": 17,
    "start_time": "2022-04-20T09:49:18.392Z"
   },
   {
    "duration": 8,
    "start_time": "2022-04-20T09:49:18.411Z"
   },
   {
    "duration": 44,
    "start_time": "2022-04-20T09:49:18.421Z"
   },
   {
    "duration": 10,
    "start_time": "2022-04-20T09:49:18.466Z"
   },
   {
    "duration": 24,
    "start_time": "2022-04-20T09:49:18.478Z"
   },
   {
    "duration": 20,
    "start_time": "2022-04-20T09:49:18.503Z"
   },
   {
    "duration": 29,
    "start_time": "2022-04-20T09:49:18.525Z"
   },
   {
    "duration": 13,
    "start_time": "2022-04-20T09:49:18.558Z"
   },
   {
    "duration": 15,
    "start_time": "2022-04-20T09:49:18.573Z"
   },
   {
    "duration": 14,
    "start_time": "2022-04-20T09:49:18.589Z"
   },
   {
    "duration": 15,
    "start_time": "2022-04-20T09:49:18.604Z"
   },
   {
    "duration": 3,
    "start_time": "2022-04-20T09:49:18.620Z"
   },
   {
    "duration": 333,
    "start_time": "2022-04-20T09:49:18.624Z"
   },
   {
    "duration": 282,
    "start_time": "2022-04-20T09:49:18.959Z"
   },
   {
    "duration": 313,
    "start_time": "2022-04-20T09:49:19.243Z"
   },
   {
    "duration": 38,
    "start_time": "2022-04-20T09:49:19.558Z"
   },
   {
    "duration": 392,
    "start_time": "2022-04-20T09:49:19.598Z"
   },
   {
    "duration": 315,
    "start_time": "2022-04-20T09:49:19.992Z"
   },
   {
    "duration": 294,
    "start_time": "2022-04-20T09:49:20.309Z"
   },
   {
    "duration": 298,
    "start_time": "2022-04-20T09:49:20.605Z"
   },
   {
    "duration": 303,
    "start_time": "2022-04-20T09:49:20.905Z"
   },
   {
    "duration": 293,
    "start_time": "2022-04-20T09:49:21.210Z"
   },
   {
    "duration": 5,
    "start_time": "2022-04-20T09:49:21.505Z"
   },
   {
    "duration": 33,
    "start_time": "2022-04-20T09:49:21.512Z"
   },
   {
    "duration": 17,
    "start_time": "2022-04-20T09:49:21.547Z"
   },
   {
    "duration": 9,
    "start_time": "2022-04-20T09:49:21.566Z"
   },
   {
    "duration": 118,
    "start_time": "2022-04-20T09:49:21.577Z"
   },
   {
    "duration": 18,
    "start_time": "2022-04-20T09:49:21.697Z"
   },
   {
    "duration": 23,
    "start_time": "2022-04-20T09:49:21.717Z"
   },
   {
    "duration": 282,
    "start_time": "2022-04-20T09:50:40.889Z"
   },
   {
    "duration": 306,
    "start_time": "2022-04-20T09:51:37.709Z"
   },
   {
    "duration": 295,
    "start_time": "2022-04-20T09:52:06.204Z"
   },
   {
    "duration": 324,
    "start_time": "2022-04-20T09:53:21.980Z"
   },
   {
    "duration": 323,
    "start_time": "2022-04-20T09:53:30.022Z"
   },
   {
    "duration": 318,
    "start_time": "2022-04-20T09:53:55.160Z"
   },
   {
    "duration": 1256,
    "start_time": "2022-04-20T09:54:35.135Z"
   },
   {
    "duration": 229,
    "start_time": "2022-04-20T09:54:36.393Z"
   },
   {
    "duration": 32,
    "start_time": "2022-04-20T09:54:36.623Z"
   },
   {
    "duration": 215,
    "start_time": "2022-04-20T09:54:36.658Z"
   },
   {
    "duration": 22,
    "start_time": "2022-04-20T09:54:36.875Z"
   },
   {
    "duration": 152,
    "start_time": "2022-04-20T09:54:36.899Z"
   },
   {
    "duration": 19,
    "start_time": "2022-04-20T09:54:37.053Z"
   },
   {
    "duration": 84,
    "start_time": "2022-04-20T09:54:37.074Z"
   },
   {
    "duration": 10,
    "start_time": "2022-04-20T09:54:37.160Z"
   },
   {
    "duration": 87,
    "start_time": "2022-04-20T09:54:37.173Z"
   },
   {
    "duration": 10,
    "start_time": "2022-04-20T09:54:37.262Z"
   },
   {
    "duration": 244,
    "start_time": "2022-04-20T09:54:37.274Z"
   },
   {
    "duration": 10,
    "start_time": "2022-04-20T09:54:37.520Z"
   },
   {
    "duration": 25,
    "start_time": "2022-04-20T09:54:37.532Z"
   },
   {
    "duration": 15,
    "start_time": "2022-04-20T09:54:37.559Z"
   },
   {
    "duration": 60,
    "start_time": "2022-04-20T09:54:37.576Z"
   },
   {
    "duration": 42,
    "start_time": "2022-04-20T09:54:37.655Z"
   },
   {
    "duration": 65,
    "start_time": "2022-04-20T09:54:37.699Z"
   },
   {
    "duration": 9,
    "start_time": "2022-04-20T09:54:37.766Z"
   },
   {
    "duration": 31,
    "start_time": "2022-04-20T09:54:37.777Z"
   },
   {
    "duration": 46,
    "start_time": "2022-04-20T09:54:37.809Z"
   },
   {
    "duration": 22,
    "start_time": "2022-04-20T09:54:37.857Z"
   },
   {
    "duration": 10,
    "start_time": "2022-04-20T09:54:37.881Z"
   },
   {
    "duration": 22,
    "start_time": "2022-04-20T09:54:37.892Z"
   },
   {
    "duration": 12,
    "start_time": "2022-04-20T09:54:37.916Z"
   },
   {
    "duration": 42,
    "start_time": "2022-04-20T09:54:37.930Z"
   },
   {
    "duration": 21,
    "start_time": "2022-04-20T09:54:37.974Z"
   },
   {
    "duration": 7,
    "start_time": "2022-04-20T09:54:37.998Z"
   },
   {
    "duration": 16,
    "start_time": "2022-04-20T09:54:38.007Z"
   },
   {
    "duration": 19,
    "start_time": "2022-04-20T09:54:38.054Z"
   },
   {
    "duration": 16,
    "start_time": "2022-04-20T09:54:38.075Z"
   },
   {
    "duration": 17,
    "start_time": "2022-04-20T09:54:38.093Z"
   },
   {
    "duration": 8,
    "start_time": "2022-04-20T09:54:38.112Z"
   },
   {
    "duration": 424,
    "start_time": "2022-04-20T09:54:38.121Z"
   },
   {
    "duration": 312,
    "start_time": "2022-04-20T09:54:38.555Z"
   },
   {
    "duration": 334,
    "start_time": "2022-04-20T09:54:38.869Z"
   },
   {
    "duration": 51,
    "start_time": "2022-04-20T09:54:39.205Z"
   },
   {
    "duration": 381,
    "start_time": "2022-04-20T09:54:39.257Z"
   },
   {
    "duration": 330,
    "start_time": "2022-04-20T09:54:39.639Z"
   },
   {
    "duration": 405,
    "start_time": "2022-04-20T09:54:39.971Z"
   },
   {
    "duration": 325,
    "start_time": "2022-04-20T09:54:40.378Z"
   },
   {
    "duration": 318,
    "start_time": "2022-04-20T09:54:40.704Z"
   },
   {
    "duration": 323,
    "start_time": "2022-04-20T09:54:41.024Z"
   },
   {
    "duration": 4,
    "start_time": "2022-04-20T09:54:41.349Z"
   },
   {
    "duration": 21,
    "start_time": "2022-04-20T09:54:41.354Z"
   },
   {
    "duration": 12,
    "start_time": "2022-04-20T09:54:41.377Z"
   },
   {
    "duration": 5,
    "start_time": "2022-04-20T09:54:41.391Z"
   },
   {
    "duration": 22,
    "start_time": "2022-04-20T09:54:41.398Z"
   },
   {
    "duration": 12,
    "start_time": "2022-04-20T09:54:41.422Z"
   },
   {
    "duration": 5,
    "start_time": "2022-04-20T09:54:41.455Z"
   },
   {
    "duration": 3,
    "start_time": "2022-04-20T09:54:48.618Z"
   },
   {
    "duration": 259,
    "start_time": "2022-04-20T09:54:48.644Z"
   },
   {
    "duration": 25,
    "start_time": "2022-04-20T09:54:48.905Z"
   },
   {
    "duration": 236,
    "start_time": "2022-04-20T09:54:48.931Z"
   },
   {
    "duration": 22,
    "start_time": "2022-04-20T09:54:49.169Z"
   },
   {
    "duration": 150,
    "start_time": "2022-04-20T09:54:49.193Z"
   },
   {
    "duration": 21,
    "start_time": "2022-04-20T09:54:49.345Z"
   },
   {
    "duration": 87,
    "start_time": "2022-04-20T09:54:49.368Z"
   },
   {
    "duration": 12,
    "start_time": "2022-04-20T09:54:49.457Z"
   },
   {
    "duration": 101,
    "start_time": "2022-04-20T09:54:49.471Z"
   },
   {
    "duration": 11,
    "start_time": "2022-04-20T09:54:49.575Z"
   },
   {
    "duration": 214,
    "start_time": "2022-04-20T09:54:49.588Z"
   },
   {
    "duration": 10,
    "start_time": "2022-04-20T09:54:49.804Z"
   },
   {
    "duration": 7,
    "start_time": "2022-04-20T09:54:49.816Z"
   },
   {
    "duration": 41,
    "start_time": "2022-04-20T09:54:49.825Z"
   },
   {
    "duration": 59,
    "start_time": "2022-04-20T09:54:49.867Z"
   },
   {
    "duration": 56,
    "start_time": "2022-04-20T09:54:49.928Z"
   },
   {
    "duration": 50,
    "start_time": "2022-04-20T09:54:49.985Z"
   },
   {
    "duration": 20,
    "start_time": "2022-04-20T09:54:50.036Z"
   },
   {
    "duration": 33,
    "start_time": "2022-04-20T09:54:50.057Z"
   },
   {
    "duration": 25,
    "start_time": "2022-04-20T09:54:50.092Z"
   },
   {
    "duration": 46,
    "start_time": "2022-04-20T09:54:50.119Z"
   },
   {
    "duration": 10,
    "start_time": "2022-04-20T09:54:50.167Z"
   },
   {
    "duration": 23,
    "start_time": "2022-04-20T09:54:50.178Z"
   },
   {
    "duration": 13,
    "start_time": "2022-04-20T09:54:50.203Z"
   },
   {
    "duration": 38,
    "start_time": "2022-04-20T09:54:50.218Z"
   },
   {
    "duration": 22,
    "start_time": "2022-04-20T09:54:50.257Z"
   },
   {
    "duration": 5,
    "start_time": "2022-04-20T09:54:50.281Z"
   },
   {
    "duration": 15,
    "start_time": "2022-04-20T09:54:50.290Z"
   },
   {
    "duration": 49,
    "start_time": "2022-04-20T09:54:50.306Z"
   },
   {
    "duration": 15,
    "start_time": "2022-04-20T09:54:50.357Z"
   },
   {
    "duration": 21,
    "start_time": "2022-04-20T09:54:50.374Z"
   },
   {
    "duration": 3,
    "start_time": "2022-04-20T09:54:50.397Z"
   },
   {
    "duration": 363,
    "start_time": "2022-04-20T09:54:50.402Z"
   },
   {
    "duration": 316,
    "start_time": "2022-04-20T09:54:50.767Z"
   },
   {
    "duration": 484,
    "start_time": "2022-04-20T09:54:51.085Z"
   },
   {
    "duration": 42,
    "start_time": "2022-04-20T09:54:51.571Z"
   },
   {
    "duration": 336,
    "start_time": "2022-04-20T09:54:51.615Z"
   },
   {
    "duration": 334,
    "start_time": "2022-04-20T09:54:51.953Z"
   },
   {
    "duration": 315,
    "start_time": "2022-04-20T09:54:52.289Z"
   },
   {
    "duration": 333,
    "start_time": "2022-04-20T09:54:52.606Z"
   },
   {
    "duration": 321,
    "start_time": "2022-04-20T09:54:52.941Z"
   },
   {
    "duration": 427,
    "start_time": "2022-04-20T09:54:53.264Z"
   },
   {
    "duration": 3,
    "start_time": "2022-04-20T09:54:53.693Z"
   },
   {
    "duration": 19,
    "start_time": "2022-04-20T09:54:53.698Z"
   },
   {
    "duration": 13,
    "start_time": "2022-04-20T09:54:53.718Z"
   },
   {
    "duration": 23,
    "start_time": "2022-04-20T09:54:53.732Z"
   },
   {
    "duration": 22,
    "start_time": "2022-04-20T09:54:53.757Z"
   },
   {
    "duration": 13,
    "start_time": "2022-04-20T09:54:53.781Z"
   },
   {
    "duration": 5,
    "start_time": "2022-04-20T09:54:53.795Z"
   },
   {
    "duration": 325,
    "start_time": "2022-04-20T09:55:33.927Z"
   },
   {
    "duration": 309,
    "start_time": "2022-04-20T09:55:43.158Z"
   },
   {
    "duration": 313,
    "start_time": "2022-04-20T09:55:59.874Z"
   },
   {
    "duration": 300,
    "start_time": "2022-04-20T09:56:58.724Z"
   },
   {
    "duration": 412,
    "start_time": "2022-04-20T09:57:16.850Z"
   },
   {
    "duration": 408,
    "start_time": "2022-04-20T09:57:22.920Z"
   },
   {
    "duration": 296,
    "start_time": "2022-04-20T09:57:34.380Z"
   },
   {
    "duration": 313,
    "start_time": "2022-04-20T09:57:45.359Z"
   },
   {
    "duration": 309,
    "start_time": "2022-04-20T09:57:56.645Z"
   },
   {
    "duration": 301,
    "start_time": "2022-04-20T09:58:07.198Z"
   },
   {
    "duration": 610,
    "start_time": "2022-04-20T10:06:33.699Z"
   },
   {
    "duration": 513,
    "start_time": "2022-04-20T10:06:49.136Z"
   },
   {
    "duration": 133,
    "start_time": "2022-04-20T10:08:25.622Z"
   },
   {
    "duration": 297,
    "start_time": "2022-04-20T10:08:30.620Z"
   },
   {
    "duration": 297,
    "start_time": "2022-04-20T10:09:42.417Z"
   },
   {
    "duration": 417,
    "start_time": "2022-04-20T10:11:42.096Z"
   },
   {
    "duration": 296,
    "start_time": "2022-04-20T10:11:56.231Z"
   },
   {
    "duration": 141,
    "start_time": "2022-04-20T10:17:17.866Z"
   },
   {
    "duration": 4,
    "start_time": "2022-04-20T10:17:29.452Z"
   },
   {
    "duration": 191,
    "start_time": "2022-04-20T10:17:51.650Z"
   },
   {
    "duration": 3,
    "start_time": "2022-04-20T10:21:44.575Z"
   },
   {
    "duration": 1247,
    "start_time": "2022-04-20T10:22:14.899Z"
   },
   {
    "duration": 248,
    "start_time": "2022-04-20T10:22:16.148Z"
   },
   {
    "duration": 99,
    "start_time": "2022-04-20T10:22:16.398Z"
   },
   {
    "duration": 465,
    "start_time": "2022-04-20T10:22:16.500Z"
   },
   {
    "duration": 24,
    "start_time": "2022-04-20T10:22:16.967Z"
   },
   {
    "duration": 194,
    "start_time": "2022-04-20T10:22:16.993Z"
   },
   {
    "duration": 20,
    "start_time": "2022-04-20T10:22:17.189Z"
   },
   {
    "duration": 95,
    "start_time": "2022-04-20T10:22:17.210Z"
   },
   {
    "duration": 10,
    "start_time": "2022-04-20T10:22:17.307Z"
   },
   {
    "duration": 101,
    "start_time": "2022-04-20T10:22:17.320Z"
   },
   {
    "duration": 12,
    "start_time": "2022-04-20T10:22:17.422Z"
   },
   {
    "duration": 275,
    "start_time": "2022-04-20T10:22:17.436Z"
   },
   {
    "duration": 11,
    "start_time": "2022-04-20T10:22:17.712Z"
   },
   {
    "duration": 29,
    "start_time": "2022-04-20T10:22:17.725Z"
   },
   {
    "duration": 53,
    "start_time": "2022-04-20T10:22:17.756Z"
   },
   {
    "duration": 59,
    "start_time": "2022-04-20T10:22:17.811Z"
   },
   {
    "duration": 41,
    "start_time": "2022-04-20T10:22:17.872Z"
   },
   {
    "duration": 66,
    "start_time": "2022-04-20T10:22:17.915Z"
   },
   {
    "duration": 9,
    "start_time": "2022-04-20T10:22:17.983Z"
   },
   {
    "duration": 32,
    "start_time": "2022-04-20T10:22:17.994Z"
   },
   {
    "duration": 47,
    "start_time": "2022-04-20T10:22:18.028Z"
   },
   {
    "duration": 23,
    "start_time": "2022-04-20T10:22:18.077Z"
   },
   {
    "duration": 10,
    "start_time": "2022-04-20T10:22:18.102Z"
   },
   {
    "duration": 48,
    "start_time": "2022-04-20T10:22:18.114Z"
   },
   {
    "duration": 12,
    "start_time": "2022-04-20T10:22:18.164Z"
   },
   {
    "duration": 28,
    "start_time": "2022-04-20T10:22:18.178Z"
   },
   {
    "duration": 22,
    "start_time": "2022-04-20T10:22:18.207Z"
   },
   {
    "duration": 30,
    "start_time": "2022-04-20T10:22:18.232Z"
   },
   {
    "duration": 16,
    "start_time": "2022-04-20T10:22:18.264Z"
   },
   {
    "duration": 17,
    "start_time": "2022-04-20T10:22:18.282Z"
   },
   {
    "duration": 15,
    "start_time": "2022-04-20T10:22:18.301Z"
   },
   {
    "duration": 52,
    "start_time": "2022-04-20T10:22:18.318Z"
   },
   {
    "duration": 3,
    "start_time": "2022-04-20T10:22:18.372Z"
   },
   {
    "duration": 309,
    "start_time": "2022-04-20T10:22:18.377Z"
   },
   {
    "duration": 310,
    "start_time": "2022-04-20T10:22:18.689Z"
   },
   {
    "duration": 375,
    "start_time": "2022-04-20T10:22:19.001Z"
   },
   {
    "duration": 48,
    "start_time": "2022-04-20T10:22:19.378Z"
   },
   {
    "duration": 426,
    "start_time": "2022-04-20T10:22:19.428Z"
   },
   {
    "duration": 344,
    "start_time": "2022-04-20T10:22:19.856Z"
   },
   {
    "duration": 448,
    "start_time": "2022-04-20T10:22:20.202Z"
   },
   {
    "duration": 350,
    "start_time": "2022-04-20T10:22:20.652Z"
   },
   {
    "duration": 324,
    "start_time": "2022-04-20T10:22:21.004Z"
   },
   {
    "duration": 333,
    "start_time": "2022-04-20T10:22:21.330Z"
   },
   {
    "duration": 5,
    "start_time": "2022-04-20T10:22:21.666Z"
   },
   {
    "duration": 7,
    "start_time": "2022-04-20T10:22:21.673Z"
   },
   {
    "duration": 18,
    "start_time": "2022-04-20T10:22:21.683Z"
   },
   {
    "duration": 19,
    "start_time": "2022-04-20T10:22:21.703Z"
   },
   {
    "duration": 7,
    "start_time": "2022-04-20T10:22:21.754Z"
   },
   {
    "duration": 18,
    "start_time": "2022-04-20T10:22:21.763Z"
   },
   {
    "duration": 24,
    "start_time": "2022-04-20T10:22:21.784Z"
   },
   {
    "duration": 13,
    "start_time": "2022-04-20T10:22:21.810Z"
   },
   {
    "duration": 4,
    "start_time": "2022-04-20T10:22:27.693Z"
   },
   {
    "duration": 356,
    "start_time": "2022-04-20T10:22:27.701Z"
   },
   {
    "duration": 49,
    "start_time": "2022-04-20T10:22:28.060Z"
   },
   {
    "duration": 313,
    "start_time": "2022-04-20T10:22:28.111Z"
   },
   {
    "duration": 34,
    "start_time": "2022-04-20T10:22:28.426Z"
   },
   {
    "duration": 208,
    "start_time": "2022-04-20T10:22:28.462Z"
   },
   {
    "duration": 21,
    "start_time": "2022-04-20T10:22:28.672Z"
   },
   {
    "duration": 98,
    "start_time": "2022-04-20T10:22:28.695Z"
   },
   {
    "duration": 14,
    "start_time": "2022-04-20T10:22:28.795Z"
   },
   {
    "duration": 116,
    "start_time": "2022-04-20T10:22:28.812Z"
   },
   {
    "duration": 15,
    "start_time": "2022-04-20T10:22:28.933Z"
   },
   {
    "duration": 332,
    "start_time": "2022-04-20T10:22:28.950Z"
   },
   {
    "duration": 14,
    "start_time": "2022-04-20T10:22:29.284Z"
   },
   {
    "duration": 9,
    "start_time": "2022-04-20T10:22:29.301Z"
   },
   {
    "duration": 47,
    "start_time": "2022-04-20T10:22:29.312Z"
   },
   {
    "duration": 107,
    "start_time": "2022-04-20T10:22:29.362Z"
   },
   {
    "duration": 65,
    "start_time": "2022-04-20T10:22:29.471Z"
   },
   {
    "duration": 68,
    "start_time": "2022-04-20T10:22:29.538Z"
   },
   {
    "duration": 11,
    "start_time": "2022-04-20T10:22:29.608Z"
   },
   {
    "duration": 62,
    "start_time": "2022-04-20T10:22:29.621Z"
   },
   {
    "duration": 40,
    "start_time": "2022-04-20T10:22:29.685Z"
   },
   {
    "duration": 49,
    "start_time": "2022-04-20T10:22:29.727Z"
   },
   {
    "duration": 17,
    "start_time": "2022-04-20T10:22:29.779Z"
   },
   {
    "duration": 17,
    "start_time": "2022-04-20T10:22:29.797Z"
   },
   {
    "duration": 44,
    "start_time": "2022-04-20T10:22:29.816Z"
   },
   {
    "duration": 28,
    "start_time": "2022-04-20T10:22:29.861Z"
   },
   {
    "duration": 23,
    "start_time": "2022-04-20T10:22:29.891Z"
   },
   {
    "duration": 6,
    "start_time": "2022-04-20T10:22:29.916Z"
   },
   {
    "duration": 22,
    "start_time": "2022-04-20T10:22:29.955Z"
   },
   {
    "duration": 38,
    "start_time": "2022-04-20T10:22:29.979Z"
   },
   {
    "duration": 45,
    "start_time": "2022-04-20T10:22:30.019Z"
   },
   {
    "duration": 35,
    "start_time": "2022-04-20T10:22:30.067Z"
   },
   {
    "duration": 4,
    "start_time": "2022-04-20T10:22:30.105Z"
   },
   {
    "duration": 658,
    "start_time": "2022-04-20T10:22:30.112Z"
   },
   {
    "duration": 349,
    "start_time": "2022-04-20T10:22:30.772Z"
   },
   {
    "duration": 592,
    "start_time": "2022-04-20T10:22:31.123Z"
   },
   {
    "duration": 60,
    "start_time": "2022-04-20T10:22:31.717Z"
   },
   {
    "duration": 364,
    "start_time": "2022-04-20T10:22:31.779Z"
   },
   {
    "duration": 364,
    "start_time": "2022-04-20T10:22:32.144Z"
   },
   {
    "duration": 334,
    "start_time": "2022-04-20T10:22:32.510Z"
   },
   {
    "duration": 346,
    "start_time": "2022-04-20T10:22:32.845Z"
   },
   {
    "duration": 541,
    "start_time": "2022-04-20T10:22:33.193Z"
   },
   {
    "duration": 716,
    "start_time": "2022-04-20T10:22:33.738Z"
   },
   {
    "duration": 6,
    "start_time": "2022-04-20T10:22:34.457Z"
   },
   {
    "duration": 20,
    "start_time": "2022-04-20T10:22:34.466Z"
   },
   {
    "duration": 50,
    "start_time": "2022-04-20T10:22:34.488Z"
   },
   {
    "duration": 28,
    "start_time": "2022-04-20T10:22:34.540Z"
   },
   {
    "duration": 11,
    "start_time": "2022-04-20T10:22:34.571Z"
   },
   {
    "duration": 56,
    "start_time": "2022-04-20T10:22:34.585Z"
   },
   {
    "duration": 22,
    "start_time": "2022-04-20T10:22:34.644Z"
   },
   {
    "duration": 11,
    "start_time": "2022-04-20T10:22:34.669Z"
   },
   {
    "duration": 4,
    "start_time": "2022-04-20T10:26:59.274Z"
   },
   {
    "duration": 256,
    "start_time": "2022-04-20T10:26:59.283Z"
   },
   {
    "duration": 57,
    "start_time": "2022-04-20T10:26:59.542Z"
   },
   {
    "duration": 336,
    "start_time": "2022-04-20T10:26:59.602Z"
   },
   {
    "duration": 28,
    "start_time": "2022-04-20T10:26:59.940Z"
   },
   {
    "duration": 219,
    "start_time": "2022-04-20T10:26:59.970Z"
   },
   {
    "duration": 22,
    "start_time": "2022-04-20T10:27:00.191Z"
   },
   {
    "duration": 121,
    "start_time": "2022-04-20T10:27:00.215Z"
   },
   {
    "duration": 16,
    "start_time": "2022-04-20T10:27:00.338Z"
   },
   {
    "duration": 114,
    "start_time": "2022-04-20T10:27:00.356Z"
   },
   {
    "duration": 17,
    "start_time": "2022-04-20T10:27:00.475Z"
   },
   {
    "duration": 240,
    "start_time": "2022-04-20T10:27:00.495Z"
   },
   {
    "duration": 20,
    "start_time": "2022-04-20T10:27:00.737Z"
   },
   {
    "duration": 9,
    "start_time": "2022-04-20T10:27:00.759Z"
   },
   {
    "duration": 34,
    "start_time": "2022-04-20T10:27:00.770Z"
   },
   {
    "duration": 86,
    "start_time": "2022-04-20T10:27:00.806Z"
   },
   {
    "duration": 40,
    "start_time": "2022-04-20T10:27:00.894Z"
   },
   {
    "duration": 64,
    "start_time": "2022-04-20T10:27:00.936Z"
   },
   {
    "duration": 12,
    "start_time": "2022-04-20T10:27:01.002Z"
   },
   {
    "duration": 58,
    "start_time": "2022-04-20T10:27:01.015Z"
   },
   {
    "duration": 42,
    "start_time": "2022-04-20T10:27:01.076Z"
   },
   {
    "duration": 52,
    "start_time": "2022-04-20T10:27:01.120Z"
   },
   {
    "duration": 15,
    "start_time": "2022-04-20T10:27:01.175Z"
   },
   {
    "duration": 69,
    "start_time": "2022-04-20T10:27:01.193Z"
   },
   {
    "duration": 32,
    "start_time": "2022-04-20T10:27:01.265Z"
   },
   {
    "duration": 43,
    "start_time": "2022-04-20T10:27:01.299Z"
   },
   {
    "duration": 34,
    "start_time": "2022-04-20T10:27:01.345Z"
   },
   {
    "duration": 7,
    "start_time": "2022-04-20T10:27:01.382Z"
   },
   {
    "duration": 51,
    "start_time": "2022-04-20T10:27:01.395Z"
   },
   {
    "duration": 53,
    "start_time": "2022-04-20T10:27:01.449Z"
   },
   {
    "duration": 40,
    "start_time": "2022-04-20T10:27:01.505Z"
   },
   {
    "duration": 66,
    "start_time": "2022-04-20T10:27:01.548Z"
   },
   {
    "duration": 24,
    "start_time": "2022-04-20T10:27:01.617Z"
   },
   {
    "duration": 623,
    "start_time": "2022-04-20T10:27:01.643Z"
   },
   {
    "duration": 554,
    "start_time": "2022-04-20T10:27:02.268Z"
   },
   {
    "duration": 378,
    "start_time": "2022-04-20T10:27:02.824Z"
   },
   {
    "duration": 52,
    "start_time": "2022-04-20T10:27:03.204Z"
   },
   {
    "duration": 472,
    "start_time": "2022-04-20T10:27:03.258Z"
   },
   {
    "duration": 342,
    "start_time": "2022-04-20T10:27:03.733Z"
   },
   {
    "duration": 439,
    "start_time": "2022-04-20T10:27:04.077Z"
   },
   {
    "duration": 347,
    "start_time": "2022-04-20T10:27:04.519Z"
   },
   {
    "duration": 343,
    "start_time": "2022-04-20T10:27:04.868Z"
   },
   {
    "duration": 320,
    "start_time": "2022-04-20T10:27:05.213Z"
   },
   {
    "duration": 4,
    "start_time": "2022-04-20T10:27:05.535Z"
   },
   {
    "duration": 18,
    "start_time": "2022-04-20T10:27:05.541Z"
   },
   {
    "duration": 18,
    "start_time": "2022-04-20T10:27:05.560Z"
   },
   {
    "duration": 14,
    "start_time": "2022-04-20T10:27:05.580Z"
   },
   {
    "duration": 6,
    "start_time": "2022-04-20T10:27:05.595Z"
   },
   {
    "duration": 19,
    "start_time": "2022-04-20T10:27:05.603Z"
   },
   {
    "duration": 43,
    "start_time": "2022-04-20T10:27:05.623Z"
   },
   {
    "duration": 5,
    "start_time": "2022-04-20T10:27:05.667Z"
   },
   {
    "duration": 4,
    "start_time": "2022-04-20T10:36:50.246Z"
   },
   {
    "duration": 3,
    "start_time": "2022-04-20T10:36:53.606Z"
   },
   {
    "duration": 1377,
    "start_time": "2022-04-20T20:32:47.709Z"
   },
   {
    "duration": 254,
    "start_time": "2022-04-20T20:32:49.088Z"
   },
   {
    "duration": 32,
    "start_time": "2022-04-20T20:32:49.344Z"
   },
   {
    "duration": 238,
    "start_time": "2022-04-20T20:32:49.379Z"
   },
   {
    "duration": 24,
    "start_time": "2022-04-20T20:32:49.619Z"
   },
   {
    "duration": 201,
    "start_time": "2022-04-20T20:32:49.646Z"
   },
   {
    "duration": 23,
    "start_time": "2022-04-20T20:32:49.849Z"
   },
   {
    "duration": 102,
    "start_time": "2022-04-20T20:32:49.874Z"
   },
   {
    "duration": 12,
    "start_time": "2022-04-20T20:32:49.978Z"
   },
   {
    "duration": 129,
    "start_time": "2022-04-20T20:32:49.993Z"
   },
   {
    "duration": 15,
    "start_time": "2022-04-20T20:32:50.124Z"
   },
   {
    "duration": 268,
    "start_time": "2022-04-20T20:32:50.142Z"
   },
   {
    "duration": 23,
    "start_time": "2022-04-20T20:32:50.412Z"
   },
   {
    "duration": 10,
    "start_time": "2022-04-20T20:32:50.437Z"
   },
   {
    "duration": 29,
    "start_time": "2022-04-20T20:32:50.448Z"
   },
   {
    "duration": 72,
    "start_time": "2022-04-20T20:32:50.479Z"
   },
   {
    "duration": 40,
    "start_time": "2022-04-20T20:32:50.553Z"
   },
   {
    "duration": 65,
    "start_time": "2022-04-20T20:32:50.595Z"
   },
   {
    "duration": 11,
    "start_time": "2022-04-20T20:32:50.662Z"
   },
   {
    "duration": 47,
    "start_time": "2022-04-20T20:32:50.674Z"
   },
   {
    "duration": 31,
    "start_time": "2022-04-20T20:32:50.723Z"
   },
   {
    "duration": 22,
    "start_time": "2022-04-20T20:32:50.756Z"
   },
   {
    "duration": 11,
    "start_time": "2022-04-20T20:32:50.780Z"
   },
   {
    "duration": 48,
    "start_time": "2022-04-20T20:32:50.793Z"
   },
   {
    "duration": 23,
    "start_time": "2022-04-20T20:32:50.843Z"
   },
   {
    "duration": 31,
    "start_time": "2022-04-20T20:32:50.868Z"
   },
   {
    "duration": 33,
    "start_time": "2022-04-20T20:32:50.901Z"
   },
   {
    "duration": 6,
    "start_time": "2022-04-20T20:32:50.940Z"
   },
   {
    "duration": 15,
    "start_time": "2022-04-20T20:32:50.948Z"
   },
   {
    "duration": 19,
    "start_time": "2022-04-20T20:32:50.965Z"
   },
   {
    "duration": 17,
    "start_time": "2022-04-20T20:32:50.986Z"
   },
   {
    "duration": 20,
    "start_time": "2022-04-20T20:32:51.034Z"
   },
   {
    "duration": 4,
    "start_time": "2022-04-20T20:32:51.056Z"
   },
   {
    "duration": 354,
    "start_time": "2022-04-20T20:32:51.061Z"
   },
   {
    "duration": 371,
    "start_time": "2022-04-20T20:32:51.417Z"
   },
   {
    "duration": 417,
    "start_time": "2022-04-20T20:32:51.790Z"
   },
   {
    "duration": 63,
    "start_time": "2022-04-20T20:32:52.209Z"
   },
   {
    "duration": 444,
    "start_time": "2022-04-20T20:32:52.274Z"
   },
   {
    "duration": 368,
    "start_time": "2022-04-20T20:32:52.720Z"
   },
   {
    "duration": 446,
    "start_time": "2022-04-20T20:32:53.090Z"
   },
   {
    "duration": 401,
    "start_time": "2022-04-20T20:32:53.537Z"
   },
   {
    "duration": 381,
    "start_time": "2022-04-20T20:32:53.940Z"
   },
   {
    "duration": 370,
    "start_time": "2022-04-20T20:32:54.323Z"
   },
   {
    "duration": 157,
    "start_time": "2022-04-20T20:32:54.696Z"
   },
   {
    "duration": 0,
    "start_time": "2022-04-20T20:32:54.856Z"
   },
   {
    "duration": 0,
    "start_time": "2022-04-20T20:32:54.857Z"
   },
   {
    "duration": 0,
    "start_time": "2022-04-20T20:32:54.858Z"
   },
   {
    "duration": 0,
    "start_time": "2022-04-20T20:32:54.860Z"
   },
   {
    "duration": 0,
    "start_time": "2022-04-20T20:32:54.861Z"
   },
   {
    "duration": 0,
    "start_time": "2022-04-20T20:32:54.863Z"
   },
   {
    "duration": 0,
    "start_time": "2022-04-20T20:32:54.864Z"
   },
   {
    "duration": 0,
    "start_time": "2022-04-20T20:32:54.865Z"
   },
   {
    "duration": 23,
    "start_time": "2022-04-20T20:33:45.157Z"
   },
   {
    "duration": 116,
    "start_time": "2022-04-20T20:34:35.579Z"
   },
   {
    "duration": 12,
    "start_time": "2022-04-20T20:34:39.046Z"
   },
   {
    "duration": 430,
    "start_time": "2022-04-20T20:34:48.884Z"
   },
   {
    "duration": 480,
    "start_time": "2022-04-20T20:34:59.685Z"
   },
   {
    "duration": 632,
    "start_time": "2022-04-20T20:35:10.027Z"
   },
   {
    "duration": 513,
    "start_time": "2022-04-20T20:35:17.363Z"
   },
   {
    "duration": 550,
    "start_time": "2022-04-20T20:35:22.388Z"
   },
   {
    "duration": 613,
    "start_time": "2022-04-20T20:35:27.737Z"
   },
   {
    "duration": 516,
    "start_time": "2022-04-20T20:35:33.248Z"
   },
   {
    "duration": 627,
    "start_time": "2022-04-20T20:35:39.043Z"
   },
   {
    "duration": 510,
    "start_time": "2022-04-20T20:35:43.808Z"
   },
   {
    "duration": 503,
    "start_time": "2022-04-20T20:35:53.627Z"
   },
   {
    "duration": 166,
    "start_time": "2022-04-20T20:38:30.830Z"
   },
   {
    "duration": 1418,
    "start_time": "2022-10-07T14:27:28.164Z"
   },
   {
    "duration": 0,
    "start_time": "2022-10-07T14:27:29.585Z"
   },
   {
    "duration": 0,
    "start_time": "2022-10-07T14:27:29.586Z"
   },
   {
    "duration": 0,
    "start_time": "2022-10-07T14:27:29.588Z"
   },
   {
    "duration": 0,
    "start_time": "2022-10-07T14:27:29.595Z"
   },
   {
    "duration": 0,
    "start_time": "2022-10-07T14:27:29.596Z"
   },
   {
    "duration": 0,
    "start_time": "2022-10-07T14:27:29.597Z"
   },
   {
    "duration": 0,
    "start_time": "2022-10-07T14:27:29.598Z"
   },
   {
    "duration": 0,
    "start_time": "2022-10-07T14:27:29.599Z"
   },
   {
    "duration": 0,
    "start_time": "2022-10-07T14:27:29.601Z"
   },
   {
    "duration": 0,
    "start_time": "2022-10-07T14:27:29.602Z"
   },
   {
    "duration": 0,
    "start_time": "2022-10-07T14:27:29.603Z"
   },
   {
    "duration": 0,
    "start_time": "2022-10-07T14:27:29.605Z"
   },
   {
    "duration": 0,
    "start_time": "2022-10-07T14:27:29.606Z"
   },
   {
    "duration": 0,
    "start_time": "2022-10-07T14:27:29.607Z"
   },
   {
    "duration": 0,
    "start_time": "2022-10-07T14:27:29.609Z"
   },
   {
    "duration": 0,
    "start_time": "2022-10-07T14:27:29.610Z"
   },
   {
    "duration": 0,
    "start_time": "2022-10-07T14:27:29.612Z"
   },
   {
    "duration": 0,
    "start_time": "2022-10-07T14:27:29.613Z"
   },
   {
    "duration": 0,
    "start_time": "2022-10-07T14:27:29.614Z"
   },
   {
    "duration": 0,
    "start_time": "2022-10-07T14:27:29.615Z"
   },
   {
    "duration": 0,
    "start_time": "2022-10-07T14:27:29.617Z"
   },
   {
    "duration": 0,
    "start_time": "2022-10-07T14:27:29.618Z"
   },
   {
    "duration": 0,
    "start_time": "2022-10-07T14:27:29.621Z"
   },
   {
    "duration": 0,
    "start_time": "2022-10-07T14:27:29.622Z"
   },
   {
    "duration": 0,
    "start_time": "2022-10-07T14:27:29.623Z"
   },
   {
    "duration": 0,
    "start_time": "2022-10-07T14:27:29.625Z"
   },
   {
    "duration": 0,
    "start_time": "2022-10-07T14:27:29.626Z"
   },
   {
    "duration": 1,
    "start_time": "2022-10-07T14:27:29.627Z"
   },
   {
    "duration": 0,
    "start_time": "2022-10-07T14:27:29.629Z"
   },
   {
    "duration": 0,
    "start_time": "2022-10-07T14:27:29.630Z"
   },
   {
    "duration": 0,
    "start_time": "2022-10-07T14:27:29.632Z"
   },
   {
    "duration": 0,
    "start_time": "2022-10-07T14:27:29.633Z"
   },
   {
    "duration": 0,
    "start_time": "2022-10-07T14:27:29.635Z"
   },
   {
    "duration": 0,
    "start_time": "2022-10-07T14:27:29.695Z"
   },
   {
    "duration": 0,
    "start_time": "2022-10-07T14:27:29.697Z"
   },
   {
    "duration": 0,
    "start_time": "2022-10-07T14:27:29.699Z"
   },
   {
    "duration": 0,
    "start_time": "2022-10-07T14:27:29.700Z"
   },
   {
    "duration": 0,
    "start_time": "2022-10-07T14:27:29.701Z"
   },
   {
    "duration": 0,
    "start_time": "2022-10-07T14:27:29.703Z"
   },
   {
    "duration": 0,
    "start_time": "2022-10-07T14:27:29.704Z"
   },
   {
    "duration": 0,
    "start_time": "2022-10-07T14:27:29.705Z"
   },
   {
    "duration": 0,
    "start_time": "2022-10-07T14:27:29.707Z"
   },
   {
    "duration": 0,
    "start_time": "2022-10-07T14:27:29.708Z"
   },
   {
    "duration": 0,
    "start_time": "2022-10-07T14:27:29.710Z"
   },
   {
    "duration": 0,
    "start_time": "2022-10-07T14:27:29.711Z"
   },
   {
    "duration": 0,
    "start_time": "2022-10-07T14:27:29.713Z"
   },
   {
    "duration": 0,
    "start_time": "2022-10-07T14:27:29.714Z"
   },
   {
    "duration": 0,
    "start_time": "2022-10-07T14:27:29.715Z"
   },
   {
    "duration": 0,
    "start_time": "2022-10-07T14:27:29.717Z"
   },
   {
    "duration": 0,
    "start_time": "2022-10-07T14:27:29.718Z"
   },
   {
    "duration": 0,
    "start_time": "2022-10-07T14:27:29.719Z"
   },
   {
    "duration": 0,
    "start_time": "2022-10-07T14:27:29.720Z"
   },
   {
    "duration": 0,
    "start_time": "2022-10-07T14:27:29.721Z"
   },
   {
    "duration": 0,
    "start_time": "2022-10-07T14:27:29.722Z"
   },
   {
    "duration": 0,
    "start_time": "2022-10-07T14:27:29.723Z"
   },
   {
    "duration": 0,
    "start_time": "2022-10-07T14:27:29.725Z"
   },
   {
    "duration": 5090,
    "start_time": "2022-10-07T14:28:03.457Z"
   },
   {
    "duration": 198,
    "start_time": "2022-10-07T14:28:08.549Z"
   },
   {
    "duration": 14,
    "start_time": "2022-10-07T14:28:08.749Z"
   },
   {
    "duration": 11,
    "start_time": "2022-10-07T14:28:08.764Z"
   },
   {
    "duration": 14,
    "start_time": "2022-10-07T14:28:08.777Z"
   },
   {
    "duration": 20,
    "start_time": "2022-10-07T14:28:08.793Z"
   },
   {
    "duration": 143,
    "start_time": "2022-10-07T14:28:08.815Z"
   },
   {
    "duration": 12,
    "start_time": "2022-10-07T14:28:08.959Z"
   },
   {
    "duration": 15,
    "start_time": "2022-10-07T14:28:08.973Z"
   },
   {
    "duration": 83,
    "start_time": "2022-10-07T14:28:08.990Z"
   },
   {
    "duration": 11,
    "start_time": "2022-10-07T14:28:09.074Z"
   },
   {
    "duration": 93,
    "start_time": "2022-10-07T14:28:09.086Z"
   },
   {
    "duration": 12,
    "start_time": "2022-10-07T14:28:09.181Z"
   },
   {
    "duration": 23,
    "start_time": "2022-10-07T14:28:09.195Z"
   },
   {
    "duration": 107,
    "start_time": "2022-10-07T14:28:09.220Z"
   },
   {
    "duration": 11,
    "start_time": "2022-10-07T14:28:09.329Z"
   },
   {
    "duration": 16,
    "start_time": "2022-10-07T14:28:09.342Z"
   },
   {
    "duration": 36,
    "start_time": "2022-10-07T14:28:09.361Z"
   },
   {
    "duration": 7,
    "start_time": "2022-10-07T14:28:09.399Z"
   },
   {
    "duration": 20,
    "start_time": "2022-10-07T14:28:09.408Z"
   },
   {
    "duration": 13,
    "start_time": "2022-10-07T14:28:09.430Z"
   },
   {
    "duration": 55,
    "start_time": "2022-10-07T14:28:09.445Z"
   },
   {
    "duration": 7,
    "start_time": "2022-10-07T14:28:09.501Z"
   },
   {
    "duration": 30,
    "start_time": "2022-10-07T14:28:09.509Z"
   },
   {
    "duration": 6,
    "start_time": "2022-10-07T14:28:09.540Z"
   },
   {
    "duration": 17,
    "start_time": "2022-10-07T14:28:09.547Z"
   },
   {
    "duration": 3938,
    "start_time": "2022-10-07T14:28:09.565Z"
   },
   {
    "duration": 13,
    "start_time": "2022-10-07T14:28:13.505Z"
   },
   {
    "duration": 362,
    "start_time": "2022-10-07T14:28:13.522Z"
   },
   {
    "duration": 20,
    "start_time": "2022-10-07T14:28:13.885Z"
   },
   {
    "duration": 6,
    "start_time": "2022-10-07T14:28:13.907Z"
   },
   {
    "duration": 9,
    "start_time": "2022-10-07T14:28:13.914Z"
   },
   {
    "duration": 2634,
    "start_time": "2022-10-07T14:28:13.925Z"
   },
   {
    "duration": 19,
    "start_time": "2022-10-07T14:28:16.561Z"
   },
   {
    "duration": 19,
    "start_time": "2022-10-07T14:28:16.596Z"
   },
   {
    "duration": 32,
    "start_time": "2022-10-07T14:28:16.617Z"
   },
   {
    "duration": 47,
    "start_time": "2022-10-07T14:28:16.651Z"
   },
   {
    "duration": 3175,
    "start_time": "2022-10-07T14:28:16.700Z"
   },
   {
    "duration": 81887,
    "start_time": "2022-10-07T14:28:19.877Z"
   },
   {
    "duration": 1011,
    "start_time": "2022-10-07T14:29:41.765Z"
   },
   {
    "duration": 4,
    "start_time": "2022-10-07T14:29:42.779Z"
   },
   {
    "duration": 17,
    "start_time": "2022-10-07T14:29:42.784Z"
   },
   {
    "duration": 5,
    "start_time": "2022-10-07T14:29:42.803Z"
   },
   {
    "duration": 6,
    "start_time": "2022-10-07T14:29:42.810Z"
   },
   {
    "duration": 20,
    "start_time": "2022-10-07T14:29:42.818Z"
   },
   {
    "duration": 10060,
    "start_time": "2022-10-07T14:29:42.840Z"
   },
   {
    "duration": 7,
    "start_time": "2022-10-07T14:29:52.902Z"
   },
   {
    "duration": 11001,
    "start_time": "2022-10-07T14:29:52.911Z"
   },
   {
    "duration": 31980,
    "start_time": "2022-10-07T14:30:03.913Z"
   },
   {
    "duration": 20,
    "start_time": "2022-10-07T14:30:35.895Z"
   },
   {
    "duration": 22986,
    "start_time": "2022-10-07T14:30:35.916Z"
   },
   {
    "duration": 404,
    "start_time": "2022-10-07T14:30:58.905Z"
   },
   {
    "duration": 7,
    "start_time": "2022-10-07T14:30:59.311Z"
   },
   {
    "duration": 521,
    "start_time": "2022-10-07T14:30:59.320Z"
   },
   {
    "duration": 274,
    "start_time": "2022-10-07T14:30:59.843Z"
   },
   {
    "duration": 177,
    "start_time": "2022-10-07T14:31:00.118Z"
   },
   {
    "duration": 9,
    "start_time": "2022-10-07T14:31:00.297Z"
   }
  ],
  "kernelspec": {
   "display_name": "Python 3 (ipykernel)",
   "language": "python",
   "name": "python3"
  },
  "language_info": {
   "codemirror_mode": {
    "name": "ipython",
    "version": 3
   },
   "file_extension": ".py",
   "mimetype": "text/x-python",
   "name": "python",
   "nbconvert_exporter": "python",
   "pygments_lexer": "ipython3",
   "version": "3.7.8"
  },
  "toc": {
   "base_numbering": 1,
   "nav_menu": {
    "height": "222px",
    "width": "448px"
   },
   "number_sections": true,
   "sideBar": true,
   "skip_h1_title": true,
   "title_cell": "Table of Contents",
   "title_sidebar": "Contents",
   "toc_cell": false,
   "toc_position": {
    "height": "calc(100% - 180px)",
    "left": "10px",
    "top": "150px",
    "width": "289.6px"
   },
   "toc_section_display": true,
   "toc_window_display": false
  }
 },
 "nbformat": 4,
 "nbformat_minor": 5
}
